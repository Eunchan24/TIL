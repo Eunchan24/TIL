{
 "cells": [
  {
   "cell_type": "markdown",
   "metadata": {},
   "source": [
    "## 너비 우선 탐색 (Breadth-First Search)"
   ]
  },
  {
   "cell_type": "markdown",
   "metadata": {},
   "source": [
    "### 1. BFS 와 DFS 란?\n",
    "* 대표적인 그래프 **탐색** 알고리즘\n",
    "  - 너비 우선 탐색 (Breadth First Search): 정점들과 같은 레벨에 있는 노드들 (형제 노드들)을 먼저 탐색하는 방식\n",
    "  - 깊이 우선 탐색 (Depth First Search): 정점의 자식들을 먼저 탐색하는 방식"
   ]
  },
  {
   "cell_type": "markdown",
   "metadata": {},
   "source": [
    "#### BFS/DFS 방식 이해를 위한 예제\n",
    "- BFS 방식: A - B - C - D - G - H - I - E - F - J \n",
    "  - 한 단계씩 내려가면서, 해당 노드와 같은 레벨에 있는 노드들 (형제 노드들)을 먼저 순회함\n",
    "- DFS 방식: A - B - D - E - F - C - G - H - I - J \n",
    "  - 한 노드의 자식을 타고 끝까지 순회한 후, 다시 돌아와서 다른 형제들의 자식을 타고 내려가며 순화함\n",
    "\n",
    "<img src=\"https://www.fun-coding.org/00_Images/BFSDFS.png\" width=700>"
   ]
  },
  {
   "cell_type": "markdown",
   "metadata": {},
   "source": [
    "### 2. 파이썬으로 그래프를 표현하는 방법\n",
    "- 파이썬에서 제공하는 딕셔너리와 리스트 자료 구조를 활용해서 그래프를 표현할 수 있음"
   ]
  },
  {
   "cell_type": "markdown",
   "metadata": {},
   "source": [
    "### 그래프 예와 파이썬 표현\n",
    "<img src=\"https://www.fun-coding.org/00_Images/bfsgraph.png\" width=700>"
   ]
  },
  {
   "cell_type": "code",
   "execution_count": 4,
   "metadata": {},
   "outputs": [],
   "source": [
    "graph = dict()\n",
    "\n",
    "graph['A'] = ['B', 'C']\n",
    "graph['B'] = ['A', 'D']\n",
    "graph['C'] = ['A', 'G', 'H', 'I']\n",
    "graph['D'] = ['B', 'E', 'F']\n",
    "graph['E'] = ['D']\n",
    "graph['F'] = ['D']\n",
    "graph['G'] = ['C']\n",
    "graph['H'] = ['C']\n",
    "graph['I'] = ['C', 'J']\n",
    "graph['J'] = ['I']"
   ]
  },
  {
   "cell_type": "code",
   "execution_count": 7,
   "metadata": {},
   "outputs": [
    {
     "data": {
      "text/plain": [
       "{'A': ['B', 'C'],\n",
       " 'B': ['A', 'D'],\n",
       " 'C': ['A', 'G', 'H', 'I'],\n",
       " 'D': ['B', 'E', 'F'],\n",
       " 'E': ['D'],\n",
       " 'F': ['D'],\n",
       " 'G': ['C'],\n",
       " 'H': ['C'],\n",
       " 'I': ['C', 'J'],\n",
       " 'J': ['I']}"
      ]
     },
     "execution_count": 7,
     "metadata": {},
     "output_type": "execute_result"
    }
   ],
   "source": [
    "graph"
   ]
  },
  {
   "cell_type": "markdown",
   "metadata": {},
   "source": [
    "### 3. BFS 알고리즘 구현\n",
    "\n",
    "- 자료구조 큐를 활용함\n",
    "  - need_visit 큐와 visited 큐, 두 개의 큐를 생성\n",
    "  \n",
    "<img src=\"https://www.fun-coding.org/00_Images/bfsqueue.png\" width=700>"
   ]
  },
  {
   "cell_type": "markdown",
   "metadata": {},
   "source": [
    "- 큐의 구현은 간단히 파이썬 리스트를 활용"
   ]
  },
  {
   "cell_type": "code",
   "execution_count": 25,
   "metadata": {},
   "outputs": [
    {
     "data": {
      "text/plain": [
       "[1, 2, 3, 4, 5]"
      ]
     },
     "execution_count": 25,
     "metadata": {},
     "output_type": "execute_result"
    }
   ],
   "source": [
    "data = [1, 2, 3]\n",
    "data.extend([4,5])\n",
    "data"
   ]
  },
  {
   "cell_type": "code",
   "execution_count": 30,
   "metadata": {},
   "outputs": [],
   "source": [
    "def bfs(graph, start_node):\n",
    "    visited = list()\n",
    "    need_visit = list()\n",
    "    \n",
    "    need_visit.append(start_node)\n",
    "    \n",
    "    while need_visit:\n",
    "        node = need_visit.pop(0)\n",
    "        if node not in visited:\n",
    "            visited.append(node)\n",
    "            need_visit.extend(graph[node])\n",
    "            #print(graph[node])\n",
    "            \n",
    "    return visited\n"
   ]
  },
  {
   "cell_type": "code",
   "execution_count": 31,
   "metadata": {},
   "outputs": [
    {
     "data": {
      "text/plain": [
       "['A', 'B', 'C', 'D', 'G', 'H', 'I', 'E', 'F', 'J']"
      ]
     },
     "execution_count": 31,
     "metadata": {},
     "output_type": "execute_result"
    }
   ],
   "source": [
    "bfs(graph, 'A')"
   ]
  },
  {
   "cell_type": "markdown",
   "metadata": {},
   "source": [
    "<img src=\"https://www.fun-coding.org/00_Images/bfsgraph.png\" width=700>"
   ]
  },
  {
   "cell_type": "markdown",
   "metadata": {},
   "source": [
    "### 4. 시간 복잡도\n",
    "- 일반적인 BFS 시간 복잡도\n",
    "  - 노드 수: V\n",
    "  - 간선 수: E\n",
    "    - 위 코드에서 while need_visit 은 V + E 번 만큼 수행함\n",
    "  - 시간 복잡도: O(V + E)\n",
    "  "
   ]
  },
  {
   "cell_type": "code",
   "execution_count": 32,
   "metadata": {},
   "outputs": [],
   "source": [
    "def bfs(graph, start_node):\n",
    "    visited = list()\n",
    "    need_visit = list()\n",
    "    \n",
    "    need_visit.append(start_node)\n",
    "    count = 0\n",
    "    while need_visit:\n",
    "        count += 1\n",
    "        node = need_visit.pop(0)\n",
    "        if node not in visited:\n",
    "            visited.append(node)\n",
    "            need_visit.extend(graph[node])\n",
    "    print (count)\n",
    "    return visited"
   ]
  },
  {
   "cell_type": "code",
   "execution_count": 33,
   "metadata": {},
   "outputs": [
    {
     "name": "stdout",
     "output_type": "stream",
     "text": [
      "19\n"
     ]
    },
    {
     "data": {
      "text/plain": [
       "['A', 'B', 'C', 'D', 'G', 'H', 'I', 'E', 'F', 'J']"
      ]
     },
     "execution_count": 33,
     "metadata": {},
     "output_type": "execute_result"
    }
   ],
   "source": [
    "bfs(graph, 'A')"
   ]
  },
  {
   "cell_type": "code",
   "execution_count": null,
   "metadata": {},
   "outputs": [],
   "source": []
  }
 ],
 "metadata": {
  "kernelspec": {
   "display_name": "Python 3",
   "language": "python",
   "name": "python3"
  },
  "language_info": {
   "codemirror_mode": {
    "name": "ipython",
    "version": 3
   },
   "file_extension": ".py",
   "mimetype": "text/x-python",
   "name": "python",
   "nbconvert_exporter": "python",
   "pygments_lexer": "ipython3",
   "version": "3.8.8"
  },
  "nbTranslate": {
   "displayLangs": [
    "*"
   ],
   "hotkey": "alt-t",
   "langInMainMenu": true,
   "sourceLang": "en",
   "targetLang": "fr",
   "useGoogleTranslate": true
  }
 },
 "nbformat": 4,
 "nbformat_minor": 4
}
