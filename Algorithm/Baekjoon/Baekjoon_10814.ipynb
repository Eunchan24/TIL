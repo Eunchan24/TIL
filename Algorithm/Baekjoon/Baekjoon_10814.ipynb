{
 "cells": [
  {
   "cell_type": "markdown",
   "id": "127f0a29",
   "metadata": {},
   "source": [
    "### 백준 10814:나이순 정렬\n",
    "- 정렬"
   ]
  },
  {
   "cell_type": "markdown",
   "id": "646efdac",
   "metadata": {},
   "source": [
    "코드 1"
   ]
  },
  {
   "cell_type": "code",
   "execution_count": 9,
   "id": "26272021",
   "metadata": {},
   "outputs": [
    {
     "name": "stdin",
     "output_type": "stream",
     "text": [
      " 2\n",
      " 25 sdfd\n",
      " 43 dsz\n"
     ]
    },
    {
     "name": "stdout",
     "output_type": "stream",
     "text": [
      "25 sdfd\n",
      "43 dsz\n"
     ]
    }
   ],
   "source": [
    "n = int(input())\n",
    "\n",
    "arr = []\n",
    "\n",
    "for _ in range(n):\n",
    "    data = input().split(' ')\n",
    "    arr.append((int(data[0]), data[1]))\n",
    "\n",
    "arr = sorted(arr, key=lambda x:x[0])\n",
    "\n",
    "for i in arr:\n",
    "    print(i[0], i[1])"
   ]
  },
  {
   "cell_type": "code",
   "execution_count": null,
   "id": "30ef2b30",
   "metadata": {},
   "outputs": [],
   "source": []
  }
 ],
 "metadata": {
  "kernelspec": {
   "display_name": "Python 3",
   "language": "python",
   "name": "python3"
  },
  "language_info": {
   "codemirror_mode": {
    "name": "ipython",
    "version": 3
   },
   "file_extension": ".py",
   "mimetype": "text/x-python",
   "name": "python",
   "nbconvert_exporter": "python",
   "pygments_lexer": "ipython3",
   "version": "3.8.8"
  }
 },
 "nbformat": 4,
 "nbformat_minor": 5
}
