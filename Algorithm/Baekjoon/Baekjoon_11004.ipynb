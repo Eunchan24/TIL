{
 "cells": [
  {
   "cell_type": "markdown",
   "id": "9b0f616b",
   "metadata": {},
   "source": [
    "### 백준 11004:K번째 수\n",
    "- 정렬"
   ]
  },
  {
   "cell_type": "code",
   "execution_count": 13,
   "id": "202c33e1",
   "metadata": {},
   "outputs": [],
   "source": [
    "# 코드 "
   ]
  },
  {
   "cell_type": "code",
   "execution_count": 8,
   "id": "88ecc1af",
   "metadata": {},
   "outputs": [
    {
     "name": "stdin",
     "output_type": "stream",
     "text": [
      " 5 2\n",
      " 4 1 2 3 5\n"
     ]
    }
   ],
   "source": [
    "n, m = map(int, input().split())\n",
    "arr = list(map(int, input().split()))"
   ]
  },
  {
   "cell_type": "code",
   "execution_count": 12,
   "id": "ea5777f5",
   "metadata": {},
   "outputs": [
    {
     "name": "stdout",
     "output_type": "stream",
     "text": [
      "[1, 2, 3, 4, 5]\n",
      "2\n"
     ]
    }
   ],
   "source": [
    "arr = sorted(arr)\n",
    "print(arr)\n",
    "print(arr[m-1])"
   ]
  },
  {
   "cell_type": "code",
   "execution_count": null,
   "id": "43a2f910",
   "metadata": {},
   "outputs": [],
   "source": []
  }
 ],
 "metadata": {
  "kernelspec": {
   "display_name": "Python 3",
   "language": "python",
   "name": "python3"
  },
  "language_info": {
   "codemirror_mode": {
    "name": "ipython",
    "version": 3
   },
   "file_extension": ".py",
   "mimetype": "text/x-python",
   "name": "python",
   "nbconvert_exporter": "python",
   "pygments_lexer": "ipython3",
   "version": "3.8.8"
  }
 },
 "nbformat": 4,
 "nbformat_minor": 5
}
