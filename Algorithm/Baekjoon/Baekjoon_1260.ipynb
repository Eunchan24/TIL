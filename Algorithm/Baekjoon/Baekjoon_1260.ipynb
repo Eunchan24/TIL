{
 "cells": [
  {
   "cell_type": "markdown",
   "id": "71610e86",
   "metadata": {},
   "source": [
    "### 1260:DFS와 BFS\n",
    "- DFS BFS"
   ]
  },
  {
   "cell_type": "markdown",
   "id": "3ee32a36",
   "metadata": {},
   "source": [
    "이거는 외우자!!"
   ]
  },
  {
   "cell_type": "code",
   "execution_count": 4,
   "id": "00dfb35b",
   "metadata": {},
   "outputs": [],
   "source": [
    "from collections import deque\n",
    "\n",
    "def dfs(v):\n",
    "    print(v, end=' ')\n",
    "    visited[v] = True\n",
    "    for e in adj[v]:\n",
    "        if not(visited[e]):\n",
    "            dfs(e)\n",
    "\n",
    "def bfs(v):\n",
    "    q = deque([v])\n",
    "    while q:\n",
    "        v = q.popleft()\n",
    "        if not(visited[v]):\n",
    "            visited[v] = True\n",
    "            print(v, end=' ')\n",
    "            for e in adj[v]:\n",
    "                if not visited[e]:\n",
    "                    q.append(e)"
   ]
  },
  {
   "cell_type": "code",
   "execution_count": 7,
   "id": "f9f836da",
   "metadata": {},
   "outputs": [
    {
     "name": "stdin",
     "output_type": "stream",
     "text": [
      " 4 5 1\n",
      " 1 2\n",
      " 1 3\n",
      " 1 4\n",
      " 2 4\n",
      " 3 4\n"
     ]
    },
    {
     "name": "stdout",
     "output_type": "stream",
     "text": [
      "1 2 4 3 \n",
      "1 2 3 4 "
     ]
    }
   ],
   "source": [
    "n, m, v = map(int, input().split())\n",
    "adj = [[] for _ in range(n+1)]\n",
    "\n",
    "for _ in range(m):\n",
    "    x, y = map(int, input().split())\n",
    "    adj[x].append(y)\n",
    "    adj[y].append(x)\n",
    "    \n",
    "for e in adj:\n",
    "    e.sort()\n",
    "    \n",
    "visited = [False] * (n + 1)\n",
    "dfs(v)\n",
    "print()\n",
    "visited = [False] * (n + 1)\n",
    "bfs(v)"
   ]
  },
  {
   "cell_type": "code",
   "execution_count": null,
   "id": "b3b74c87",
   "metadata": {},
   "outputs": [],
   "source": []
  }
 ],
 "metadata": {
  "kernelspec": {
   "display_name": "Python 3",
   "language": "python",
   "name": "python3"
  },
  "language_info": {
   "codemirror_mode": {
    "name": "ipython",
    "version": 3
   },
   "file_extension": ".py",
   "mimetype": "text/x-python",
   "name": "python",
   "nbconvert_exporter": "python",
   "pygments_lexer": "ipython3",
   "version": "3.8.8"
  }
 },
 "nbformat": 4,
 "nbformat_minor": 5
}
