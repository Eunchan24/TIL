{
 "cells": [
  {
   "cell_type": "markdown",
   "id": "7909c469",
   "metadata": {},
   "source": [
    "### 백준 1427:소트인사이드\n",
    "- 정렬, 배열"
   ]
  },
  {
   "cell_type": "markdown",
   "id": "680f6dc1",
   "metadata": {},
   "source": [
    "코드 1"
   ]
  },
  {
   "cell_type": "code",
   "execution_count": 5,
   "id": "5faff898",
   "metadata": {},
   "outputs": [
    {
     "name": "stdin",
     "output_type": "stream",
     "text": [
      " 421312\n"
     ]
    }
   ],
   "source": [
    "n =list(map(str,(input())))"
   ]
  },
  {
   "cell_type": "code",
   "execution_count": 15,
   "id": "b3f62b09",
   "metadata": {},
   "outputs": [
    {
     "name": "stdout",
     "output_type": "stream",
     "text": [
      "432211\n"
     ]
    }
   ],
   "source": [
    "arr = []\n",
    "for i in n:\n",
    "    arr.append(i)\n",
    "\n",
    "arr = sorted(arr, reverse=True)\n",
    "print(''.join(arr))"
   ]
  },
  {
   "cell_type": "code",
   "execution_count": null,
   "id": "5f39a501",
   "metadata": {},
   "outputs": [],
   "source": []
  },
  {
   "cell_type": "code",
   "execution_count": null,
   "id": "67a726b2",
   "metadata": {},
   "outputs": [],
   "source": []
  },
  {
   "cell_type": "markdown",
   "id": "f2b65b3d",
   "metadata": {},
   "source": [
    "코드 2"
   ]
  },
  {
   "cell_type": "code",
   "execution_count": 17,
   "id": "e1598e67",
   "metadata": {},
   "outputs": [
    {
     "name": "stdin",
     "output_type": "stream",
     "text": [
      " 21325\n"
     ]
    },
    {
     "name": "stdout",
     "output_type": "stream",
     "text": [
      "53221"
     ]
    }
   ],
   "source": [
    "array  = input()\n",
    "\n",
    "for i in range(9, -1, -1): # 9~0까지의 숫자\n",
    "    for j in array:\n",
    "        if int(j) == i:\n",
    "            print(i, end='')\n",
    "    "
   ]
  },
  {
   "cell_type": "code",
   "execution_count": null,
   "id": "d04dd870",
   "metadata": {},
   "outputs": [],
   "source": []
  },
  {
   "cell_type": "code",
   "execution_count": null,
   "id": "752b57ef",
   "metadata": {},
   "outputs": [],
   "source": []
  }
 ],
 "metadata": {
  "kernelspec": {
   "display_name": "Python 3",
   "language": "python",
   "name": "python3"
  },
  "language_info": {
   "codemirror_mode": {
    "name": "ipython",
    "version": 3
   },
   "file_extension": ".py",
   "mimetype": "text/x-python",
   "name": "python",
   "nbconvert_exporter": "python",
   "pygments_lexer": "ipython3",
   "version": "3.8.8"
  }
 },
 "nbformat": 4,
 "nbformat_minor": 5
}
