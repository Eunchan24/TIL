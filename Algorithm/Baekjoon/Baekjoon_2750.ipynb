{
 "cells": [
  {
   "cell_type": "markdown",
   "id": "fbd8b7f4",
   "metadata": {},
   "source": [
    "### 백준 2750:수 정렬하기\n",
    "- 구현, 정렬"
   ]
  },
  {
   "cell_type": "code",
   "execution_count": 38,
   "id": "c39f8977",
   "metadata": {},
   "outputs": [
    {
     "name": "stdin",
     "output_type": "stream",
     "text": [
      " 4\n",
      " 1\n",
      " 2\n",
      " 3\n",
      " 4\n"
     ]
    },
    {
     "name": "stdout",
     "output_type": "stream",
     "text": [
      "1\n",
      "2\n",
      "3\n",
      "4\n"
     ]
    }
   ],
   "source": [
    "# 코드 1 정렬알고리즘 안쓰고 풀기\n",
    "n = int(input())\n",
    "a = []\n",
    "for _ in range(n):\n",
    "    m = int(input())\n",
    "    a.append(m)\n",
    "\n",
    "arr = sorted(a)\n",
    "arr.reverse()\n",
    "for _ in range(n):\n",
    "    print(arr.pop())"
   ]
  },
  {
   "cell_type": "code",
   "execution_count": 39,
   "id": "62b779be",
   "metadata": {},
   "outputs": [
    {
     "name": "stdin",
     "output_type": "stream",
     "text": [
      " 4\n",
      " 1\n",
      " 4\n",
      " 3\n",
      " 2\n"
     ]
    },
    {
     "name": "stdout",
     "output_type": "stream",
     "text": [
      "1\n",
      "2\n",
      "3\n",
      "4\n"
     ]
    }
   ],
   "source": [
    "# 정렬알고리즘을 사용한 깔끔한 코드\n",
    "n = int(input())\n",
    "arr = []\n",
    "for _ in range(n):\n",
    "    arr.append(int(input()))\n",
    "\n",
    "for i in range(n):\n",
    "    min_index = i\n",
    "    for j in range(i+1, n):\n",
    "        if arr[min_index] > arr[j]:\n",
    "            min_index = j\n",
    "        arr[i], arr[min_index] = arr[min_index], arr[i] # swap\n",
    "    \n",
    "for i in arr:\n",
    "    print(i)"
   ]
  },
  {
   "cell_type": "code",
   "execution_count": null,
   "id": "93d7d596",
   "metadata": {},
   "outputs": [],
   "source": []
  }
 ],
 "metadata": {
  "kernelspec": {
   "display_name": "Python 3",
   "language": "python",
   "name": "python3"
  },
  "language_info": {
   "codemirror_mode": {
    "name": "ipython",
    "version": 3
   },
   "file_extension": ".py",
   "mimetype": "text/x-python",
   "name": "python",
   "nbconvert_exporter": "python",
   "pygments_lexer": "ipython3",
   "version": "3.8.8"
  }
 },
 "nbformat": 4,
 "nbformat_minor": 5
}
