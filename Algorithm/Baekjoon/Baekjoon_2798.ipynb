{
 "cells": [
  {
   "cell_type": "markdown",
   "id": "3d1af0fe",
   "metadata": {},
   "source": [
    "### 백준 2798:블랙잭\n",
    "- 구현, 배열, 완전탐색"
   ]
  },
  {
   "cell_type": "code",
   "execution_count": 27,
   "id": "3d466440",
   "metadata": {},
   "outputs": [
    {
     "name": "stdin",
     "output_type": "stream",
     "text": [
      " 5 21\n",
      " 4 9 11 5 6\n"
     ]
    },
    {
     "name": "stdout",
     "output_type": "stream",
     "text": [
      "21\n"
     ]
    }
   ],
   "source": [
    "n, m = map(int, input().split())\n",
    "a = list(map(int, input().split(' ')))\n",
    "res = 0\n",
    "for i in range(len(a)):\n",
    "    for j in range(i+1, len(a)):\n",
    "        for k in range(j+1, len(a)):\n",
    "            sum_value = a[i] + a[j] + a[k]\n",
    "            if sum_value <= m:\n",
    "                res = max(res, sum_value)\n",
    "print(res)"
   ]
  }
 ],
 "metadata": {
  "kernelspec": {
   "display_name": "Python 3",
   "language": "python",
   "name": "python3"
  },
  "language_info": {
   "codemirror_mode": {
    "name": "ipython",
    "version": 3
   },
   "file_extension": ".py",
   "mimetype": "text/x-python",
   "name": "python",
   "nbconvert_exporter": "python",
   "pygments_lexer": "ipython3",
   "version": "3.8.8"
  }
 },
 "nbformat": 4,
 "nbformat_minor": 5
}
