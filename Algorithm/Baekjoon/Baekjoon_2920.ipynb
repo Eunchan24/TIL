{
 "cells": [
  {
   "cell_type": "markdown",
   "id": "7b18ce15",
   "metadata": {},
   "source": [
    "### 백준 2920번:음계 \n",
    "- 구현, 배열"
   ]
  },
  {
   "cell_type": "code",
   "execution_count": 5,
   "id": "fef93c0a",
   "metadata": {},
   "outputs": [
    {
     "name": "stdin",
     "output_type": "stream",
     "text": [
      " 1 2 3 4 5 6 7 8 \n"
     ]
    },
    {
     "name": "stdout",
     "output_type": "stream",
     "text": [
      "ascending\n"
     ]
    }
   ],
   "source": [
    "# 코드 1\n",
    "a = list(map(int, input().split()))\n",
    "\n",
    "asc = [i for i in range(1,9)]\n",
    "dec = list(reversed(asc))\n",
    "\n",
    "if a == asc :\n",
    "    print('ascending')\n",
    "elif a == dec:\n",
    "    print('descending')\n",
    "else:\n",
    "    print('mixed')"
   ]
  },
  {
   "cell_type": "code",
   "execution_count": 6,
   "id": "b5021968",
   "metadata": {},
   "outputs": [
    {
     "name": "stdin",
     "output_type": "stream",
     "text": [
      " 1 2 3 4 5 6 7 8\n"
     ]
    },
    {
     "name": "stdout",
     "output_type": "stream",
     "text": [
      "ascending\n"
     ]
    }
   ],
   "source": [
    "# 코드 2\n",
    "a = list(map(int, input().split()))\n",
    "\n",
    "asc = True\n",
    "des = True\n",
    "\n",
    "for i in range(1, 8):\n",
    "    if a[i] > a[i -1]:\n",
    "        des = False\n",
    "    elif a[i] < a[i -1]:\n",
    "        asc = False\n",
    "\n",
    "if asc:\n",
    "    print('ascending')\n",
    "elif des:\n",
    "    print('descending')\n",
    "else:\n",
    "    print('mixed')"
   ]
  }
 ],
 "metadata": {
  "kernelspec": {
   "display_name": "Python 3",
   "language": "python",
   "name": "python3"
  },
  "language_info": {
   "codemirror_mode": {
    "name": "ipython",
    "version": 3
   },
   "file_extension": ".py",
   "mimetype": "text/x-python",
   "name": "python",
   "nbconvert_exporter": "python",
   "pygments_lexer": "ipython3",
   "version": "3.8.8"
  }
 },
 "nbformat": 4,
 "nbformat_minor": 5
}
