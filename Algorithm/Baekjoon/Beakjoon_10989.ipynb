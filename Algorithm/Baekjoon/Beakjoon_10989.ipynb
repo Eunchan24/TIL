{
 "cells": [
  {
   "cell_type": "markdown",
   "id": "995ee104",
   "metadata": {},
   "source": [
    "### 백준 10989:수 정렬하기 3\n",
    "- 구현, 정렬"
   ]
  },
  {
   "cell_type": "code",
   "execution_count": 3,
   "id": "2ae99454",
   "metadata": {},
   "outputs": [
    {
     "name": "stdin",
     "output_type": "stream",
     "text": [
      " 4\n",
      " 5\n",
      " 3\n",
      " 7\n",
      " 1\n"
     ]
    },
    {
     "name": "stdout",
     "output_type": "stream",
     "text": [
      "1\n",
      "3\n",
      "5\n",
      "7\n"
     ]
    }
   ],
   "source": [
    "# 코드를 구현했는데 메모리초과로 실패...\n",
    "n =int(input())\n",
    "\n",
    "arr = []\n",
    "\n",
    "for _ in range(n):\n",
    "    arr.append(int(input()))\n",
    "\n",
    "arr = sorted(arr)\n",
    "for i in arr:\n",
    "    print(i)"
   ]
  },
  {
   "cell_type": "markdown",
   "id": "4202309f",
   "metadata": {},
   "source": [
    "### 계수 정렬알고리즘을 사용해야 한다고 한다 \n",
    "- 배열의 인덱스를 특정한 데이터 값으로 여기는 정렬방법\n",
    "- 배열의 크기는 데이터의 범위를 포함할 수 있도록 설정\n",
    "- 데이터가 등장한 횟수를 카운트\n",
    "\n",
    "#### sys의 sys.stdin.readline()으로 받으면 속도가 빨라짐"
   ]
  },
  {
   "cell_type": "code",
   "execution_count": null,
   "id": "b56475f2",
   "metadata": {},
   "outputs": [],
   "source": [
    "# 해결\n",
    "import sys \n",
    "\n",
    "n = int(sys.stdin.readline())\n",
    "arr = [0] * 10001\n",
    "\n",
    "for i in range(n):\n",
    "    data = int(sys.stdin.readline())\n",
    "    arr[data] += 1\n",
    "\n",
    "for i in range(10001):\n",
    "    if arr[i] != 0:\n",
    "        for j in range(arr[i]):\n",
    "            print(i)"
   ]
  }
 ],
 "metadata": {
  "kernelspec": {
   "display_name": "Python 3",
   "language": "python",
   "name": "python3"
  },
  "language_info": {
   "codemirror_mode": {
    "name": "ipython",
    "version": 3
   },
   "file_extension": ".py",
   "mimetype": "text/x-python",
   "name": "python",
   "nbconvert_exporter": "python",
   "pygments_lexer": "ipython3",
   "version": "3.8.8"
  }
 },
 "nbformat": 4,
 "nbformat_minor": 5
}
