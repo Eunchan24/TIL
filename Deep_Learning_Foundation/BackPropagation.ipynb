{
 "cells": [
  {
   "cell_type": "markdown",
   "metadata": {},
   "source": [
    "## 역전파 학습법을 이용한 심층 신경망 학습"
   ]
  },
  {
   "cell_type": "code",
   "execution_count": 1,
   "metadata": {},
   "outputs": [],
   "source": [
    "import time\n",
    "import numpy as np"
   ]
  },
  {
   "cell_type": "markdown",
   "metadata": {},
   "source": [
    "## 유틸리티 함수"
   ]
  },
  {
   "cell_type": "code",
   "execution_count": 2,
   "metadata": {},
   "outputs": [],
   "source": [
    "def _t(x):\n",
    "    return np.transpose(x)\n",
    "\n",
    "def _m(A, B):\n",
    "    return np.matmul(A, B)"
   ]
  },
  {
   "cell_type": "markdown",
   "metadata": {},
   "source": [
    "## Sigmoid 구현"
   ]
  },
  {
   "cell_type": "code",
   "execution_count": 3,
   "metadata": {},
   "outputs": [],
   "source": [
    "class Sigmoid:\n",
    "    def __init__(self):\n",
    "        self.last_o = 1\n",
    "\n",
    "    def __call__(self, x):\n",
    "        self.last_o = 1 / (1.0 + np.exp(-x))\n",
    "        return self.last_o\n",
    "\n",
    "    def grad(self): # sigmoid(x)(1-sigmoid(x))\n",
    "        return self.last_o * (1 - self.last_o)"
   ]
  },
  {
   "cell_type": "markdown",
   "metadata": {},
   "source": [
    "## Mean Squared Error 구현"
   ]
  },
  {
   "cell_type": "code",
   "execution_count": 4,
   "metadata": {},
   "outputs": [],
   "source": [
    "class MeanSquaredError:\n",
    "    def __init__(self):\n",
    "        # gradient\n",
    "        self.dh = 1\n",
    "        self.last_diff = 1        \n",
    "\n",
    "    def __call__(self, h, y): # 1/2 * mean ((h - y)^2)\n",
    "        self.last_diff = h - y\n",
    "        return 1 / 2 * np.mean(np.square(h - y))\n",
    "\n",
    "    def grad(self): # h - y\n",
    "        return self.last_diff"
   ]
  },
  {
   "cell_type": "markdown",
   "metadata": {},
   "source": [
    "## 뉴런 구현"
   ]
  },
  {
   "cell_type": "code",
   "execution_count": 5,
   "metadata": {},
   "outputs": [],
   "source": [
    "class Neuron:\n",
    "    def __init__(self, W, b, a_obj):\n",
    "        # Model parameters\n",
    "        self.W = W\n",
    "        self.b = b\n",
    "        self.a = a_obj()\n",
    "        \n",
    "        # gradient\n",
    "        self.dW = np.zeros_like(self.W)\n",
    "        self.db = np.zeros_like(self.b)\n",
    "        self.dh = np.zeros_like(_t(self.W))\n",
    "        \n",
    "        self.last_x = np.zeros((self.W.shape[0]))\n",
    "        self.last_h = np.zeros((self.W.shape[1]))\n",
    "\n",
    "    def __call__(self, x):\n",
    "        self.last_x = x\n",
    "        self.last_h = _m(_t(self.W), x) + self.b\n",
    "        return self.a(self.last_h)\n",
    "\n",
    "    def grad(self): # dy/dh = W\n",
    "        return self.W * self.a.grad()\n",
    "\n",
    "    def grad_W(self, dh):\n",
    "        grad = np.ones_like(self.W)\n",
    "        grad_a = self.a.grad()\n",
    "        for j in range(grad.shape[1]): # dy/dw = x\n",
    "            grad[:, j] = dh[j] * grad_a[j] * self.last_x\n",
    "        return grad\n",
    "\n",
    "    def grad_b(self, dh): # dy/dh = 1\n",
    "        return dh * self.a.grad()"
   ]
  },
  {
   "cell_type": "markdown",
   "metadata": {},
   "source": [
    "## 심층신경망 구현"
   ]
  },
  {
   "cell_type": "code",
   "execution_count": 6,
   "metadata": {},
   "outputs": [],
   "source": [
    "class DNN:\n",
    "    def __init__(self, hidden_depth, num_neuron, input, output, activation=Sigmoid):\n",
    "        def init_var(i, o):\n",
    "            return np.random.normal(0.0, 0.01, (i, o)), np.zeros((o,))\n",
    "\n",
    "        self.sequence = list()\n",
    "        # First hidden layer\n",
    "        W, b = init_var(input, num_neuron)\n",
    "        self.sequence.append(Neuron(W, b, activation))\n",
    "\n",
    "        # Hidden Layers\n",
    "        for index in range(hidden_depth):\n",
    "            W, b = init_var(num_neuron, num_neuron)\n",
    "            self.sequence.append(Neuron(W, b, activation))\n",
    "\n",
    "        # Output Layer\n",
    "        W, b = init_var(num_neuron, output)\n",
    "        self.sequence.append(Neuron(W, b, activation))\n",
    "\n",
    "    def __call__(self, x):\n",
    "        for layer in self.sequence:\n",
    "            x = layer(x)\n",
    "        return x\n",
    "\n",
    "    def calc_gradient(self, loss_obj):\n",
    "        loss_obj.dh = loss_obj.grad()\n",
    "        self.sequence.append(loss_obj)\n",
    "        \n",
    "        # back-prop loop\n",
    "        for i in range(len(self.sequence) - 1, 0, -1):\n",
    "            l1 = self.sequence[i]\n",
    "            l0 = self.sequence[i - 1]\n",
    "            \n",
    "            l0.dh = _m(l0.grad(), l1.dh)\n",
    "            l0.dW = l0.grad_W(l1.dh)\n",
    "            l0.db = l0.grad_b(l1.dh)\n",
    "        \n",
    "        self.sequence.remove(loss_obj)"
   ]
  },
  {
   "cell_type": "markdown",
   "metadata": {},
   "source": [
    "## 경사하강 학습법"
   ]
  },
  {
   "cell_type": "code",
   "execution_count": 7,
   "metadata": {},
   "outputs": [],
   "source": [
    "def gradient_descent(network, x, y, loss_obj, alpha=0.01):\n",
    "    loss = loss_obj(network(x), y)  # Forward inference\n",
    "    network.calc_gradient(loss_obj)  # Back-propagation\n",
    "    for layer in network.sequence:\n",
    "        layer.W += -alpha * layer.dW\n",
    "        layer.b += -alpha * layer.db\n",
    "    return loss"
   ]
  },
  {
   "cell_type": "markdown",
   "metadata": {},
   "source": [
    "## 동작 테스트"
   ]
  },
  {
   "cell_type": "code",
   "execution_count": 8,
   "metadata": {},
   "outputs": [
    {
     "name": "stdout",
     "output_type": "stream",
     "text": [
      "Epoch 0: Test loss 0.5317463722633876\n",
      "Epoch 1: Test loss 0.5257425083135809\n",
      "Epoch 2: Test loss 0.519807108990418\n",
      "Epoch 3: Test loss 0.5139433211528962\n",
      "Epoch 4: Test loss 0.5081540401823229\n",
      "Epoch 5: Test loss 0.5024419062333404\n",
      "Epoch 6: Test loss 0.49680930260969863\n",
      "Epoch 7: Test loss 0.49125835615743313\n",
      "Epoch 8: Test loss 0.485790939544023\n",
      "Epoch 9: Test loss 0.480408675272709\n",
      "Epoch 10: Test loss 0.4751129412665255\n",
      "Epoch 11: Test loss 0.46990487784662005\n",
      "Epoch 12: Test loss 0.464785395923899\n",
      "Epoch 13: Test loss 0.459755186221576\n",
      "Epoch 14: Test loss 0.45481472934840234\n",
      "Epoch 15: Test loss 0.4499643065477353\n",
      "Epoch 16: Test loss 0.44520401095563444\n",
      "Epoch 17: Test loss 0.440533759211352\n",
      "Epoch 18: Test loss 0.4359533032753826\n",
      "Epoch 19: Test loss 0.43146224232317476\n",
      "Epoch 20: Test loss 0.4270600345962499\n",
      "Epoch 21: Test loss 0.4227460091064121\n",
      "Epoch 22: Test loss 0.4185193771026225\n",
      "Epoch 23: Test loss 0.4143792432236861\n",
      "Epoch 24: Test loss 0.4103246162728858\n",
      "Epoch 25: Test loss 0.4063544195629602\n",
      "Epoch 26: Test loss 0.4024675007911894\n",
      "Epoch 27: Test loss 0.3986626414147575\n",
      "Epoch 28: Test loss 0.39493856550595224\n",
      "Epoch 29: Test loss 0.3912939480751033\n",
      "Epoch 30: Test loss 0.3877274228564944\n",
      "Epoch 31: Test loss 0.38423758955880527\n",
      "Epoch 32: Test loss 0.3808230205870231\n",
      "Epoch 33: Test loss 0.37748226724725575\n",
      "Epoch 34: Test loss 0.3742138654495536\n",
      "Epoch 35: Test loss 0.37101634092677305\n",
      "Epoch 36: Test loss 0.3678882139897752\n",
      "Epoch 37: Test loss 0.3648280038409121\n",
      "Epoch 38: Test loss 0.3618342324688964\n",
      "Epoch 39: Test loss 0.3589054281488367\n",
      "Epoch 40: Test loss 0.35604012857152123\n",
      "Epoch 41: Test loss 0.35323688362601224\n",
      "Epoch 42: Test loss 0.35049425785931265\n",
      "Epoch 43: Test loss 0.34781083263635554\n",
      "Epoch 44: Test loss 0.3451852080228773\n",
      "Epoch 45: Test loss 0.3426160044129027\n",
      "Epoch 46: Test loss 0.3401018639216457\n",
      "Epoch 47: Test loss 0.33764145156362346\n",
      "Epoch 48: Test loss 0.33523345623473666\n",
      "Epoch 49: Test loss 0.3328765915159899\n",
      "Epoch 50: Test loss 0.3305695963154436\n",
      "Epoch 51: Test loss 0.3283112353639148\n",
      "Epoch 52: Test loss 0.32610029957888415\n",
      "Epoch 53: Test loss 0.32393560631003415\n",
      "Epoch 54: Test loss 0.32181599947885353\n",
      "Epoch 55: Test loss 0.31974034962378217\n",
      "Epoch 56: Test loss 0.3177075538614636\n",
      "Epoch 57: Test loss 0.31571653577380737\n",
      "Epoch 58: Test loss 0.31376624522974716\n",
      "Epoch 59: Test loss 0.3118556581498156\n",
      "Epoch 60: Test loss 0.3099837762209352\n",
      "Epoch 61: Test loss 0.30814962656815903\n",
      "Epoch 62: Test loss 0.30635226138946786\n",
      "Epoch 63: Test loss 0.3045907575591526\n",
      "Epoch 64: Test loss 0.3028642162047776\n",
      "Epoch 65: Test loss 0.301171762262224\n",
      "Epoch 66: Test loss 0.2995125440128597\n",
      "Epoch 67: Test loss 0.29788573260646467\n",
      "Epoch 68: Test loss 0.29629052157315583\n",
      "Epoch 69: Test loss 0.29472612632720896\n",
      "Epoch 70: Test loss 0.29319178366535004\n",
      "Epoch 71: Test loss 0.2916867512618043\n",
      "Epoch 72: Test loss 0.2902103071621179\n",
      "Epoch 73: Test loss 0.288761749277533\n",
      "Epoch 74: Test loss 0.2873403948814746\n",
      "Epoch 75: Test loss 0.28594558010951143\n",
      "Epoch 76: Test loss 0.28457665946397437\n",
      "Epoch 77: Test loss 0.2832330053242537\n",
      "Epoch 78: Test loss 0.2819140074636534\n",
      "Epoch 79: Test loss 0.28061907257354696\n",
      "Epoch 80: Test loss 0.27934762379546496\n",
      "Epoch 81: Test loss 0.27809910026163914\n",
      "Epoch 82: Test loss 0.2768729566444309\n",
      "Epoch 83: Test loss 0.27566866271499385\n",
      "Epoch 84: Test loss 0.27448570291143876\n",
      "Epoch 85: Test loss 0.27332357591670997\n",
      "Epoch 86: Test loss 0.27218179424631816\n",
      "Epoch 87: Test loss 0.27105988384602375\n",
      "Epoch 88: Test loss 0.2699573836995234\n",
      "Epoch 89: Test loss 0.2688738454461446\n",
      "Epoch 90: Test loss 0.2678088330085262\n",
      "Epoch 91: Test loss 0.266761922230225\n",
      "Epoch 92: Test loss 0.26573270052316766\n",
      "Epoch 93: Test loss 0.26472076652484056\n",
      "Epoch 94: Test loss 0.2637257297650919\n",
      "Epoch 95: Test loss 0.2627472103424046\n",
      "Epoch 96: Test loss 0.2617848386094817\n",
      "Epoch 97: Test loss 0.2608382548679786\n",
      "Epoch 98: Test loss 0.2599071090722016\n",
      "Epoch 99: Test loss 0.25899106054158866\n",
      "0.07264161109924316 seconds elapsed.\n"
     ]
    }
   ],
   "source": [
    "x = np.random.normal(0.0, 1.0, (10,))\n",
    "y = np.random.normal(0.0, 1.0, (2,))\n",
    "\n",
    "t = time.time()\n",
    "dnn = DNN(hidden_depth=5, num_neuron=32, input=10, output=2, activation=Sigmoid)\n",
    "loss_obj = MeanSquaredError()\n",
    "for epoch in range(100):\n",
    "    loss = gradient_descent(dnn, x, y, loss_obj, alpha=0.01)\n",
    "    print('Epoch {}: Test loss {}'.format(epoch, loss))\n",
    "print('{} seconds elapsed.'.format(time.time() - t))"
   ]
  },
  {
   "cell_type": "code",
   "execution_count": null,
   "metadata": {},
   "outputs": [],
   "source": []
  }
 ],
 "metadata": {
  "kernelspec": {
   "display_name": "Python 3",
   "language": "python",
   "name": "python3"
  },
  "language_info": {
   "codemirror_mode": {
    "name": "ipython",
    "version": 3
   },
   "file_extension": ".py",
   "mimetype": "text/x-python",
   "name": "python",
   "nbconvert_exporter": "python",
   "pygments_lexer": "ipython3",
   "version": "3.8.8"
  }
 },
 "nbformat": 4,
 "nbformat_minor": 4
}
