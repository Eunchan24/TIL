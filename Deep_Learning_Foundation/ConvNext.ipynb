{
 "cells": [
  {
   "cell_type": "markdown",
   "id": "180bce0d-d29d-4129-9b20-dea1c796680d",
   "metadata": {},
   "source": [
    "## [A ConvNet for the 2020s](https://arxiv.org/abs/2201.03545)\n",
    "\n",
    "![ConvNext](./src_img/ConvNext.png)\n",
    "\n",
    "- Optimizer AdamW\n",
    "- Residual Block을 Transformer Block 비슷하게 구성\n",
    "- Convolution은 depthwise convolution(단, width 를 크게)\n",
    "- Kernel Size 7x7 \n",
    "- Activation GELU, Activation 과 normalization layer는 block마다 적용\n",
    "- Down-sampling은 Stage 마다 적용\n",
    "\n",
    "### Transformer 와 같은 FLOPs 대비 높은성능\n",
    "### vision task에는 적합하나 Transformer는 넓은 분야에 유연하게 적용가능 "
   ]
  },
  {
   "cell_type": "code",
   "execution_count": 103,
   "id": "172f0165-38f4-420e-adc0-b516444f86f4",
   "metadata": {},
   "outputs": [],
   "source": [
    "import torch\n",
    "from torch import nn\n",
    "from torch import Tensor\n",
    "from typing import List"
   ]
  },
  {
   "cell_type": "code",
   "execution_count": 104,
   "id": "4129bb42-b675-419e-8e60-4919b689728e",
   "metadata": {},
   "outputs": [],
   "source": [
    "class ConvNormAct(nn.Sequential):\n",
    "    \"\"\"\n",
    "    A lttle util layer composed by (conv) -> (norm) -> (act) layers.\n",
    "    \"\"\"\n",
    "    def __init__(\n",
    "        self,\n",
    "        in_features: int,\n",
    "        out_features: int,\n",
    "        kernel_size: int, \n",
    "        norm = nn.BatchNorm2d,\n",
    "        act = nn.ReLU,\n",
    "        **kwargs\n",
    "    ):\n",
    "        super().__init__(\n",
    "            nn.Conv2d(\n",
    "                in_features,\n",
    "                out_features,\n",
    "                kernel_size=kernel_size,\n",
    "                padding=kernel_size // 2,\n",
    "                **kwargs\n",
    "            ),\n",
    "            norm(out_features),\n",
    "            act(),\n",
    "        )\n",
    "\n",
    "\n",
    "\n",
    "\n",
    "from torchvision.ops import StochasticDepth\n",
    "\n",
    "class LayerScaler(nn.Module):\n",
    "    def __init__(self, init_value: float, dimensions: int):\n",
    "        super().__init__()\n",
    "        self.gamma = nn.Parameter(init_value * torch.ones((dimensions)), \n",
    "                                    requires_grad=True)\n",
    "        \n",
    "    def forward(self, x):\n",
    "        return self.gamma[None,...,None,None] * x\n",
    "\n",
    "class BottleNeckBlock(nn.Module):\n",
    "    def __init__(\n",
    "        self,\n",
    "        in_features: int,\n",
    "        out_features: int,\n",
    "        expansion: int = 4,\n",
    "        drop_p: float = .0,\n",
    "        layer_scaler_init_value: float = 1e-6,\n",
    "    ):\n",
    "        super().__init__()\n",
    "        expanded_features = out_features * expansion\n",
    "        self.block = nn.Sequential(\n",
    "            # narrow -> wide (with depth-wise and bigger kernel)\n",
    "            nn.Conv2d(\n",
    "                in_features, in_features, kernel_size=7, padding=3, bias=False, groups=in_features\n",
    "            ),\n",
    "            # GroupNorm with num_groups=1 is the same as LayerNorm but works for 2D data\n",
    "            nn.GroupNorm(num_groups=1, num_channels=in_features),\n",
    "            # wide -> wide \n",
    "            nn.Conv2d(in_features, expanded_features, kernel_size=1),\n",
    "            nn.GELU(),\n",
    "            # wide -> narrow\n",
    "            nn.Conv2d(expanded_features, out_features, kernel_size=1),\n",
    "        )\n",
    "        self.layer_scaler = LayerScaler(layer_scaler_init_value, out_features)\n",
    "        self.drop_path = StochasticDepth(drop_p, mode=\"batch\")\n",
    "\n",
    "        \n",
    "    def forward(self, x: Tensor) -> Tensor:\n",
    "        res = x\n",
    "        x = self.block(x)\n",
    "        x = self.layer_scaler(x)\n",
    "        x = self.drop_path(x)\n",
    "        x += res\n",
    "        return x"
   ]
  },
  {
   "cell_type": "code",
   "execution_count": 105,
   "id": "a95fab0f-1c37-433c-a254-ae4e4be28e4c",
   "metadata": {},
   "outputs": [],
   "source": [
    "'''\n",
    "down-sampling\n",
    "'''\n",
    "\n",
    "class ConvNexStage(nn.Sequential):\n",
    "    def __init__(\n",
    "        self, in_features: int, out_features: int, depth: int, **kwargs\n",
    "    ):\n",
    "        super().__init__(\n",
    "            # add the downsampler\n",
    "            nn.Sequential(\n",
    "                nn.GroupNorm(num_groups=1, num_channels=in_features),\n",
    "                nn.Conv2d(in_features, out_features, kernel_size=2, stride=2)\n",
    "            ),\n",
    "            *[\n",
    "                BottleNeckBlock(out_features, out_features, **kwargs)\n",
    "                for _ in range(depth)\n",
    "            ],\n",
    "        )\n",
    "        \n",
    "class ConvNextStem(nn.Sequential):\n",
    "    def __init__(self, in_features: int, out_features: int):\n",
    "        super().__init__(\n",
    "            nn.Conv2d(in_features, out_features, kernel_size=4, stride=4),\n",
    "            nn.BatchNorm2d(out_features)\n",
    "        )"
   ]
  },
  {
   "cell_type": "code",
   "execution_count": 106,
   "id": "c4c6a7f1-4d56-4738-b7e7-966aa6efbf2f",
   "metadata": {},
   "outputs": [
    {
     "data": {
      "text/plain": [
       "torch.Size([1, 62, 7, 7])"
      ]
     },
     "execution_count": 106,
     "metadata": {},
     "output_type": "execute_result"
    }
   ],
   "source": [
    "stage = ConvNexStage(32, 62, depth=1)\n",
    "stage(torch.randn(1, 32, 14, 14)).shape"
   ]
  },
  {
   "cell_type": "code",
   "execution_count": 107,
   "id": "b510ca57-66da-4c7e-8641-38e911d4952a",
   "metadata": {},
   "outputs": [],
   "source": [
    "class ConvNextEncoder(nn.Module):\n",
    "    def __init__(\n",
    "        self,\n",
    "        in_channels: int,\n",
    "        stem_features: int,\n",
    "        depths: List[int],\n",
    "        widths: List[int],\n",
    "        drop_p: float = .0,\n",
    "    ):\n",
    "        super().__init__()\n",
    "        self.stem = ConvNextStem(in_channels, stem_features)\n",
    "\n",
    "        in_out_widths = list(zip(widths, widths[1:]))\n",
    "        # create drop paths probabilities (one for each stage)\n",
    "        drop_probs = [x.item() for x in torch.linspace(0, drop_p, sum(depths))] \n",
    "        \n",
    "        self.stages = nn.ModuleList(\n",
    "            [\n",
    "                ConvNexStage(stem_features, widths[0], depths[0], drop_p=drop_probs[0]),\n",
    "                *[\n",
    "                    ConvNexStage(in_features, out_features, depth, drop_p=drop_p)\n",
    "                    for (in_features, out_features), depth, drop_p in zip(\n",
    "                        in_out_widths, depths[1:], drop_probs[1:]\n",
    "                    )\n",
    "                ],\n",
    "            ]\n",
    "        )\n",
    "        \n",
    "\n",
    "    def forward(self, x):\n",
    "        x = self.stem(x)\n",
    "        for stage in self.stages:\n",
    "            x = stage(x)\n",
    "        return x"
   ]
  },
  {
   "cell_type": "code",
   "execution_count": 108,
   "id": "28d935b2-d861-436a-aa64-21a3561cfe35",
   "metadata": {},
   "outputs": [
    {
     "data": {
      "text/plain": [
       "torch.Size([1, 2048, 8, 8])"
      ]
     },
     "execution_count": 108,
     "metadata": {},
     "output_type": "execute_result"
    }
   ],
   "source": [
    "image = torch.rand(1, 3, 512, 512)\n",
    "encoder = ConvNextEncoder(in_channels=3, stem_features=64, depths=[3, 3, 9, 3], widths=[256, 512, 1024, 2048])\n",
    "encoder(image).shape"
   ]
  },
  {
   "cell_type": "code",
   "execution_count": 110,
   "id": "003a2563-4a22-455f-8a14-f688dcda83cd",
   "metadata": {},
   "outputs": [],
   "source": [
    "class ClassificationHead(nn.Sequential):\n",
    "    def __init__(self, num_channels: int, num_classes: int = 1000):\n",
    "        super().__init__(\n",
    "            nn.AdaptiveAvgPool2d((1, 1)),\n",
    "            nn.Flatten(1),\n",
    "            nn.LayerNorm(num_channels),\n",
    "            nn.Linear(num_channels, num_classes)\n",
    "        )\n",
    "    \n",
    "    \n",
    "class ConvNextForImageClassification(nn.Sequential):\n",
    "    def __init__(self,  \n",
    "                 in_channels: int,\n",
    "                 stem_features: int,\n",
    "                 depths: List[int],\n",
    "                 widths: List[int],\n",
    "                 drop_p: float = .0,\n",
    "                 num_classes: int = 1000):\n",
    "        super().__init__()\n",
    "        self.encoder = ConvNextEncoder(in_channels, stem_features, depths, widths, drop_p)\n",
    "        self.head = ClassificationHead(widths[-1], num_classes)"
   ]
  },
  {
   "cell_type": "code",
   "execution_count": 111,
   "id": "95b189cc-8a56-4df1-8049-7c216da7d1f4",
   "metadata": {},
   "outputs": [
    {
     "data": {
      "text/plain": [
       "torch.Size([1, 1000])"
      ]
     },
     "execution_count": 111,
     "metadata": {},
     "output_type": "execute_result"
    }
   ],
   "source": [
    "\n",
    "image = torch.rand(1, 3, 224, 224)\n",
    "classifier = ConvNextForImageClassification(in_channels=3, stem_features=64, depths=[3,4,6,4], widths=[256, 512, 1024, 2048])\n",
    "classifier(image).shape"
   ]
  },
  {
   "cell_type": "code",
   "execution_count": null,
   "id": "4ef50009-d9ff-41c1-aedb-895f7c5390c9",
   "metadata": {},
   "outputs": [],
   "source": []
  }
 ],
 "metadata": {
  "kernelspec": {
   "display_name": "fc",
   "language": "python",
   "name": "fc"
  },
  "language_info": {
   "codemirror_mode": {
    "name": "ipython",
    "version": 3
   },
   "file_extension": ".py",
   "mimetype": "text/x-python",
   "name": "python",
   "nbconvert_exporter": "python",
   "pygments_lexer": "ipython3",
   "version": "3.8.13"
  }
 },
 "nbformat": 4,
 "nbformat_minor": 5
}
