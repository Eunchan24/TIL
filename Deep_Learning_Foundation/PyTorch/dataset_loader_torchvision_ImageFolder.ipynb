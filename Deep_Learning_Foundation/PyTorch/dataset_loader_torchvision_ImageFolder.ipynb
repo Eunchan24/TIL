{
 "cells": [
  {
   "cell_type": "markdown",
   "metadata": {},
   "source": [
    "# PyTorch"
   ]
  },
  {
   "cell_type": "code",
   "execution_count": 7,
   "metadata": {},
   "outputs": [],
   "source": [
    "import torch\n",
    "\n",
    "import os\n",
    "\n",
    "import torch.nn as nn\n",
    "import torch.nn.functional as F\n",
    "import torch.optim as optim\n",
    "\n",
    "from torchvision import datasets, transforms"
   ]
  },
  {
   "cell_type": "code",
   "execution_count": 8,
   "metadata": {},
   "outputs": [],
   "source": [
    "seed = 1\n",
    "\n",
    "lr = 0.001\n",
    "momentum = 0.5\n",
    "\n",
    "batch_size = 64\n",
    "test_batch_size = 64\n",
    "\n",
    "epochs = 5\n",
    "\n",
    "no_cuda = False\n",
    "log_interval = 100"
   ]
  },
  {
   "cell_type": "markdown",
   "metadata": {},
   "source": [
    "## Model"
   ]
  },
  {
   "cell_type": "code",
   "execution_count": 9,
   "metadata": {},
   "outputs": [],
   "source": [
    "class Net(nn.Module):\n",
    "    def __init__(self):\n",
    "        super(Net, self).__init__()\n",
    "        self.conv1 = nn.Conv2d(3, 20, 5, 1)\n",
    "        self.conv2 = nn.Conv2d(20, 50, 5, 1)\n",
    "        self.fc1 = nn.Linear(4*4*50, 500)\n",
    "        self.fc2 = nn.Linear(500, 10)\n",
    "\n",
    "    def forward(self, x):\n",
    "        x = F.relu(self.conv1(x))\n",
    "        x = F.max_pool2d(x, 2, 2)\n",
    "        x = F.relu(self.conv2(x))\n",
    "        x = F.max_pool2d(x, 2, 2)\n",
    "        x = x.view(-1, 4*4*50)\n",
    "        x = F.relu(self.fc1(x))\n",
    "        x = self.fc2(x)\n",
    "        return F.log_softmax(x, dim=1)"
   ]
  },
  {
   "cell_type": "markdown",
   "metadata": {},
   "source": [
    "## Preprocess"
   ]
  },
  {
   "cell_type": "code",
   "execution_count": 17,
   "metadata": {},
   "outputs": [],
   "source": [
    "train_dir = '/Users/eunchankim/Desktop/dataset/mnist_png/training/'\n",
    "test_dir = '/Users/eunchankim/Desktop/dataset/mnist_png/testing/'"
   ]
  },
  {
   "cell_type": "markdown",
   "metadata": {},
   "source": [
    "grayscale은 안 되는 이유\n",
    "\n",
    "https://github.com/pytorch/vision/blob/master/torchvision/datasets/folder.py#L157\n",
    "\n",
    "RGB로 되어있음 토치비전에"
   ]
  },
  {
   "cell_type": "code",
   "execution_count": 18,
   "metadata": {},
   "outputs": [],
   "source": [
    "torch.manual_seed(seed)\n",
    "\n",
    "use_cuda = not no_cuda and torch.cuda.is_available()\n",
    "device = torch.device(\"cuda\" if use_cuda else \"cpu\")\n",
    "\n"
   ]
  },
  {
   "cell_type": "code",
   "execution_count": 24,
   "metadata": {},
   "outputs": [],
   "source": [
    "train_dataset = datasets.ImageFolder(root=train_dir,\n",
    "                                    transform=transforms.Compose([\n",
    "                                        transforms.ToTensor(),\n",
    "                                        transforms.Normalize((0.1307,),(0.3081,))\n",
    "                                    ]))\n",
    "\n",
    "test_dataset = datasets.ImageFolder(root=test_dir,\n",
    "                                    transform=transforms.Compose([\n",
    "                                        transforms.ToTensor(),\n",
    "                                        transforms.Normalize((0.1307,),(0.3081,))\n",
    "                                    ]))"
   ]
  },
  {
   "cell_type": "code",
   "execution_count": 25,
   "metadata": {},
   "outputs": [],
   "source": [
    "train_loader = torch.utils.data.DataLoader(train_dataset,\n",
    "                                          batch_size=batch_size,\n",
    "                                          shuffle=True)\n",
    "\n",
    "test_loader = torch.utils.data.DataLoader(test_dataset,\n",
    "                                          batch_size=batch_size,\n",
    "                                          shuffle=False)"
   ]
  },
  {
   "cell_type": "code",
   "execution_count": null,
   "metadata": {},
   "outputs": [],
   "source": []
  },
  {
   "cell_type": "markdown",
   "metadata": {},
   "source": [
    "## Optimization"
   ]
  },
  {
   "cell_type": "code",
   "execution_count": 26,
   "metadata": {},
   "outputs": [],
   "source": [
    "model = Net().to(device)\n",
    "optimizer = optim.SGD(model.parameters(), lr=lr, momentum=momentum)"
   ]
  },
  {
   "cell_type": "markdown",
   "metadata": {},
   "source": [
    "## Training"
   ]
  },
  {
   "cell_type": "code",
   "execution_count": 27,
   "metadata": {},
   "outputs": [
    {
     "name": "stdout",
     "output_type": "stream",
     "text": [
      "Train Epoch: 1 [0/60000 (0%)]\tLoss: 2.311934\n",
      "Train Epoch: 1 [6400/60000 (11%)]\tLoss: 2.219229\n",
      "Train Epoch: 1 [12800/60000 (21%)]\tLoss: 2.015817\n",
      "Train Epoch: 1 [19200/60000 (32%)]\tLoss: 1.669412\n",
      "Train Epoch: 1 [25600/60000 (43%)]\tLoss: 1.140868\n",
      "Train Epoch: 1 [32000/60000 (53%)]\tLoss: 0.679229\n",
      "Train Epoch: 1 [38400/60000 (64%)]\tLoss: 0.412383\n",
      "Train Epoch: 1 [44800/60000 (75%)]\tLoss: 0.460262\n",
      "Train Epoch: 1 [51200/60000 (85%)]\tLoss: 0.421845\n",
      "Train Epoch: 1 [57600/60000 (96%)]\tLoss: 0.541494\n",
      "\n",
      "Test set: Average loss: 0.3445, Accuracy: 9081/10000 (91%)\n",
      "\n",
      "Train Epoch: 2 [0/60000 (0%)]\tLoss: 0.452278\n",
      "Train Epoch: 2 [6400/60000 (11%)]\tLoss: 0.296954\n",
      "Train Epoch: 2 [12800/60000 (21%)]\tLoss: 0.209955\n",
      "Train Epoch: 2 [19200/60000 (32%)]\tLoss: 0.388906\n",
      "Train Epoch: 2 [25600/60000 (43%)]\tLoss: 0.448275\n",
      "Train Epoch: 2 [32000/60000 (53%)]\tLoss: 0.433829\n",
      "Train Epoch: 2 [38400/60000 (64%)]\tLoss: 0.215370\n",
      "Train Epoch: 2 [44800/60000 (75%)]\tLoss: 0.296819\n",
      "Train Epoch: 2 [51200/60000 (85%)]\tLoss: 0.183620\n",
      "Train Epoch: 2 [57600/60000 (96%)]\tLoss: 0.247080\n",
      "\n",
      "Test set: Average loss: 0.2222, Accuracy: 9374/10000 (94%)\n",
      "\n",
      "Train Epoch: 3 [0/60000 (0%)]\tLoss: 0.135919\n",
      "Train Epoch: 3 [6400/60000 (11%)]\tLoss: 0.343694\n",
      "Train Epoch: 3 [12800/60000 (21%)]\tLoss: 0.138851\n",
      "Train Epoch: 3 [19200/60000 (32%)]\tLoss: 0.182801\n",
      "Train Epoch: 3 [25600/60000 (43%)]\tLoss: 0.196271\n",
      "Train Epoch: 3 [32000/60000 (53%)]\tLoss: 0.284051\n",
      "Train Epoch: 3 [38400/60000 (64%)]\tLoss: 0.163819\n",
      "Train Epoch: 3 [44800/60000 (75%)]\tLoss: 0.125787\n",
      "Train Epoch: 3 [51200/60000 (85%)]\tLoss: 0.208805\n",
      "Train Epoch: 3 [57600/60000 (96%)]\tLoss: 0.202397\n",
      "\n",
      "Test set: Average loss: 0.1679, Accuracy: 9532/10000 (95%)\n",
      "\n",
      "Train Epoch: 4 [0/60000 (0%)]\tLoss: 0.160825\n",
      "Train Epoch: 4 [6400/60000 (11%)]\tLoss: 0.210705\n",
      "Train Epoch: 4 [12800/60000 (21%)]\tLoss: 0.211434\n",
      "Train Epoch: 4 [19200/60000 (32%)]\tLoss: 0.153738\n",
      "Train Epoch: 4 [25600/60000 (43%)]\tLoss: 0.126522\n",
      "Train Epoch: 4 [32000/60000 (53%)]\tLoss: 0.457455\n",
      "Train Epoch: 4 [38400/60000 (64%)]\tLoss: 0.070807\n",
      "Train Epoch: 4 [44800/60000 (75%)]\tLoss: 0.316011\n",
      "Train Epoch: 4 [51200/60000 (85%)]\tLoss: 0.102545\n",
      "Train Epoch: 4 [57600/60000 (96%)]\tLoss: 0.149868\n",
      "\n",
      "Test set: Average loss: 0.1422, Accuracy: 9582/10000 (96%)\n",
      "\n",
      "Train Epoch: 5 [0/60000 (0%)]\tLoss: 0.279460\n",
      "Train Epoch: 5 [6400/60000 (11%)]\tLoss: 0.101647\n",
      "Train Epoch: 5 [12800/60000 (21%)]\tLoss: 0.110816\n",
      "Train Epoch: 5 [19200/60000 (32%)]\tLoss: 0.167270\n",
      "Train Epoch: 5 [25600/60000 (43%)]\tLoss: 0.052547\n",
      "Train Epoch: 5 [32000/60000 (53%)]\tLoss: 0.094814\n",
      "Train Epoch: 5 [38400/60000 (64%)]\tLoss: 0.140816\n",
      "Train Epoch: 5 [44800/60000 (75%)]\tLoss: 0.232199\n",
      "Train Epoch: 5 [51200/60000 (85%)]\tLoss: 0.139483\n",
      "Train Epoch: 5 [57600/60000 (96%)]\tLoss: 0.077316\n",
      "\n",
      "Test set: Average loss: 0.1180, Accuracy: 9656/10000 (97%)\n",
      "\n"
     ]
    }
   ],
   "source": [
    "for epoch in range(1, epochs + 1):\n",
    "    # Train Mode\n",
    "    model.train()\n",
    "\n",
    "    for batch_idx, (data, target) in enumerate(train_loader):\n",
    "        data, target = data.to(device), target.to(device)\n",
    "        optimizer.zero_grad()  # backpropagation 계산하기 전에 0으로 기울기 계산\n",
    "        output = model(data)\n",
    "        loss = F.nll_loss(output, target)  # https://pytorch.org/docs/stable/nn.html#nll-loss\n",
    "        loss.backward()\n",
    "        optimizer.step()  \n",
    "\n",
    "        if batch_idx % log_interval == 0:\n",
    "            print('Train Epoch: {} [{}/{} ({:.0f}%)]\\tLoss: {:.6f}'.format(\n",
    "                epoch, batch_idx * len(data), len(train_loader.dataset),\n",
    "                100. * batch_idx / len(train_loader), loss.item()))\n",
    "    \n",
    "    # Test mode\n",
    "    model.eval()  # batch norm이나 dropout 등을 train mode 변환\n",
    "    test_loss = 0\n",
    "    correct = 0\n",
    "    with torch.no_grad():  # autograd engine, 즉 backpropagatin이나 gradient 계산 등을 꺼서 memory usage를 줄이고 속도를 높임\n",
    "        for data, target in test_loader:\n",
    "            data, target = data.to(device), target.to(device)\n",
    "            output = model(data)\n",
    "            test_loss += F.nll_loss(output, target, reduction='sum').item() # sum up batch loss\n",
    "            pred = output.argmax(dim=1, keepdim=True) # get the index of the max log-probability\n",
    "            correct += pred.eq(target.view_as(pred)).sum().item()  # pred와 target과 같은지 확인\n",
    "\n",
    "    test_loss /= len(test_loader.dataset)\n",
    "\n",
    "    print('\\nTest set: Average loss: {:.4f}, Accuracy: {}/{} ({:.0f}%)\\n'.format(\n",
    "        test_loss, correct, len(test_loader.dataset),\n",
    "        100. * correct / len(test_loader.dataset)))"
   ]
  },
  {
   "cell_type": "code",
   "execution_count": null,
   "metadata": {},
   "outputs": [],
   "source": []
  },
  {
   "cell_type": "code",
   "execution_count": null,
   "metadata": {},
   "outputs": [],
   "source": []
  }
 ],
 "metadata": {
  "kernelspec": {
   "display_name": "Python 3",
   "language": "python",
   "name": "python3"
  },
  "language_info": {
   "codemirror_mode": {
    "name": "ipython",
    "version": 3
   },
   "file_extension": ".py",
   "mimetype": "text/x-python",
   "name": "python",
   "nbconvert_exporter": "python",
   "pygments_lexer": "ipython3",
   "version": "3.8.8"
  }
 },
 "nbformat": 4,
 "nbformat_minor": 4
}
