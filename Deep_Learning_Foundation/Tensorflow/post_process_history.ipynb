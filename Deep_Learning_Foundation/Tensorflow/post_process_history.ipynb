{
 "cells": [
  {
   "cell_type": "markdown",
   "metadata": {},
   "source": [
    "# TensorFlow 2.0"
   ]
  },
  {
   "cell_type": "code",
   "execution_count": 1,
   "metadata": {},
   "outputs": [],
   "source": [
    "import os\n",
    "from glob import glob\n",
    "from datetime import datetime\n",
    "\n",
    "import numpy as np\n",
    "\n",
    "import tensorflow as tf\n",
    "from tensorflow.keras import layers\n",
    "\n",
    "from tensorflow.keras import datasets \n",
    "\n",
    "import matplotlib.pyplot as plt\n",
    "\n",
    "%matplotlib inline"
   ]
  },
  {
   "cell_type": "markdown",
   "metadata": {},
   "source": [
    "## Hyperparameter Tunning"
   ]
  },
  {
   "cell_type": "code",
   "execution_count": 26,
   "metadata": {},
   "outputs": [],
   "source": [
    "num_epochs = 100\n",
    "batch_size = 32\n",
    "\n",
    "learning_rate = 0.001\n",
    "\n",
    "dropout_rate = 0.5\n",
    "\n",
    "input_shape = (32, 32, 3)\n",
    "num_classes = 10"
   ]
  },
  {
   "cell_type": "markdown",
   "metadata": {},
   "source": [
    "## Build Model"
   ]
  },
  {
   "cell_type": "code",
   "execution_count": 27,
   "metadata": {},
   "outputs": [],
   "source": [
    "inputs = layers.Input(input_shape)\n",
    "\n",
    "net = layers.Conv2D(32, (3, 3), padding='SAME')(inputs)\n",
    "net = layers.Activation('relu')(net)\n",
    "net = layers.Conv2D(32, (3, 3), padding='SAME')(net)\n",
    "net = layers.Activation('relu')(net)\n",
    "net = layers.MaxPooling2D(pool_size=(2, 2))(net)\n",
    "net = layers.Dropout(dropout_rate)(net)\n",
    "\n",
    "net = layers.Conv2D(64, (3, 3), padding='SAME')(net)\n",
    "net = layers.Activation('relu')(net)\n",
    "net = layers.Conv2D(64, (3, 3), padding='SAME')(net)\n",
    "net = layers.Activation('relu')(net)\n",
    "net = layers.MaxPooling2D(pool_size=(2, 2))(net)\n",
    "net = layers.Dropout(dropout_rate)(net)\n",
    "\n",
    "net = layers.Flatten()(net)\n",
    "net = layers.Dense(512)(net)\n",
    "net = layers.Activation('relu')(net)\n",
    "net = layers.Dropout(dropout_rate)(net)\n",
    "net = layers.Dense(num_classes)(net)\n",
    "net = layers.Activation('softmax')(net)\n",
    "\n",
    "model = tf.keras.Model(inputs=inputs, outputs=net, name='Basic_CNN')"
   ]
  },
  {
   "cell_type": "code",
   "execution_count": 28,
   "metadata": {},
   "outputs": [],
   "source": [
    "# Model is the full model w/o custom layers\n",
    "model.compile(optimizer=tf.keras.optimizers.Adam(learning_rate),  # Optimization\n",
    "              loss='sparse_categorical_crossentropy',  # Loss Function \n",
    "              metrics=['accuracy'])  # Metrics / Accuracy"
   ]
  },
  {
   "cell_type": "markdown",
   "metadata": {},
   "source": [
    "# Data Preprocess"
   ]
  },
  {
   "cell_type": "code",
   "execution_count": 29,
   "metadata": {},
   "outputs": [
    {
     "data": {
      "text/plain": [
       "(1000, 1000)"
      ]
     },
     "execution_count": 29,
     "metadata": {},
     "output_type": "execute_result"
    }
   ],
   "source": [
    "#오래걸려서 1000개만..\n",
    "train_paths = glob('/Users/eunchankim/Desktop/dataset/cifar/train/*.png')[:1000]\n",
    "test_paths = glob('/Users/eunchankim/Desktop/dataset/cifar/test/*.png')[:1000]\n",
    "\n",
    "len(train_paths), len(test_paths)"
   ]
  },
  {
   "cell_type": "code",
   "execution_count": 30,
   "metadata": {},
   "outputs": [],
   "source": [
    "def get_class_name(path):\n",
    "    return path.split('_')[-1].replace('.png', '')"
   ]
  },
  {
   "cell_type": "code",
   "execution_count": 31,
   "metadata": {},
   "outputs": [],
   "source": [
    "train_labels = [get_class_name(path) for path in train_paths]\n",
    "class_names = np.unique(train_labels)"
   ]
  },
  {
   "cell_type": "code",
   "execution_count": 32,
   "metadata": {},
   "outputs": [],
   "source": [
    "def get_label(path):\n",
    "    fname = tf.strings.split(path, '_')[-1]\n",
    "    lbl_name = tf.strings.regex_replace(fname, '.png', '')\n",
    "    onehot = tf.cast(lbl_name == class_names, tf.uint8)\n",
    "    return tf.argmax(onehot)  # 이번에는 onehot이 아닌 label 번호로"
   ]
  },
  {
   "cell_type": "code",
   "execution_count": 33,
   "metadata": {},
   "outputs": [],
   "source": [
    "def load_image_label(path):\n",
    "    gfile = tf.io.read_file(path)\n",
    "    image = tf.io.decode_image(gfile)\n",
    "    image = tf.cast(image, tf.float32) / 255.  # rescale\n",
    "    \n",
    "    label = get_label(path)\n",
    "    return image, label"
   ]
  },
  {
   "cell_type": "code",
   "execution_count": 34,
   "metadata": {},
   "outputs": [],
   "source": [
    "def image_preprocess(image, label):\n",
    "    image = tf.image.random_flip_up_down(image)\n",
    "    image = tf.image.random_flip_left_right(image)\n",
    "    return image, label"
   ]
  },
  {
   "cell_type": "code",
   "execution_count": 35,
   "metadata": {},
   "outputs": [],
   "source": [
    "AUTOTUNE = tf.data.experimental.AUTOTUNE"
   ]
  },
  {
   "cell_type": "code",
   "execution_count": 36,
   "metadata": {},
   "outputs": [
    {
     "name": "stdout",
     "output_type": "stream",
     "text": [
      "WARNING:tensorflow:AutoGraph could not transform <function get_label at 0x177766a60> and will run it as-is.\n",
      "Please report this to the TensorFlow team. When filing the bug, set the verbosity to 10 (on Linux, `export AUTOGRAPH_VERBOSITY=10`) and attach the full output.\n",
      "Cause: module 'gast' has no attribute 'Index'\n",
      "To silence this warning, decorate the function with @tf.autograph.experimental.do_not_convert\n",
      "WARNING: AutoGraph could not transform <function get_label at 0x177766a60> and will run it as-is.\n",
      "Please report this to the TensorFlow team. When filing the bug, set the verbosity to 10 (on Linux, `export AUTOGRAPH_VERBOSITY=10`) and attach the full output.\n",
      "Cause: module 'gast' has no attribute 'Index'\n",
      "To silence this warning, decorate the function with @tf.autograph.experimental.do_not_convert\n"
     ]
    }
   ],
   "source": [
    "train_dataset = tf.data.Dataset.from_tensor_slices(train_paths)\n",
    "train_dataset = train_dataset.map(load_image_label, num_parallel_calls=AUTOTUNE)\n",
    "train_dataset = train_dataset.map(image_preprocess, num_parallel_calls=AUTOTUNE)\n",
    "train_dataset = train_dataset.batch(batch_size)\n",
    "train_dataset = train_dataset.shuffle(buffer_size=len(train_paths))\n",
    "train_dataset = train_dataset.repeat()"
   ]
  },
  {
   "cell_type": "code",
   "execution_count": 37,
   "metadata": {},
   "outputs": [],
   "source": [
    "test_dataset = tf.data.Dataset.from_tensor_slices(test_paths)\n",
    "test_dataset = test_dataset.map(load_image_label, num_parallel_calls=AUTOTUNE)\n",
    "test_dataset = test_dataset.batch(batch_size)\n",
    "test_dataset = test_dataset.repeat()"
   ]
  },
  {
   "cell_type": "markdown",
   "metadata": {},
   "source": [
    "## Training"
   ]
  },
  {
   "cell_type": "markdown",
   "metadata": {},
   "source": [
    "http://localhost:6006"
   ]
  },
  {
   "cell_type": "code",
   "execution_count": 38,
   "metadata": {},
   "outputs": [
    {
     "name": "stderr",
     "output_type": "stream",
     "text": [
      "/opt/homebrew/Caskroom/miniforge/base/envs/tf1/lib/python3.8/site-packages/tensorflow/python/keras/engine/training.py:1844: UserWarning: `Model.fit_generator` is deprecated and will be removed in a future version. Please use `Model.fit`, which supports generators.\n",
      "  warnings.warn('`Model.fit_generator` is deprecated and '\n"
     ]
    },
    {
     "name": "stdout",
     "output_type": "stream",
     "text": [
      "Epoch 1/100\n",
      "31/31 [==============================] - 1s 25ms/step - loss: 2.3476 - accuracy: 0.1117 - val_loss: 2.2950 - val_accuracy: 0.1048\n",
      "Epoch 2/100\n",
      "31/31 [==============================] - 1s 23ms/step - loss: 2.3022 - accuracy: 0.1315 - val_loss: 2.3292 - val_accuracy: 0.0958\n",
      "Epoch 3/100\n",
      "31/31 [==============================] - 1s 23ms/step - loss: 3.5613 - accuracy: 0.1057 - val_loss: 2.5031 - val_accuracy: 0.1502\n",
      "Epoch 4/100\n",
      "31/31 [==============================] - 1s 23ms/step - loss: 10.1584 - accuracy: 0.1110 - val_loss: 14.4658 - val_accuracy: 0.1099\n",
      "Epoch 5/100\n",
      "31/31 [==============================] - 1s 23ms/step - loss: 42.1315 - accuracy: 0.1285 - val_loss: 2.8187 - val_accuracy: 0.1804\n",
      "Epoch 6/100\n",
      "31/31 [==============================] - 1s 23ms/step - loss: 7.5599 - accuracy: 0.1395 - val_loss: 18.3691 - val_accuracy: 0.1210\n",
      "Epoch 7/100\n",
      "31/31 [==============================] - 1s 23ms/step - loss: 122.5443 - accuracy: 0.1304 - val_loss: 37.6678 - val_accuracy: 0.1845\n",
      "Epoch 8/100\n",
      "31/31 [==============================] - 1s 23ms/step - loss: 46.3796 - accuracy: 0.1201 - val_loss: 3.8336 - val_accuracy: 0.1099\n",
      "Epoch 9/100\n",
      "31/31 [==============================] - 1s 24ms/step - loss: 9.5206 - accuracy: 0.1067 - val_loss: 4.3901 - val_accuracy: 0.1139\n",
      "Epoch 10/100\n",
      "31/31 [==============================] - 1s 23ms/step - loss: 30.7806 - accuracy: 0.1150 - val_loss: 46.6407 - val_accuracy: 0.1240\n",
      "Epoch 11/100\n",
      "31/31 [==============================] - 1s 23ms/step - loss: 126.4236 - accuracy: 0.1071 - val_loss: 17.4734 - val_accuracy: 0.1058\n",
      "Epoch 12/100\n",
      "31/31 [==============================] - 1s 23ms/step - loss: 23.9661 - accuracy: 0.1197 - val_loss: 3.3800 - val_accuracy: 0.1240\n",
      "Epoch 13/100\n",
      "31/31 [==============================] - 1s 24ms/step - loss: 11.1652 - accuracy: 0.1246 - val_loss: 6.9099 - val_accuracy: 0.1210\n",
      "Epoch 14/100\n",
      "31/31 [==============================] - 1s 23ms/step - loss: 20.4505 - accuracy: 0.0836 - val_loss: 8.2323 - val_accuracy: 0.1290\n",
      "Epoch 15/100\n",
      "31/31 [==============================] - 1s 23ms/step - loss: 29.5352 - accuracy: 0.0834 - val_loss: 5.2721 - val_accuracy: 0.0927\n",
      "Epoch 16/100\n",
      "31/31 [==============================] - 1s 23ms/step - loss: 7.2850 - accuracy: 0.0868 - val_loss: 2.5540 - val_accuracy: 0.0857\n",
      "Epoch 17/100\n",
      "31/31 [==============================] - 1s 23ms/step - loss: 3.9278 - accuracy: 0.0984 - val_loss: 2.4306 - val_accuracy: 0.1099\n",
      "Epoch 18/100\n",
      "31/31 [==============================] - 1s 24ms/step - loss: 3.3249 - accuracy: 0.0918 - val_loss: 2.4435 - val_accuracy: 0.1008\n",
      "Epoch 19/100\n",
      "31/31 [==============================] - 1s 24ms/step - loss: 3.1150 - accuracy: 0.0873 - val_loss: 2.3656 - val_accuracy: 0.1079\n",
      "Epoch 20/100\n",
      "31/31 [==============================] - 1s 24ms/step - loss: 3.1242 - accuracy: 0.0975 - val_loss: 2.3756 - val_accuracy: 0.1351\n",
      "Epoch 21/100\n",
      "31/31 [==============================] - 1s 23ms/step - loss: 2.9277 - accuracy: 0.1111 - val_loss: 2.3512 - val_accuracy: 0.1421\n",
      "Epoch 22/100\n",
      "31/31 [==============================] - 1s 24ms/step - loss: 2.9058 - accuracy: 0.1047 - val_loss: 2.2947 - val_accuracy: 0.1200\n",
      "Epoch 23/100\n",
      "31/31 [==============================] - 1s 23ms/step - loss: 3.0385 - accuracy: 0.1115 - val_loss: 3.0800 - val_accuracy: 0.1411\n",
      "Epoch 24/100\n",
      "31/31 [==============================] - 1s 24ms/step - loss: 3.4627 - accuracy: 0.1167 - val_loss: 2.3916 - val_accuracy: 0.1562\n",
      "Epoch 25/100\n",
      "31/31 [==============================] - 1s 23ms/step - loss: 2.9578 - accuracy: 0.1269 - val_loss: 2.3826 - val_accuracy: 0.1996\n",
      "Epoch 26/100\n",
      "31/31 [==============================] - 1s 23ms/step - loss: 3.4283 - accuracy: 0.1348 - val_loss: 2.5311 - val_accuracy: 0.2490\n",
      "Epoch 27/100\n",
      "31/31 [==============================] - 1s 24ms/step - loss: 3.7795 - accuracy: 0.1498 - val_loss: 3.3165 - val_accuracy: 0.1946\n",
      "Epoch 28/100\n",
      "31/31 [==============================] - 1s 23ms/step - loss: 4.8724 - accuracy: 0.1312 - val_loss: 2.5479 - val_accuracy: 0.1290\n",
      "Epoch 29/100\n",
      "31/31 [==============================] - 1s 24ms/step - loss: 2.3945 - accuracy: 0.1062 - val_loss: 2.2937 - val_accuracy: 0.0988\n",
      "Epoch 30/100\n",
      "31/31 [==============================] - 1s 23ms/step - loss: 2.3108 - accuracy: 0.1755 - val_loss: 2.1374 - val_accuracy: 0.2026\n",
      "Epoch 31/100\n",
      "31/31 [==============================] - 1s 23ms/step - loss: 2.3643 - accuracy: 0.1422 - val_loss: 2.0983 - val_accuracy: 0.2107\n",
      "Epoch 32/100\n",
      "31/31 [==============================] - 1s 23ms/step - loss: 2.3868 - accuracy: 0.1831 - val_loss: 2.3258 - val_accuracy: 0.1522\n",
      "Epoch 33/100\n",
      "31/31 [==============================] - 1s 23ms/step - loss: 2.3626 - accuracy: 0.1672 - val_loss: 2.1474 - val_accuracy: 0.2359\n",
      "Epoch 34/100\n",
      "31/31 [==============================] - 1s 24ms/step - loss: 2.5476 - accuracy: 0.1760 - val_loss: 2.0934 - val_accuracy: 0.2248\n",
      "Epoch 35/100\n",
      "31/31 [==============================] - 1s 23ms/step - loss: 2.7032 - accuracy: 0.1527 - val_loss: 2.7819 - val_accuracy: 0.1270\n",
      "Epoch 36/100\n",
      "31/31 [==============================] - 1s 23ms/step - loss: 2.8951 - accuracy: 0.1918 - val_loss: 2.8169 - val_accuracy: 0.1804\n",
      "Epoch 37/100\n",
      "31/31 [==============================] - 1s 23ms/step - loss: 3.4954 - accuracy: 0.1703 - val_loss: 3.3008 - val_accuracy: 0.1552\n",
      "Epoch 38/100\n",
      "31/31 [==============================] - 1s 24ms/step - loss: 3.5101 - accuracy: 0.1623 - val_loss: 2.3406 - val_accuracy: 0.1704\n",
      "Epoch 39/100\n",
      "31/31 [==============================] - 1s 23ms/step - loss: 2.4455 - accuracy: 0.1979 - val_loss: 2.2210 - val_accuracy: 0.2460\n",
      "Epoch 40/100\n",
      "31/31 [==============================] - 1s 23ms/step - loss: 3.0962 - accuracy: 0.1684 - val_loss: 2.5813 - val_accuracy: 0.2308\n",
      "Epoch 41/100\n",
      "31/31 [==============================] - 1s 23ms/step - loss: 3.0911 - accuracy: 0.1801 - val_loss: 2.2756 - val_accuracy: 0.2097\n",
      "Epoch 42/100\n",
      "31/31 [==============================] - 1s 23ms/step - loss: 2.6592 - accuracy: 0.1791 - val_loss: 2.1460 - val_accuracy: 0.2127\n",
      "Epoch 43/100\n",
      "31/31 [==============================] - 1s 23ms/step - loss: 2.5501 - accuracy: 0.1965 - val_loss: 2.0971 - val_accuracy: 0.2399\n",
      "Epoch 44/100\n",
      "31/31 [==============================] - 1s 24ms/step - loss: 2.4240 - accuracy: 0.2274 - val_loss: 2.8327 - val_accuracy: 0.1472\n",
      "Epoch 45/100\n",
      "31/31 [==============================] - 1s 23ms/step - loss: 2.6164 - accuracy: 0.1663 - val_loss: 2.1407 - val_accuracy: 0.2560\n",
      "Epoch 46/100\n",
      "31/31 [==============================] - 1s 23ms/step - loss: 2.4494 - accuracy: 0.1797 - val_loss: 2.0684 - val_accuracy: 0.2732\n",
      "Epoch 47/100\n",
      "31/31 [==============================] - 1s 23ms/step - loss: 2.5965 - accuracy: 0.1990 - val_loss: 2.2770 - val_accuracy: 0.1895\n",
      "Epoch 48/100\n",
      "31/31 [==============================] - 1s 23ms/step - loss: 2.5316 - accuracy: 0.1821 - val_loss: 2.1584 - val_accuracy: 0.2742\n",
      "Epoch 49/100\n",
      "31/31 [==============================] - 1s 23ms/step - loss: 2.6318 - accuracy: 0.1965 - val_loss: 2.0859 - val_accuracy: 0.2157\n",
      "Epoch 50/100\n",
      "31/31 [==============================] - 1s 23ms/step - loss: 2.3777 - accuracy: 0.1946 - val_loss: 2.2581 - val_accuracy: 0.2339\n",
      "Epoch 51/100\n",
      "31/31 [==============================] - 1s 23ms/step - loss: 2.7105 - accuracy: 0.2043 - val_loss: 2.1976 - val_accuracy: 0.2389\n",
      "Epoch 52/100\n",
      "31/31 [==============================] - 1s 24ms/step - loss: 2.7739 - accuracy: 0.2048 - val_loss: 2.1037 - val_accuracy: 0.2157\n",
      "Epoch 53/100\n",
      "31/31 [==============================] - 1s 23ms/step - loss: 2.2639 - accuracy: 0.1599 - val_loss: 2.0657 - val_accuracy: 0.2651\n",
      "Epoch 54/100\n",
      "31/31 [==============================] - 1s 24ms/step - loss: 2.2664 - accuracy: 0.2189 - val_loss: 2.0833 - val_accuracy: 0.2329\n",
      "Epoch 55/100\n",
      "31/31 [==============================] - 1s 24ms/step - loss: 2.3796 - accuracy: 0.2044 - val_loss: 2.0611 - val_accuracy: 0.2621\n",
      "Epoch 56/100\n",
      "31/31 [==============================] - 1s 23ms/step - loss: 2.3154 - accuracy: 0.1936 - val_loss: 2.1775 - val_accuracy: 0.2651\n",
      "Epoch 57/100\n",
      "31/31 [==============================] - 1s 24ms/step - loss: 2.3412 - accuracy: 0.2256 - val_loss: 2.1842 - val_accuracy: 0.2308\n",
      "Epoch 58/100\n",
      "31/31 [==============================] - 1s 24ms/step - loss: 2.4318 - accuracy: 0.1870 - val_loss: 2.1876 - val_accuracy: 0.2329\n",
      "Epoch 59/100\n",
      "31/31 [==============================] - 1s 26ms/step - loss: 2.4553 - accuracy: 0.2087 - val_loss: 2.1940 - val_accuracy: 0.2490\n",
      "Epoch 60/100\n",
      "31/31 [==============================] - 1s 24ms/step - loss: 2.3960 - accuracy: 0.2078 - val_loss: 2.1029 - val_accuracy: 0.2621\n",
      "Epoch 61/100\n",
      "31/31 [==============================] - 1s 24ms/step - loss: 2.4467 - accuracy: 0.2270 - val_loss: 2.2731 - val_accuracy: 0.1603\n",
      "Epoch 62/100\n",
      "31/31 [==============================] - 1s 24ms/step - loss: 2.2192 - accuracy: 0.2269 - val_loss: 2.2406 - val_accuracy: 0.1946\n",
      "Epoch 63/100\n",
      "31/31 [==============================] - 1s 24ms/step - loss: 2.2374 - accuracy: 0.2158 - val_loss: 2.0068 - val_accuracy: 0.2692\n",
      "Epoch 64/100\n",
      "31/31 [==============================] - 1s 25ms/step - loss: 2.2615 - accuracy: 0.2187 - val_loss: 2.1230 - val_accuracy: 0.2550\n",
      "Epoch 65/100\n",
      "31/31 [==============================] - 1s 24ms/step - loss: 2.3095 - accuracy: 0.2404 - val_loss: 2.0131 - val_accuracy: 0.2621\n",
      "Epoch 66/100\n",
      "31/31 [==============================] - 1s 24ms/step - loss: 2.2391 - accuracy: 0.2465 - val_loss: 2.0210 - val_accuracy: 0.2661\n",
      "Epoch 67/100\n",
      "31/31 [==============================] - 1s 24ms/step - loss: 2.2447 - accuracy: 0.2167 - val_loss: 2.0289 - val_accuracy: 0.2732\n",
      "Epoch 68/100\n",
      "31/31 [==============================] - 1s 23ms/step - loss: 2.2264 - accuracy: 0.1957 - val_loss: 2.0729 - val_accuracy: 0.2056\n",
      "Epoch 69/100\n",
      "31/31 [==============================] - 1s 24ms/step - loss: 2.2492 - accuracy: 0.2271 - val_loss: 2.0732 - val_accuracy: 0.2087\n",
      "Epoch 70/100\n",
      "31/31 [==============================] - 1s 24ms/step - loss: 2.1520 - accuracy: 0.2298 - val_loss: 2.0836 - val_accuracy: 0.2520\n",
      "Epoch 71/100\n",
      "31/31 [==============================] - 1s 23ms/step - loss: 2.1763 - accuracy: 0.2276 - val_loss: 1.9722 - val_accuracy: 0.2611\n",
      "Epoch 72/100\n",
      "31/31 [==============================] - 1s 24ms/step - loss: 2.1908 - accuracy: 0.2379 - val_loss: 2.0004 - val_accuracy: 0.2853\n",
      "Epoch 73/100\n",
      "31/31 [==============================] - 1s 23ms/step - loss: 2.2165 - accuracy: 0.2176 - val_loss: 2.2190 - val_accuracy: 0.2560\n",
      "Epoch 74/100\n",
      "31/31 [==============================] - 1s 24ms/step - loss: 2.4533 - accuracy: 0.2155 - val_loss: 2.0130 - val_accuracy: 0.2792\n",
      "Epoch 75/100\n",
      "31/31 [==============================] - 1s 23ms/step - loss: 2.1714 - accuracy: 0.2323 - val_loss: 1.9678 - val_accuracy: 0.2823\n",
      "Epoch 76/100\n",
      "31/31 [==============================] - 1s 24ms/step - loss: 2.2251 - accuracy: 0.2573 - val_loss: 2.2222 - val_accuracy: 0.2480\n",
      "Epoch 77/100\n",
      "31/31 [==============================] - 1s 23ms/step - loss: 2.3416 - accuracy: 0.2262 - val_loss: 2.0244 - val_accuracy: 0.2833\n",
      "Epoch 78/100\n",
      "31/31 [==============================] - 1s 23ms/step - loss: 2.2294 - accuracy: 0.2176 - val_loss: 2.0204 - val_accuracy: 0.2681\n",
      "Epoch 79/100\n",
      "31/31 [==============================] - 1s 23ms/step - loss: 2.2984 - accuracy: 0.1965 - val_loss: 2.1016 - val_accuracy: 0.2268\n",
      "Epoch 80/100\n",
      "31/31 [==============================] - 1s 24ms/step - loss: 2.1835 - accuracy: 0.2097 - val_loss: 2.0605 - val_accuracy: 0.2540\n",
      "Epoch 81/100\n",
      "31/31 [==============================] - 1s 24ms/step - loss: 2.1894 - accuracy: 0.2174 - val_loss: 2.1166 - val_accuracy: 0.2621\n",
      "Epoch 82/100\n",
      "31/31 [==============================] - 1s 25ms/step - loss: 2.3614 - accuracy: 0.1984 - val_loss: 2.0805 - val_accuracy: 0.2460\n",
      "Epoch 83/100\n",
      "31/31 [==============================] - 1s 25ms/step - loss: 2.2299 - accuracy: 0.2115 - val_loss: 2.0353 - val_accuracy: 0.2490\n",
      "Epoch 84/100\n",
      "31/31 [==============================] - 1s 25ms/step - loss: 2.3076 - accuracy: 0.1969 - val_loss: 1.9786 - val_accuracy: 0.2923\n",
      "Epoch 85/100\n",
      "31/31 [==============================] - 1s 24ms/step - loss: 2.3070 - accuracy: 0.2259 - val_loss: 1.9770 - val_accuracy: 0.2611\n",
      "Epoch 86/100\n",
      "31/31 [==============================] - 1s 24ms/step - loss: 2.2653 - accuracy: 0.2214 - val_loss: 2.0332 - val_accuracy: 0.2994\n",
      "Epoch 87/100\n",
      "31/31 [==============================] - 1s 24ms/step - loss: 2.3476 - accuracy: 0.2233 - val_loss: 2.1039 - val_accuracy: 0.2540\n",
      "Epoch 88/100\n",
      "31/31 [==============================] - 1s 23ms/step - loss: 2.2944 - accuracy: 0.2391 - val_loss: 2.1643 - val_accuracy: 0.2480\n",
      "Epoch 89/100\n",
      "31/31 [==============================] - 1s 23ms/step - loss: 2.3407 - accuracy: 0.2131 - val_loss: 2.1670 - val_accuracy: 0.2369\n",
      "Epoch 90/100\n",
      "31/31 [==============================] - 1s 27ms/step - loss: 2.4117 - accuracy: 0.2182 - val_loss: 2.0980 - val_accuracy: 0.2308\n",
      "Epoch 91/100\n",
      "31/31 [==============================] - 1s 26ms/step - loss: 2.3549 - accuracy: 0.2047 - val_loss: 2.1053 - val_accuracy: 0.2450\n",
      "Epoch 92/100\n",
      "31/31 [==============================] - 1s 23ms/step - loss: 2.5676 - accuracy: 0.2226 - val_loss: 2.1389 - val_accuracy: 0.1986\n",
      "Epoch 93/100\n",
      "31/31 [==============================] - 1s 23ms/step - loss: 2.3547 - accuracy: 0.2353 - val_loss: 2.0799 - val_accuracy: 0.2440\n",
      "Epoch 94/100\n",
      "31/31 [==============================] - 1s 28ms/step - loss: 2.4305 - accuracy: 0.2058 - val_loss: 2.2713 - val_accuracy: 0.2016\n",
      "Epoch 95/100\n",
      "31/31 [==============================] - 1s 23ms/step - loss: 2.4380 - accuracy: 0.1897 - val_loss: 2.4383 - val_accuracy: 0.2218\n",
      "Epoch 96/100\n",
      "31/31 [==============================] - 1s 23ms/step - loss: 2.8203 - accuracy: 0.1903 - val_loss: 2.2682 - val_accuracy: 0.1946\n",
      "Epoch 97/100\n",
      "31/31 [==============================] - 1s 22ms/step - loss: 2.3414 - accuracy: 0.1834 - val_loss: 2.0193 - val_accuracy: 0.2288\n",
      "Epoch 98/100\n",
      "31/31 [==============================] - 1s 24ms/step - loss: 2.3798 - accuracy: 0.2034 - val_loss: 2.0180 - val_accuracy: 0.2651\n",
      "Epoch 99/100\n",
      "31/31 [==============================] - 1s 23ms/step - loss: 2.3553 - accuracy: 0.2077 - val_loss: 2.1912 - val_accuracy: 0.2520\n",
      "Epoch 100/100\n",
      "31/31 [==============================] - 1s 23ms/step - loss: 2.8099 - accuracy: 0.2062 - val_loss: 2.1360 - val_accuracy: 0.2329\n"
     ]
    }
   ],
   "source": [
    "steps_per_epoch = len(train_paths) // batch_size\n",
    "validation_steps = len(test_paths) // batch_size\n",
    "\n",
    "history = model.fit_generator(\n",
    "    train_dataset,\n",
    "    steps_per_epoch=steps_per_epoch,\n",
    "    validation_data=test_dataset,\n",
    "    validation_steps=validation_steps,\n",
    "    epochs=num_epochs\n",
    ")"
   ]
  },
  {
   "cell_type": "markdown",
   "metadata": {},
   "source": [
    "# History "
   ]
  },
  {
   "cell_type": "code",
   "execution_count": 39,
   "metadata": {},
   "outputs": [
    {
     "data": {
      "text/plain": [
       "dict_keys(['loss', 'accuracy', 'val_loss', 'val_accuracy'])"
      ]
     },
     "execution_count": 39,
     "metadata": {},
     "output_type": "execute_result"
    }
   ],
   "source": [
    "history.history.keys()"
   ]
  },
  {
   "cell_type": "code",
   "execution_count": 40,
   "metadata": {},
   "outputs": [
    {
     "data": {
      "text/plain": [
       "{'verbose': 1, 'epochs': 100, 'steps': 31}"
      ]
     },
     "execution_count": 40,
     "metadata": {},
     "output_type": "execute_result"
    }
   ],
   "source": [
    "history.params"
   ]
  },
  {
   "cell_type": "code",
   "execution_count": 41,
   "metadata": {},
   "outputs": [],
   "source": [
    "new_model = history.model"
   ]
  },
  {
   "cell_type": "code",
   "execution_count": 42,
   "metadata": {},
   "outputs": [
    {
     "data": {
      "image/png": "[encoded data removed]",
      "text/plain": [
       "<Figure size 432x288 with 1 Axes>"
      ]
     },
     "metadata": {
      "needs_background": "light"
     },
     "output_type": "display_data"
    }
   ],
   "source": [
    "plt.plot(history.history['accuracy'])\n",
    "plt.plot(history.history['val_accuracy'])\n",
    "plt.title(\"Model Accuracy\")\n",
    "plt.ylabel('accuracy')\n",
    "plt.xlabel('epoch')\n",
    "plt.legend(['train', 'validation'])\n",
    "plt.show()"
   ]
  },
  {
   "cell_type": "code",
   "execution_count": 43,
   "metadata": {},
   "outputs": [
    {
     "data": {
      "image/png": "[encoded data removed]",
      "text/plain": [
       "<Figure size 432x288 with 1 Axes>"
      ]
     },
     "metadata": {
      "needs_background": "light"
     },
     "output_type": "display_data"
    }
   ],
   "source": [
    "plt.plot(history.history['loss'])\n",
    "plt.plot(history.history['val_loss'])\n",
    "plt.title('Model Loss')\n",
    "plt.ylabel('loss')\n",
    "plt.xlabel('epoch')\n",
    "plt.legend(['train', 'validation'])\n",
    "plt.show()"
   ]
  },
  {
   "cell_type": "code",
   "execution_count": null,
   "metadata": {},
   "outputs": [],
   "source": []
  }
 ],
 "metadata": {
  "kernelspec": {
   "display_name": "Python 3",
   "language": "python",
   "name": "python3"
  },
  "language_info": {
   "codemirror_mode": {
    "name": "ipython",
    "version": 3
   },
   "file_extension": ".py",
   "mimetype": "text/x-python",
   "name": "python",
   "nbconvert_exporter": "python",
   "pygments_lexer": "ipython3",
   "version": "3.8.8"
  }
 },
 "nbformat": 4,
 "nbformat_minor": 4
}
