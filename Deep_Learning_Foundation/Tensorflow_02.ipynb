{
 "cells": [
  {
   "cell_type": "code",
   "execution_count": 91,
   "metadata": {},
   "outputs": [
    {
     "data": {
      "image/png": "[encoded data removed]",
      "text/plain": [
       "<Figure size 432x288 with 1 Axes>"
      ]
     },
     "metadata": {
      "needs_background": "light"
     },
     "output_type": "display_data"
    }
   ],
   "source": [
    "import  tensorflow  as  tf\n",
    "from matplotlib import pyplot as plt\n",
    "import numpy as np\n",
    "tf.executing_eagerly() # 계산 그래프를 즉시 실행 executing_eagerly사용\n",
    "\n",
    "x = tf.constant(3.0)\n",
    "\n",
    "with tf.GradientTape() as g: # with 내부 계산을 기록 \n",
    "    g.watch(x) # x를 기록\n",
    "    y = 2 * x #미분 방정식\n",
    "    \n",
    "g.gradient(y, x).numpy() # x = 3 일때 y의 기울기를 구한다.\n",
    "\n",
    "tf.executing_eagerly()  # 계산 그래프를 즉시 실행 executing_eagerly 사용\n",
    "x  =  tf . constant (3.0 )  \n",
    "with  tf . GradientTape ()  as  g :  # with 내부 계산을 기록\n",
    "   g . watch ( x )  # x를 기록\n",
    "   y  =  2  *  x  # 미분 방정식\n",
    "g.gradient( y ,  x ).numpy()  # x = 3 일 때의 y 기울기를 구한다. \n",
    "\n",
    "\n",
    "fig = plt.figure()  # 그림그리는 바탕을 fig로 만들겠다.\n",
    "ax = fig.add_subplot(1, 1, 1)\n",
    "ax.spines['left'].set_position('zero')\n",
    "ax.spines['bottom'].set_position('zero')\n",
    "ax.spines['right'].set_color('none')\n",
    "ax.spines['top'].set_color('none')\n",
    "ax.xaxis.set_ticks_position('bottom')\n",
    "ax.yaxis.set_ticks_position('left')\n",
    "plt.plot(x, y, '-b', label='w1')\n",
    "plt.xlim(-5, 5)  # x 축의 눈금숫자의 시작과 마지막\n",
    "plt.ylim(-5, 5)  # y 축의 눈금숫자의 시작과 마지막\n",
    "plt.title('Graph of w')\n",
    "plt.xlabel('x', color='#1C2833')  # x의 라벨 색깔\n",
    "plt.ylabel('y', color='#1C2833')  # y의 라벨 색깔\n",
    "plt.legend(loc='upper left')  # 레전드가 왼쪽에 나오게\n",
    "plt.grid()  # 격자모양출력\n",
    "plt.show()"
   ]
  },
  {
   "cell_type": "code",
   "execution_count": 92,
   "metadata": {},
   "outputs": [
    {
     "data": {
      "text/plain": [
       "6.0"
      ]
     },
     "execution_count": 92,
     "metadata": {},
     "output_type": "execute_result"
    }
   ],
   "source": [
    "x = tf.Variable(3.0)\n",
    "\n",
    "with tf.GradientTape() as g:\n",
    "    y= x*x\n",
    "    \n",
    "g.gradient(y,x).numpy()"
   ]
  },
  {
   "cell_type": "code",
   "execution_count": 93,
   "metadata": {},
   "outputs": [
    {
     "name": "stdout",
     "output_type": "stream",
     "text": [
      "n = -3.0 : gradient = 2.0\n",
      "n = 0.0 : gradient = 2.0\n",
      "n = 3.0 : gradient = 27.0\n"
     ]
    }
   ],
   "source": [
    "def with_if(x):\n",
    "    if x<= 0 :\n",
    "        return x *2 #기울기가2\n",
    "    else:\n",
    "        return x*x*x # 3*x*x\n",
    "    \n",
    "def with_if_gradient(n):\n",
    "    x = tf.Variable(n)\n",
    "    with tf.GradientTape() as g:\n",
    "        y = with_if(x)\n",
    "        print('n = %.1f : gradient = %.1f' %(n,g.gradient(y,x)))\n",
    "\n",
    "\n",
    "with_if_gradient(-3.0)\n",
    "with_if_gradient(0.0)\n",
    "with_if_gradient(3.0)"
   ]
  },
  {
   "cell_type": "code",
   "execution_count": 94,
   "metadata": {},
   "outputs": [
    {
     "data": {
      "text/plain": [
       "[<tf.Tensor: shape=(), dtype=float32, numpy=6.0>,\n",
       " <tf.Tensor: shape=(), dtype=float32, numpy=5.0>]"
      ]
     },
     "execution_count": 94,
     "metadata": {},
     "output_type": "execute_result"
    }
   ],
   "source": [
    "a = tf.Variable(3.0)\n",
    "b = tf.Variable(4.0)\n",
    "\n",
    "with tf.GradientTape() as g:\n",
    "    f = a ** 2+ 5 * b #다변량 미분 공식\n",
    "\n",
    "g.gradient(f, [a, b])"
   ]
  },
  {
   "cell_type": "code",
   "execution_count": 95,
   "metadata": {},
   "outputs": [
    {
     "data": {
      "text/plain": [
       "[<tf.Tensor: shape=(), dtype=float32, numpy=5.0>,\n",
       " [<tf.Tensor: shape=(), dtype=float32, numpy=6.0>]]"
      ]
     },
     "execution_count": 95,
     "metadata": {},
     "output_type": "execute_result"
    }
   ],
   "source": [
    "a = tf.Variable(3.0)\n",
    "b = tf.Variable(4.0)\n",
    "\n",
    "with tf.GradientTape() as g:\n",
    "    f = a ** 2+ 5 * b #다변량 미분 공식\n",
    "\n",
    "g.gradient(f, [b,[a]])"
   ]
  },
  {
   "cell_type": "code",
   "execution_count": 96,
   "metadata": {},
   "outputs": [
    {
     "name": "stdout",
     "output_type": "stream",
     "text": [
      "[<KerasTensor: shape=(None, 8) dtype=float32 (created by layer 'dense_69_input')>]\n",
      "[<KerasTensor: shape=(None, 8) dtype=float32 (created by layer 'dense_71')>]\n"
     ]
    }
   ],
   "source": [
    "from keras.models import Sequential\n",
    "from keras.layers import Dense, Activation, Dropout\n",
    "from keras.models import *\n",
    "model = Sequential()\n",
    "\n",
    "input_layer = Dense(32, input_shape = (8,))\n",
    "model.add(input_layer)\n",
    "\n",
    "hidden_layer = Dense(64, activation = 'relu')\n",
    "model.add(hidden_layer)\n",
    "\n",
    "output_layer = Dense(8)\n",
    "model.add(output_layer)\n",
    "\n",
    "layers = model.layers\n",
    "layers\n",
    "\n",
    "inputs = model.inputs #모델의 모든 입력텐서를 반환한다.\n",
    "print(inputs)\n",
    "\n",
    "output = model.outputs\n",
    "print(output)\n",
    "\n",
    "#model.get_weights() - 모든 가중치를 numpy 배열로 변환한다.\n",
    "#model.get_weights()\n",
    "#model.set_weights()"
   ]
  },
  {
   "cell_type": "code",
   "execution_count": 97,
   "metadata": {},
   "outputs": [
    {
     "name": "stdout",
     "output_type": "stream",
     "text": [
      "Model: \"sequential_52\"\n",
      "_________________________________________________________________\n",
      "Layer (type)                 Output Shape              Param #   \n",
      "=================================================================\n",
      "dense_69 (Dense)             (None, 32)                288       \n",
      "_________________________________________________________________\n",
      "dense_70 (Dense)             (None, 64)                2112      \n",
      "_________________________________________________________________\n",
      "dense_71 (Dense)             (None, 8)                 520       \n",
      "=================================================================\n",
      "Total params: 2,920\n",
      "Trainable params: 2,920\n",
      "Non-trainable params: 0\n",
      "_________________________________________________________________\n"
     ]
    }
   ],
   "source": [
    "from keras.models import model_from_json\n",
    "# 모델의 직렬화\n",
    "config = model.get_config()\n",
    "config\n",
    "\n",
    "#로드 \n",
    "json_string = model.to_json()\n",
    "json_string\n",
    "\n",
    "new_model = model_from_json(json_string)\n",
    "new_model\n",
    "\n",
    "#모델값을 문자열로\n",
    "res = model. to_yaml()\n",
    "res\n",
    "\n",
    "#모델 요약\n",
    "model.summary()\n",
    "\n",
    "#모델 훈련 및 예측 : 컴파일(모델의 학습과정) -> fit(훈련데이터를 사용해서 모델을 훈련) -> 평가(테스트데이터를 사용해서 모델 평가) -> 예측(새로운 입력에대한 결과 예측)\n"
   ]
  },
  {
   "cell_type": "code",
   "execution_count": 98,
   "metadata": {},
   "outputs": [
    {
     "data": {
      "text/plain": [
       "[array([[ 0.34141874, -0.3717669 ,  0.37441093,  0.08332562,  0.06092119,\n",
       "          0.19284636,  0.14747602,  0.35302806, -0.21300955, -0.18323757,\n",
       "         -0.09759626, -0.3828151 ,  0.22849703, -0.37413198,  0.34068465,\n",
       "         -0.18250883, -0.21929848, -0.04562613,  0.3044085 ,  0.33505195,\n",
       "          0.06624445,  0.26328808,  0.12576127, -0.11665091, -0.35509285,\n",
       "          0.06987828, -0.0438886 , -0.06425935, -0.1716309 , -0.03619233,\n",
       "          0.14274186,  0.31899267],\n",
       "        [ 0.00066152,  0.16323268,  0.36370564, -0.28827047, -0.15038663,\n",
       "         -0.2762468 ,  0.07155681,  0.3401413 , -0.33260164,  0.32290244,\n",
       "          0.21387792,  0.03726494,  0.3176545 ,  0.15990132,  0.1120995 ,\n",
       "         -0.06733757, -0.12820715, -0.3086764 , -0.07794178,  0.32554948,\n",
       "         -0.00695959, -0.1012733 ,  0.07370555,  0.17963308, -0.14665493,\n",
       "         -0.27190003,  0.33144474, -0.02769491, -0.27753937, -0.30460784,\n",
       "         -0.03767824, -0.05267549],\n",
       "        [-0.0518319 , -0.12322313, -0.13027582, -0.27982217, -0.3107301 ,\n",
       "         -0.2596624 ,  0.16096741, -0.3424555 ,  0.08633238,  0.03175008,\n",
       "          0.10110387, -0.12624365,  0.26041716, -0.29902345, -0.29513088,\n",
       "          0.25310147,  0.3741225 , -0.30055773, -0.14606848, -0.01718608,\n",
       "          0.08733073, -0.38265055,  0.24251181,  0.01620191,  0.22259086,\n",
       "          0.36564296,  0.05337054,  0.1801939 ,  0.33014965,  0.36975056,\n",
       "          0.02122766,  0.0974296 ],\n",
       "        [ 0.19230258,  0.25530124,  0.12619394,  0.3280964 ,  0.13082725,\n",
       "         -0.01760197, -0.00987116,  0.05419207, -0.30421245, -0.10909969,\n",
       "          0.10029653, -0.36654946,  0.05922973, -0.07695469,  0.29902762,\n",
       "          0.20381784, -0.2997662 ,  0.3081438 , -0.02981392,  0.02834395,\n",
       "         -0.14145827, -0.34417626,  0.13897711,  0.03143576, -0.22639243,\n",
       "          0.26673466, -0.30253518, -0.33032346,  0.2240259 , -0.0305683 ,\n",
       "         -0.1390364 ,  0.16246784],\n",
       "        [-0.16178174, -0.00580701,  0.26929587,  0.2632904 , -0.20415625,\n",
       "         -0.17419535, -0.06866243, -0.10645407, -0.32126027,  0.12400323,\n",
       "          0.25989187,  0.38009924,  0.04517701, -0.13652089, -0.20451139,\n",
       "         -0.19392213, -0.22662033,  0.2879446 ,  0.03428781, -0.14378844,\n",
       "          0.24495345, -0.28670114,  0.3306828 ,  0.21034873,  0.38509506,\n",
       "          0.18644202,  0.02215096, -0.02227867, -0.13993181, -0.07707593,\n",
       "         -0.12715688, -0.02292246],\n",
       "        [ 0.37272656, -0.11244163,  0.06244424, -0.22227015, -0.17712961,\n",
       "          0.20650446, -0.12235653,  0.01260126,  0.174829  , -0.06102285,\n",
       "         -0.16828057, -0.19331676, -0.12311354,  0.1804387 ,  0.12930125,\n",
       "          0.03824401, -0.25113195,  0.13971502,  0.07138738,  0.2383706 ,\n",
       "         -0.1857105 ,  0.3833235 ,  0.2297712 ,  0.02384999, -0.06212512,\n",
       "         -0.05595982, -0.06286383, -0.13325125, -0.23580475, -0.11909947,\n",
       "         -0.07234409,  0.26983386],\n",
       "        [ 0.32661176, -0.18043692, -0.30250353, -0.3685522 , -0.31669486,\n",
       "         -0.14991866, -0.24528696,  0.0357959 ,  0.18041772,  0.16016239,\n",
       "          0.19396657, -0.3512063 , -0.29361293, -0.1170823 ,  0.23979187,\n",
       "         -0.01613295, -0.20377149, -0.34083146,  0.13734353, -0.38531268,\n",
       "         -0.15270388, -0.355354  ,  0.02677807,  0.3739949 ,  0.27613848,\n",
       "          0.3716758 , -0.07174629, -0.11505151, -0.20674138, -0.34306765,\n",
       "          0.25603604, -0.15925378],\n",
       "        [-0.34617338,  0.2386586 , -0.16897072,  0.32299042, -0.14197879,\n",
       "          0.23215258, -0.27777344, -0.00721306, -0.29181784, -0.00386873,\n",
       "         -0.01064688, -0.10209179, -0.05002296, -0.04523259, -0.10082546,\n",
       "          0.24781919,  0.23328704,  0.13677716, -0.33952236,  0.25448912,\n",
       "         -0.36054003, -0.07512987, -0.2251129 ,  0.2897629 , -0.23494905,\n",
       "          0.17698443,  0.10967726, -0.23838711, -0.21126923, -0.28185797,\n",
       "         -0.19206999,  0.24688667]], dtype=float32),\n",
       " array([0., 0., 0., 0., 0., 0., 0., 0., 0., 0., 0., 0., 0., 0., 0., 0., 0.,\n",
       "        0., 0., 0., 0., 0., 0., 0., 0., 0., 0., 0., 0., 0., 0., 0.],\n",
       "       dtype=float32)]"
      ]
     },
     "execution_count": 98,
     "metadata": {},
     "output_type": "execute_result"
    }
   ],
   "source": [
    "model = Sequential()\n",
    "\n",
    "input_layer = Dense(32, input_shape = (8,))\n",
    "model.add(input_layer)\n",
    "model.get_weights()\n"
   ]
  },
  {
   "cell_type": "markdown",
   "metadata": {},
   "source": [
    "compile(\n",
    "    optimizer='rmsprop', loss=None, metrics=None, loss_weights=None,\n",
    "    weighted_metrics=None, run_eagerly=None, steps_per_execution=None, **kwargs\n",
    ")\n",
    "\n",
    "fit(\n",
    "    x=None, y=None, batch_size=None, epochs=1, verbose=1, callbacks=None,\n",
    "    validation_split=0.0, validation_data=None, shuffle=True, class_weight=None,\n",
    "    sample_weight=None, initial_epoch=0, steps_per_epoch=None,\n",
    "    validation_steps=None, validation_batch_size=None, validation_freq=1,\n",
    "    max_queue_size=10, workers=1, use_multiprocessing=False\n",
    ")"
   ]
  },
  {
   "cell_type": "code",
   "execution_count": 102,
   "metadata": {},
   "outputs": [],
   "source": [
    "#tensorboardX\n",
    "from tensorboardX import SummaryWriter\n",
    "from datetime import datetime\n",
    "from packaging import version\n",
    "import keras\n",
    "\n",
    "summary = SummaryWriter()\n",
    "logdir=\"logs\\\\fit\\\\\" + datetime.now().strftime(\"%Y%m%d-%H%M%S\")\n",
    "tensorboard_callback = keras.callbacks.TensorBoard(log_dir=logdir)"
   ]
  },
  {
   "cell_type": "code",
   "execution_count": 103,
   "metadata": {},
   "outputs": [
    {
     "name": "stdout",
     "output_type": "stream",
     "text": [
      "Epoch 1/10\n",
      "4/4 [==============================] - 8s 948ms/step - loss: 11.5403 - accuracy: 0.0683 - val_loss: 11.4477 - val_accuracy: 0.1025\n",
      "Epoch 2/10\n",
      "4/4 [==============================] - 0s 22ms/step - loss: 11.4883 - accuracy: 0.0821 - val_loss: 11.4544 - val_accuracy: 0.1050\n",
      "Epoch 3/10\n",
      "4/4 [==============================] - 0s 21ms/step - loss: 11.4593 - accuracy: 0.1330 - val_loss: 11.4639 - val_accuracy: 0.1025\n",
      "Epoch 4/10\n",
      "4/4 [==============================] - 0s 23ms/step - loss: 11.5251 - accuracy: 0.1366 - val_loss: 11.4765 - val_accuracy: 0.1050\n",
      "Epoch 5/10\n",
      "4/4 [==============================] - 0s 24ms/step - loss: 11.5017 - accuracy: 0.1435 - val_loss: 11.4912 - val_accuracy: 0.1050\n",
      "Epoch 6/10\n",
      "4/4 [==============================] - 0s 20ms/step - loss: 11.5597 - accuracy: 0.1310 - val_loss: 11.5092 - val_accuracy: 0.1000\n",
      "Epoch 7/10\n",
      "4/4 [==============================] - 0s 23ms/step - loss: 11.5858 - accuracy: 0.1256 - val_loss: 11.5284 - val_accuracy: 0.1050\n",
      "Epoch 8/10\n",
      "4/4 [==============================] - 0s 23ms/step - loss: 11.5634 - accuracy: 0.1323 - val_loss: 11.5540 - val_accuracy: 0.1050\n",
      "Epoch 9/10\n",
      "4/4 [==============================] - 0s 22ms/step - loss: 11.6773 - accuracy: 0.1410 - val_loss: 11.5786 - val_accuracy: 0.1025\n",
      "Epoch 10/10\n",
      "4/4 [==============================] - 0s 24ms/step - loss: 11.5510 - accuracy: 0.1178 - val_loss: 11.6096 - val_accuracy: 0.1025\n",
      "<class 'tensorflow.python.keras.callbacks.History'>\n",
      "[11.489638328552246, 11.48814582824707, 11.49055290222168, 11.496818542480469, 11.506009101867676, 11.516666412353516, 11.531868934631348, 11.548044204711914, 11.569975852966309, 11.592796325683594]\n",
      "[0.07249999791383743, 0.08749999850988388, 0.12999999523162842, 0.12999999523162842, 0.14000000059604645, 0.13750000298023224, 0.13750000298023224, 0.13750000298023224, 0.13500000536441803, 0.13500000536441803]\n",
      "[11.447714805603027, 11.454361915588379, 11.463886260986328, 11.476544380187988, 11.491249084472656, 11.509230613708496, 11.5284423828125, 11.553955078125, 11.578646659851074, 11.6095552444458]\n",
      "[0.10249999910593033, 0.10499999672174454, 0.10249999910593033, 0.10499999672174454, 0.10499999672174454, 0.10000000149011612, 0.10499999672174454, 0.10499999672174454, 0.10249999910593033, 0.10249999910593033]\n"
     ]
    },
    {
     "data": {
      "image/png": "[encoded data removed]",
      "text/plain": [
       "<Figure size 432x288 with 2 Axes>"
      ]
     },
     "metadata": {
      "needs_background": "light"
     },
     "output_type": "display_data"
    },
    {
     "data": {
      "text/plain": [
       "'\\nloss: epochs이 한번 돌때마다 훈련 손실값\\naccuracy:  epochs이 한번 돌때마다 정확도\\nval_loss:\\nval_accuracy:\\n'"
      ]
     },
     "execution_count": 103,
     "metadata": {},
     "output_type": "execute_result"
    }
   ],
   "source": [
    "from tensorboardX import SummaryWriter\n",
    "from datetime import datetime\n",
    "from packaging import version\n",
    "from keras.layers import *\n",
    "import matplotlib.pyplot as plt\n",
    "\n",
    "#tensorboardX\n",
    "summary = SummaryWriter()\n",
    "logdir=\"logs\\\\fit\\\\\" + datetime.now().strftime(\"%Y%m%d-%H%M%S\")\n",
    "tensorboard_callback = keras.callbacks.TensorBoard(log_dir=logdir)\n",
    "\n",
    "#임의의 데이터\n",
    "x_train = np.random.random((100,4,8))\n",
    "y_train = np.random.random((100,4,10))\n",
    "\n",
    "#임의의 유효성 검사 데이터\n",
    "x_val = np.random.random((100,4,8))\n",
    "y_val = np.random.random((100,4,10))\n",
    "\n",
    "#순차 모델링\n",
    "model = tf.keras.Sequential()\n",
    "\n",
    "#모델 추가, 레이어 추가\n",
    "model.add(LSTM(16, return_sequences =True)) #순환 신경망 모델\n",
    "model.add(Dense(10, activation='softmax'))\n",
    "\n",
    "#모델 컴파일 \n",
    "model.compile(loss = 'categorical_crossentropy', optimizer = 'RMSprop', metrics = ['accuracy'])\n",
    "\n",
    "#데이터 훈련\n",
    "hist = model.fit(x_train, y_train, batch_size=32, epochs =10, validation_data = (x_val,y_val), callbacks = [tensorboard_callback])\n",
    "print(type(hist))\n",
    "print(hist.history['loss'])\n",
    "print(hist.history['accuracy'])\n",
    "print(hist.history['val_loss'])\n",
    "print(hist.history['val_accuracy'])\n",
    "\n",
    "\n",
    "fig, loss_ax = plt.subplots()\n",
    "acc_ax = loss_ax.twinx()\n",
    "loss_ax.plot(hist.history['loss'], 'y', label='train loss')\n",
    "loss_ax.plot(hist.history['val_loss'], 'r', label='val loss')\n",
    "acc_ax.plot(hist.history['accuracy'], 'b', label='train acc')\n",
    "acc_ax.plot(hist.history['val_accuracy'], 'g', label='val acc')\n",
    "loss_ax.set_xlabel('epoch')\n",
    "loss_ax.set_ylabel('loss')\n",
    "acc_ax.set_ylabel('accuray')\n",
    "loss_ax.legend(loc='upper left')\n",
    "acc_ax.legend(loc='lower left')\n",
    "plt.show()\n",
    "#fit() 히스토리 기능\n",
    "'''\n",
    "loss: epochs이 한번 돌때마다 훈련 손실값\n",
    "accuracy:  epochs이 한번 돌때마다 정확도\n",
    "val_loss:\n",
    "val_accuracy:\n",
    "'''\n"
   ]
  },
  {
   "cell_type": "code",
   "execution_count": 154,
   "metadata": {},
   "outputs": [
    {
     "name": "stdout",
     "output_type": "stream",
     "text": [
      "{'나는': 1, '배고파요오오': 2, '휴일이': 3, '좋습니다': 4, '매일': 5, '휴일이였으면': 6, '좋겠다': 7}\n"
     ]
    }
   ],
   "source": [
    "#One - Hot Encoding\n",
    "from tensorflow.keras.preprocessing.text import Tokenizer\n",
    "\n",
    "str ='배고파요오오 나는 휴일이 좋습니다. 나는 매일 휴일이였으면 좋겠다.'\n",
    "tokenizer = Tokenizer()\n",
    "tokenizer.fit_on_texts([str])\n",
    "print(tokenizer.word_index)"
   ]
  },
  {
   "cell_type": "code",
   "execution_count": 155,
   "metadata": {},
   "outputs": [
    {
     "name": "stdout",
     "output_type": "stream",
     "text": [
      "[2, 1, 3, 4, 1, 5, 6, 7]\n"
     ]
    }
   ],
   "source": [
    "encode = tokenizer.texts_to_sequences([str])[0]\n",
    "print(encode)"
   ]
  },
  {
   "cell_type": "code",
   "execution_count": 156,
   "metadata": {},
   "outputs": [
    {
     "name": "stdout",
     "output_type": "stream",
     "text": [
      "[[0. 0. 1. 0. 0. 0. 0. 0. 0. 0. 0. 0. 0. 0.]\n",
      " [0. 1. 0. 0. 0. 0. 0. 0. 0. 0. 0. 0. 0. 0.]\n",
      " [0. 0. 0. 1. 0. 0. 0. 0. 0. 0. 0. 0. 0. 0.]\n",
      " [0. 0. 0. 0. 1. 0. 0. 0. 0. 0. 0. 0. 0. 0.]\n",
      " [0. 1. 0. 0. 0. 0. 0. 0. 0. 0. 0. 0. 0. 0.]\n",
      " [0. 0. 0. 0. 0. 1. 0. 0. 0. 0. 0. 0. 0. 0.]\n",
      " [0. 0. 0. 0. 0. 0. 1. 0. 0. 0. 0. 0. 0. 0.]\n",
      " [0. 0. 0. 0. 0. 0. 0. 1. 0. 0. 0. 0. 0. 0.]]\n"
     ]
    }
   ],
   "source": [
    "onehot = tf.keras.utils.to_categorical(encode,14)\n",
    "print(onehot)"
   ]
  },
  {
   "cell_type": "code",
   "execution_count": 157,
   "metadata": {},
   "outputs": [],
   "source": [
    "# 모델링 학습을 해보자\n",
    "import pandas as pd\n",
    "import numpy as np\n",
    "from keras.models import Sequential\n",
    "from keras.layers import Dense\n",
    "from keras.layers import Dropout\n",
    "from keras.layers import Flatten\n",
    "from keras.layers import Activation\n",
    "from keras.layers.convolutional import Conv2D\n",
    "from keras.layers.convolutional import MaxPooling2D\n",
    "from keras.optimizers import Adam\n",
    "from keras.utils import np_utils\n",
    "from keras import backend as K\n",
    "from sklearn.utils import shuffle\n",
    "import tensorflow as tf"
   ]
  },
  {
   "cell_type": "code",
   "execution_count": 163,
   "metadata": {},
   "outputs": [],
   "source": [
    "#데이터 로드\n",
    "test = pd.read_csv('test.csv')\n",
    "train = pd.read_csv('train.csv')\n",
    "\n",
    "train_x = train.drop('Survived', axis=1)\n",
    "train_y = train['Survived']\n",
    "\n",
    "test_x =test\n",
    "\n",
    "#결측값 삭제하기\n",
    "train_x= train_x.drop(['Name', 'Ticket', 'Cabin'], axis=1)\n",
    "test_x = test_x.drop(['Name', 'Ticket', 'Cabin'], axis=1)\n",
    "\n",
    "#결측값 채우기 중앙값으로\n",
    "train_age_median = train_x['Age'].median()\n",
    "train_x['Age'] = train_x['Age'].fillna(train_age_median)\n",
    "train_x[\"Embarked\"] = train_x[\"Embarked\"].fillna(\"S\")\n",
    "\n",
    "#test 결측값 채우기\n",
    "test_age_median =test_x[\"Age\"].median()\n",
    "test_x['Age'] = test_x['Age'].fillna(test_age_median)\n",
    "\n",
    "test_x['Fare'] = test_x['Fare'].fillna(test_x['Fare'].describe()[5])\n",
    "\n",
    "#더미 컬럼 생성 \n",
    "train_x_dummy = pd.get_dummies(train_x, columns=['Sex','Embarked'])\n",
    "test_x_dummy = pd.get_dummies(test_x, columns=['Sex','Embarked'])\n",
    "\n",
    "#one - hot\n",
    "train_y_onehot = np_utils.to_categorical(train_y)\n",
    "train_x_dummy_array = train_x_dummy.values.astype('float32')"
   ]
  },
  {
   "cell_type": "code",
   "execution_count": 166,
   "metadata": {},
   "outputs": [
    {
     "name": "stdout",
     "output_type": "stream",
     "text": [
      "Epoch 1/10\n",
      "28/28 [==============================] - 1s 1ms/step - loss: 0.3520 - accuracy: 0.6159\n",
      "WARNING:tensorflow:Early stopping conditioned on metric `loss, patience =2, verbose=1, mode =accuracy` which is not available. Available metrics are: loss,accuracy\n",
      "Epoch 2/10\n",
      "28/28 [==============================] - 0s 1ms/step - loss: 0.3417 - accuracy: 0.6460\n",
      "WARNING:tensorflow:Early stopping conditioned on metric `loss, patience =2, verbose=1, mode =accuracy` which is not available. Available metrics are: loss,accuracy\n",
      "Epoch 3/10\n",
      "28/28 [==============================] - 0s 1ms/step - loss: 0.3699 - accuracy: 0.6230\n",
      "WARNING:tensorflow:Early stopping conditioned on metric `loss, patience =2, verbose=1, mode =accuracy` which is not available. Available metrics are: loss,accuracy\n",
      "Epoch 4/10\n",
      "28/28 [==============================] - 0s 1ms/step - loss: 0.3815 - accuracy: 0.6054\n",
      "WARNING:tensorflow:Early stopping conditioned on metric `loss, patience =2, verbose=1, mode =accuracy` which is not available. Available metrics are: loss,accuracy\n",
      "Epoch 5/10\n",
      "28/28 [==============================] - 0s 1ms/step - loss: 0.3866 - accuracy: 0.6093\n",
      "WARNING:tensorflow:Early stopping conditioned on metric `loss, patience =2, verbose=1, mode =accuracy` which is not available. Available metrics are: loss,accuracy\n",
      "Epoch 6/10\n",
      "28/28 [==============================] - 0s 1ms/step - loss: 0.3696 - accuracy: 0.6143\n",
      "WARNING:tensorflow:Early stopping conditioned on metric `loss, patience =2, verbose=1, mode =accuracy` which is not available. Available metrics are: loss,accuracy\n",
      "Epoch 7/10\n",
      "28/28 [==============================] - 0s 2ms/step - loss: 0.3554 - accuracy: 0.6361\n",
      "WARNING:tensorflow:Early stopping conditioned on metric `loss, patience =2, verbose=1, mode =accuracy` which is not available. Available metrics are: loss,accuracy\n",
      "Epoch 8/10\n",
      "28/28 [==============================] - 0s 2ms/step - loss: 0.3511 - accuracy: 0.6360\n",
      "WARNING:tensorflow:Early stopping conditioned on metric `loss, patience =2, verbose=1, mode =accuracy` which is not available. Available metrics are: loss,accuracy\n",
      "Epoch 9/10\n",
      "28/28 [==============================] - 0s 2ms/step - loss: 0.3820 - accuracy: 0.6116\n",
      "WARNING:tensorflow:Early stopping conditioned on metric `loss, patience =2, verbose=1, mode =accuracy` which is not available. Available metrics are: loss,accuracy\n",
      "Epoch 10/10\n",
      "28/28 [==============================] - 0s 2ms/step - loss: 0.3708 - accuracy: 0.6165\n",
      "WARNING:tensorflow:Early stopping conditioned on metric `loss, patience =2, verbose=1, mode =accuracy` which is not available. Available metrics are: loss,accuracy\n"
     ]
    }
   ],
   "source": [
    "#모델 생성\n",
    "from tensorflow.keras import layers\n",
    "model = tf.keras.Sequential()\n",
    "model.add(layers.Dense(64, activation = 'relu'))\n",
    "model.add(layers.Dense(64, activation = 'relu'))\n",
    "model.add(layers.Dense(2, activation = 'softmax'))\n",
    "\n",
    "#컴파일 \n",
    "#model.compile(optimizer = 'rmsprop', loss='categorical_crossentropy', metrics = ['accuracy'])\n",
    "model.compile(optimizer = 'RMSprop', loss='mse', metrics = ['accuracy'])\n",
    "\n",
    "#fit\n",
    "mycall = tf.keras.callbacks.EarlyStopping(monitor = 'loss, patience =2, verbose=1, mode =accuracy')\n",
    "model.fit(train_x_dummy_array, train_y_onehot, epochs=10, batch_size =32, callbacks=[mycall])\n",
    "\n",
    "#저장\n",
    "model.save('res.h5')"
   ]
  },
  {
   "cell_type": "code",
   "execution_count": 167,
   "metadata": {},
   "outputs": [
    {
     "ename": "ValueError",
     "evalue": "Dataset(s) incompatible with Pandas data types, not table, or no datasets found in HDF5 file.",
     "output_type": "error",
     "traceback": [
      "\u001b[1;31m---------------------------------------------------------------------------\u001b[0m",
      "\u001b[1;31mValueError\u001b[0m                                Traceback (most recent call last)",
      "\u001b[1;32m<ipython-input-167-bf786e634ba8>\u001b[0m in \u001b[0;36m<module>\u001b[1;34m\u001b[0m\n\u001b[1;32m----> 1\u001b[1;33m \u001b[0mres\u001b[0m \u001b[1;33m=\u001b[0m \u001b[0mpd\u001b[0m\u001b[1;33m.\u001b[0m\u001b[0mread_hdf\u001b[0m\u001b[1;33m(\u001b[0m\u001b[1;34m'res.h5'\u001b[0m\u001b[1;33m)\u001b[0m\u001b[1;33m\u001b[0m\u001b[1;33m\u001b[0m\u001b[0m\n\u001b[0m\u001b[0;32m      2\u001b[0m \u001b[0mres\u001b[0m\u001b[1;33m\u001b[0m\u001b[1;33m\u001b[0m\u001b[0m\n",
      "\u001b[1;32mC:\\ProgramData\\Anaconda3\\lib\\site-packages\\pandas\\io\\pytables.py\u001b[0m in \u001b[0;36mread_hdf\u001b[1;34m(path_or_buf, key, mode, errors, where, start, stop, columns, iterator, chunksize, **kwargs)\u001b[0m\n\u001b[0;32m    396\u001b[0m             \u001b[0mgroups\u001b[0m \u001b[1;33m=\u001b[0m \u001b[0mstore\u001b[0m\u001b[1;33m.\u001b[0m\u001b[0mgroups\u001b[0m\u001b[1;33m(\u001b[0m\u001b[1;33m)\u001b[0m\u001b[1;33m\u001b[0m\u001b[1;33m\u001b[0m\u001b[0m\n\u001b[0;32m    397\u001b[0m             \u001b[1;32mif\u001b[0m \u001b[0mlen\u001b[0m\u001b[1;33m(\u001b[0m\u001b[0mgroups\u001b[0m\u001b[1;33m)\u001b[0m \u001b[1;33m==\u001b[0m \u001b[1;36m0\u001b[0m\u001b[1;33m:\u001b[0m\u001b[1;33m\u001b[0m\u001b[1;33m\u001b[0m\u001b[0m\n\u001b[1;32m--> 398\u001b[1;33m                 raise ValueError(\n\u001b[0m\u001b[0;32m    399\u001b[0m                     \u001b[1;34m\"Dataset(s) incompatible with Pandas data types, \"\u001b[0m\u001b[1;33m\u001b[0m\u001b[1;33m\u001b[0m\u001b[0m\n\u001b[0;32m    400\u001b[0m                     \u001b[1;34m\"not table, or no datasets found in HDF5 file.\"\u001b[0m\u001b[1;33m\u001b[0m\u001b[1;33m\u001b[0m\u001b[0m\n",
      "\u001b[1;31mValueError\u001b[0m: Dataset(s) incompatible with Pandas data types, not table, or no datasets found in HDF5 file."
     ]
    }
   ],
   "source": [
    "res = pd.read_hdf('res.h5')\n",
    "res"
   ]
  }
 ],
 "metadata": {
  "kernelspec": {
   "display_name": "Python 3",
   "language": "python",
   "name": "python3"
  },
  "language_info": {
   "codemirror_mode": {
    "name": "ipython",
    "version": 3
   },
   "file_extension": ".py",
   "mimetype": "text/x-python",
   "name": "python",
   "nbconvert_exporter": "python",
   "pygments_lexer": "ipython3",
   "version": "3.8.5"
  }
 },
 "nbformat": 4,
 "nbformat_minor": 4
}
