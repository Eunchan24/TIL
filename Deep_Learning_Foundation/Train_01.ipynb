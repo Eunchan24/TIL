{
 "cells": [
  {
   "cell_type": "code",
   "execution_count": 1,
   "metadata": {},
   "outputs": [],
   "source": [
    "import numpy as np\n",
    "import matplotlib\n",
    "import matplotlib.pyplot as plt\n",
    "import tensorflow as tf\n",
    "import tensorflow.keras as keras\n",
    "import extra_keras_datasets.emnist as emnist\n",
    "from tensorflow.keras.layers import Flatten, Dense\n",
    "from tensorflow.keras.layers import Conv2D, MaxPooling2D\n",
    "from tensorflow.keras.layers import BatchNormalization, Dropout"
   ]
  },
  {
   "cell_type": "code",
   "execution_count": 2,
   "metadata": {},
   "outputs": [
    {
     "name": "stderr",
     "output_type": "stream",
     "text": [
      "INFO:root:Loading dataset = emnist\n"
     ]
    },
    {
     "name": "stdout",
     "output_type": "stream",
     "text": [
      "numpy               : 1.19.2\n",
      "matplotlib          : 3.3.2\n",
      "tensorflow          : 2.4.1\n",
      "tensorflow.keras    : 2.4.0\n"
     ]
    },
    {
     "name": "stderr",
     "output_type": "stream",
     "text": [
      "WARNING:root:Please cite the following paper when using or referencing this Extra Keras Dataset:\n",
      "WARNING:root:Cohen, G., Afshar, S., Tapson, J., & van Schaik, A. (2017). EMNIST: an extension of MNIST to handwritten letters. Retrieved from http://arxiv.org/abs/1702.05373\n"
     ]
    }
   ],
   "source": [
    "def show_version(pkg):\n",
    "    print(\"{0:20}: {1}\".format(pkg.__name__, pkg.__version__))\n",
    "    \n",
    "show_version(np)\n",
    "show_version(matplotlib)\n",
    "show_version(tf)\n",
    "show_version(keras)\n",
    "\n",
    "#Step:1-3\n",
    "# EMNIST-Letters  : https://www.nist.gov/itl/products-and-services/emnist-dataset\n",
    "(t_images, t_labels), (v_images, v_labels) = emnist.load_data(type=\"letters\")\n",
    "\n",
    "def show_data_info(label, data):\n",
    "    print(\"{:12}: {}, {}\".format(label, data.dtype, data.shape))\n",
    "    \n",
    "def compatible_image(img):\n",
    "    if img.ndim == 3 and img.shape[2] == 1:\n",
    "        img = img.reshape(img.shape[0], img.shape[1])\n",
    "    return img\n",
    "\n",
    "def show_image(img):\n",
    "    plt.rcParams[\"font.size\"] = 10\n",
    "    plt.figure()\n",
    "    plt.imshow(compatible_image(img))\n",
    "    plt.colorbar()\n",
    "    plt.grid(False)\n",
    "    plt.show()"
   ]
  },
  {
   "cell_type": "code",
   "execution_count": 3,
   "metadata": {},
   "outputs": [
    {
     "name": "stdout",
     "output_type": "stream",
     "text": [
      "t_images    : uint8, (124800, 28, 28)\n",
      "t_labels    : uint8, (124800,)\n",
      "v_images    : uint8, (20800, 28, 28)\n",
      "v_labels    : uint8, (20800,)\n"
     ]
    },
    {
     "data": {
      "image/png": "[encoded data removed]",
      "text/plain": [
       "<Figure size 432x288 with 2 Axes>"
      ]
     },
     "metadata": {
      "needs_background": "light"
     },
     "output_type": "display_data"
    }
   ],
   "source": [
    "# Step 1-4\n",
    "# 28*28 픽셀 이미지 데이터, 훈련데이터 124800, 평가데이터 20800\n",
    "# 27개의 분류, 0~26 정답레이블. 1=A, 2=B, ..., 26=Z\n",
    "show_data_info(\"t_images\", t_images)  # 3차원\n",
    "show_data_info(\"t_labels\", t_labels)\n",
    "show_data_info(\"v_images\", v_images)\n",
    "show_data_info(\"v_labels\", v_labels)\n",
    "show_image(t_images[0])"
   ]
  },
  {
   "cell_type": "code",
   "execution_count": 4,
   "metadata": {},
   "outputs": [
    {
     "name": "stdout",
     "output_type": "stream",
     "text": [
      "t_images    : float32, (124800, 28, 28, 1)\n",
      "v_images    : float32, (20800, 28, 28, 1)\n"
     ]
    },
    {
     "data": {
      "image/png": "[encoded data removed]",
      "text/plain": [
       "<Figure size 432x288 with 2 Axes>"
      ]
     },
     "metadata": {
      "needs_background": "light"
     },
     "output_type": "display_data"
    }
   ],
   "source": [
    "# Step 1-5\n",
    "# 1) 이미지가 3차원(124800, 28, 28), CNN에서는 4차원 형상으로 변환\n",
    "#   => (1248, 28, 28, 1) : 회색으로 사용하겠다. (batch, height, width, channel)\n",
    "\n",
    "def adjust_image(img):\n",
    "    img = img.astype('float32')\n",
    "    img = img / 255.0\n",
    "    img = img.reshape(-1, 28, 28, 1) # 3D -> 4D\n",
    "    return img\n",
    "\n",
    "t_images = adjust_image(t_images)\n",
    "v_images = adjust_image(v_images)\n",
    "\n",
    "show_data_info(\"t_images\", t_images) # 3차원\n",
    "show_data_info(\"v_images\", v_images)\n",
    "show_image(t_images[0])"
   ]
  },
  {
   "cell_type": "code",
   "execution_count": 5,
   "metadata": {},
   "outputs": [
    {
     "name": "stdout",
     "output_type": "stream",
     "text": [
      "Model: \"sequential\"\n",
      "_________________________________________________________________\n",
      "Layer (type)                 Output Shape              Param #   \n",
      "=================================================================\n",
      "conv2d (Conv2D)              (None, 26, 26, 32)        320       \n",
      "_________________________________________________________________\n",
      "conv2d_1 (Conv2D)            (None, 24, 24, 32)        9248      \n",
      "_________________________________________________________________\n",
      "conv2d_2 (Conv2D)            (None, 20, 20, 32)        25632     \n",
      "_________________________________________________________________\n",
      "max_pooling2d (MaxPooling2D) (None, 10, 10, 32)        0         \n",
      "_________________________________________________________________\n",
      "dropout (Dropout)            (None, 10, 10, 32)        0         \n",
      "_________________________________________________________________\n",
      "conv2d_3 (Conv2D)            (None, 8, 8, 64)          18496     \n",
      "_________________________________________________________________\n",
      "conv2d_4 (Conv2D)            (None, 6, 6, 64)          36928     \n",
      "_________________________________________________________________\n",
      "conv2d_5 (Conv2D)            (None, 2, 2, 64)          102464    \n",
      "_________________________________________________________________\n",
      "max_pooling2d_1 (MaxPooling2 (None, 1, 1, 64)          0         \n",
      "_________________________________________________________________\n",
      "dropout_1 (Dropout)          (None, 1, 1, 64)          0         \n",
      "_________________________________________________________________\n",
      "flatten (Flatten)            (None, 64)                0         \n",
      "_________________________________________________________________\n",
      "dense (Dense)                (None, 128)               8320      \n",
      "_________________________________________________________________\n",
      "dropout_2 (Dropout)          (None, 128)               0         \n",
      "_________________________________________________________________\n",
      "dense_1 (Dense)              (None, 27)                3483      \n",
      "=================================================================\n",
      "Total params: 204,891\n",
      "Trainable params: 204,891\n",
      "Non-trainable params: 0\n",
      "_________________________________________________________________\n"
     ]
    }
   ],
   "source": [
    "\n",
    "# step 1-6  모델 정의\n",
    "# 순차 모델 Conv2D(3) -> MaxPooling2D() -> Conv2D(3) -> MaxPooling2D() -> Flatten()\n",
    "#   -> Dense(128) -> Dense(27)\n",
    "import keras\n",
    "from keras import layers\n",
    "from keras import models\n",
    "from keras import optimizers\n",
    "\n",
    "# 순차 모델 생성\n",
    "model = models.Sequential()\n",
    "\n",
    "# Conv2D -> 4\n",
    "model.add(layers.Conv2D(32, (3,3), activation='relu', input_shape=(28, 28, 1)))\n",
    "model.add(layers.Conv2D(32, (3,3), activation='relu'))\n",
    "model.add(layers.Conv2D(32, (5,5), activation='relu'))\n",
    "model.add(layers.MaxPooling2D(2,2))\n",
    "model.add(Dropout(0.2))\n",
    "\n",
    "model.add(layers.Conv2D(64, (3,3), activation='relu'))\n",
    "model.add(layers.Conv2D(64, (3,3), activation='relu'))\n",
    "model.add(layers.Conv2D(64, (5,5), activation='relu'))\n",
    "model.add(layers.MaxPooling2D(2,2))\n",
    "model.add(Dropout(0.2))\n",
    "\n",
    "# 1차원\n",
    "model.add(layers.Flatten())\n",
    "\n",
    "model.add(layers.Dense(128, activation='relu'))\n",
    "model.add(Dropout(0.2))\n",
    "          \n",
    "# 출력\n",
    "model.add(layers.Dense(27, activation='softmax'))\n",
    "\n",
    "# step 1-7\n",
    "opt = keras.optimizers.Adam()\n",
    "loss = keras.losses.SparseCategoricalCrossentropy()\n",
    "model.compile(optimizer=opt, loss=loss, metrics=['accuracy'])\n",
    "\n",
    "model.summary()  # 모델 정보 확인"
   ]
  }
 ],
 "metadata": {
  "kernelspec": {
   "display_name": "Python 3",
   "language": "python",
   "name": "python3"
  },
  "language_info": {
   "codemirror_mode": {
    "name": "ipython",
    "version": 3
   },
   "file_extension": ".py",
   "mimetype": "text/x-python",
   "name": "python",
   "nbconvert_exporter": "python",
   "pygments_lexer": "ipython3",
   "version": "3.8.5"
  }
 },
 "nbformat": 4,
 "nbformat_minor": 4
}
