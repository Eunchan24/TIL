{
 "cells": [
  {
   "cell_type": "code",
   "execution_count": 8,
   "id": "23c112c5-7b94-4318-9ef2-f431f2286e97",
   "metadata": {},
   "outputs": [
    {
     "name": "stdout",
     "output_type": "stream",
     "text": [
      "(32000, 10)\n",
      "(32000, 1)\n",
      "(10, 1) (1,)\n"
     ]
    }
   ],
   "source": [
    "# Shapes of Dense Layers\n",
    "import tensorflow as tf\n",
    "from tensorflow.keras.layers import Dense\n",
    "\n",
    "N, n_feature = 32000, 10\n",
    "x = tf.random.normal(shape=(N, n_feature))\n",
    "print(x.shape)\n",
    "\n",
    "dense = Dense(units=1, activation='relu') # imp. an AN\n",
    "y = dense(x) # forward propagation\n",
    "W, B = dense.get_weights()\n",
    "print(y.shape)\n",
    "print(W.shape, B.shape)\n"
   ]
  },
  {
   "cell_type": "code",
   "execution_count": 11,
   "id": "a690d511-a34c-438e-ac7c-a6fd66ce9feb",
   "metadata": {},
   "outputs": [
    {
     "name": "stdout",
     "output_type": "stream",
     "text": [
      "[[0.7302997 ]\n",
      " [0.7073016 ]\n",
      " [0.85964644]\n",
      " [0.54993886]\n",
      " [0.4499604 ]\n",
      " [0.38135242]\n",
      " [0.15301937]\n",
      " [0.5333911 ]]\n",
      "[[0.7302997 ]\n",
      " [0.70730156]\n",
      " [0.85964644]\n",
      " [0.54993886]\n",
      " [0.44996038]\n",
      " [0.38135242]\n",
      " [0.1530194 ]\n",
      " [0.5333911 ]]\n"
     ]
    }
   ],
   "source": [
    "import tensorflow as tf\n",
    "from tensorflow.keras.layers import Dense\n",
    "\n",
    "N, n_feature = 8, 10\n",
    "x = tf.random.normal(shape=(N, n_feature))\n",
    "\n",
    "dense = Dense(units=1, activation='sigmoid') # imp. an AN\n",
    "y_tf = dense(x)\n",
    "\n",
    "W, B = dense.get_weights()\n",
    "\n",
    "y_man = tf.linalg.matmul(x, W) + B\n",
    "y_man = 1/(1 + tf.math.exp(-y_man)) # sigmoid\n",
    "\n",
    "print(y_tf.numpy())\n",
    "print(y_man.numpy())"
   ]
  },
  {
   "cell_type": "code",
   "execution_count": null,
   "id": "b4f621d1-1fc1-4730-8f18-d70113b1e240",
   "metadata": {},
   "outputs": [],
   "source": []
  }
 ],
 "metadata": {
  "kernelspec": {
   "display_name": "Python 3 (ipykernel)",
   "language": "python",
   "name": "python3"
  },
  "language_info": {
   "codemirror_mode": {
    "name": "ipython",
    "version": 3
   },
   "file_extension": ".py",
   "mimetype": "text/x-python",
   "name": "python",
   "nbconvert_exporter": "python",
   "pygments_lexer": "ipython3",
   "version": "3.8.10"
  }
 },
 "nbformat": 4,
 "nbformat_minor": 5
}
