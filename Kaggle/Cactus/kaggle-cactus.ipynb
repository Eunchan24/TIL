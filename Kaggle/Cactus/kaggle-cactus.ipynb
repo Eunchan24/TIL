{
 "cells": [
  {
   "cell_type": "code",
   "execution_count": 1,
   "id": "dietary-analysis",
   "metadata": {
    "_cell_guid": "b1076dfc-b9ad-4769-8c92-a6c4dae69d19",
    "_uuid": "8f2839f25d086af736a60e9eeb907d3b93b6e0e5",
    "execution": {
     "iopub.execute_input": "2021-05-12T07:36:02.024750Z",
     "iopub.status.busy": "2021-05-12T07:36:02.023256Z",
     "iopub.status.idle": "2021-05-12T07:36:02.036044Z",
     "shell.execute_reply": "2021-05-12T07:36:02.035501Z"
    },
    "papermill": {
     "duration": 0.040216,
     "end_time": "2021-05-12T07:36:02.036188",
     "exception": false,
     "start_time": "2021-05-12T07:36:01.995972",
     "status": "completed"
    },
    "tags": []
   },
   "outputs": [
    {
     "name": "stdout",
     "output_type": "stream",
     "text": [
      "/kaggle/input/aerial-cactus-identification/sample_submission.csv\n",
      "/kaggle/input/aerial-cactus-identification/train.zip\n",
      "/kaggle/input/aerial-cactus-identification/test.zip\n",
      "/kaggle/input/aerial-cactus-identification/train.csv\n"
     ]
    }
   ],
   "source": [
    "# This Python 3 environment comes with many helpful analytics libraries installed\n",
    "# It is defined by the kaggle/python Docker image: https://github.com/kaggle/docker-python\n",
    "# For example, here's several helpful packages to load\n",
    "\n",
    "import numpy as np # linear algebra\n",
    "import pandas as pd # data processing, CSV file I/O (e.g. pd.read_csv)\n",
    "\n",
    "# Input data files are available in the read-only \"../input/\" directory\n",
    "# For example, running this (by clicking run or pressing Shift+Enter) will list all files under the input directory\n",
    "import zipfile\n",
    "import os\n",
    "for dirname, _, filenames in os.walk('/kaggle/input'):\n",
    "    for filename in filenames:\n",
    "        print(os.path.join(dirname, filename))\n",
    "\n",
    "# You can write up to 20GB to the current directory (/kaggle/working/) that gets preserved as output when you create a version using \"Save & Run All\" \n",
    "# You can also write temporary files to /kaggle/temp/, but they won't be saved outside of the current session"
   ]
  },
  {
   "cell_type": "code",
   "execution_count": 2,
   "id": "editorial-knock",
   "metadata": {
    "execution": {
     "iopub.execute_input": "2021-05-12T07:36:02.100718Z",
     "iopub.status.busy": "2021-05-12T07:36:02.099948Z",
     "iopub.status.idle": "2021-05-12T07:36:02.107166Z",
     "shell.execute_reply": "2021-05-12T07:36:02.106547Z"
    },
    "papermill": {
     "duration": 0.035617,
     "end_time": "2021-05-12T07:36:02.107291",
     "exception": false,
     "start_time": "2021-05-12T07:36:02.071674",
     "status": "completed"
    },
    "tags": []
   },
   "outputs": [
    {
     "data": {
      "text/plain": [
       "['sample_submission.csv', 'train.zip', 'test.zip', 'train.csv']"
      ]
     },
     "execution_count": 2,
     "metadata": {},
     "output_type": "execute_result"
    }
   ],
   "source": [
    "working_dir = os.listdir('/kaggle/input/aerial-cactus-identification')\n",
    "working_dir"
   ]
  },
  {
   "cell_type": "code",
   "execution_count": 3,
   "id": "international-april",
   "metadata": {
    "execution": {
     "iopub.execute_input": "2021-05-12T07:36:02.157848Z",
     "iopub.status.busy": "2021-05-12T07:36:02.157246Z",
     "iopub.status.idle": "2021-05-12T07:36:05.763701Z",
     "shell.execute_reply": "2021-05-12T07:36:05.764451Z"
    },
    "papermill": {
     "duration": 3.633592,
     "end_time": "2021-05-12T07:36:05.764645",
     "exception": false,
     "start_time": "2021-05-12T07:36:02.131053",
     "status": "completed"
    },
    "tags": []
   },
   "outputs": [
    {
     "name": "stdout",
     "output_type": "stream",
     "text": [
      "17500\n",
      "4000\n"
     ]
    }
   ],
   "source": [
    "with zipfile.ZipFile(\"/kaggle/input/aerial-cactus-identification/train.zip\",\"r\") as z:\n",
    "    z.extractall(\"/kaggle/temp/\")\n",
    "with zipfile.ZipFile(\"/kaggle/input/aerial-cactus-identification/test.zip\",\"r\") as z:\n",
    "    z.extractall(\"/kaggle/temp/test/\")\n",
    "\n",
    "print(len(os.listdir(\"/kaggle/temp/train\")))\n",
    "print(len(os.listdir(\"/kaggle/temp/test/test\")))"
   ]
  },
  {
   "cell_type": "code",
   "execution_count": 4,
   "id": "legitimate-observation",
   "metadata": {
    "execution": {
     "iopub.execute_input": "2021-05-12T07:36:05.815022Z",
     "iopub.status.busy": "2021-05-12T07:36:05.814274Z",
     "iopub.status.idle": "2021-05-12T07:36:05.828595Z",
     "shell.execute_reply": "2021-05-12T07:36:05.828145Z"
    },
    "papermill": {
     "duration": 0.040139,
     "end_time": "2021-05-12T07:36:05.828701",
     "exception": false,
     "start_time": "2021-05-12T07:36:05.788562",
     "status": "completed"
    },
    "tags": []
   },
   "outputs": [
    {
     "data": {
      "text/plain": [
       "'/kaggle/temp/train'"
      ]
     },
     "execution_count": 4,
     "metadata": {},
     "output_type": "execute_result"
    }
   ],
   "source": [
    "# train_dir\n",
    "os.listdir('/kaggle/temp/train')\n",
    "train_dir = '/kaggle/temp/train'\n",
    "train_dir"
   ]
  },
  {
   "cell_type": "code",
   "execution_count": 5,
   "id": "quantitative-wages",
   "metadata": {
    "execution": {
     "iopub.execute_input": "2021-05-12T07:36:05.879574Z",
     "iopub.status.busy": "2021-05-12T07:36:05.878844Z",
     "iopub.status.idle": "2021-05-12T07:36:05.884502Z",
     "shell.execute_reply": "2021-05-12T07:36:05.884076Z"
    },
    "papermill": {
     "duration": 0.03238,
     "end_time": "2021-05-12T07:36:05.884616",
     "exception": false,
     "start_time": "2021-05-12T07:36:05.852236",
     "status": "completed"
    },
    "tags": []
   },
   "outputs": [],
   "source": [
    "# test_dir\n",
    "os.listdir('/kaggle/temp/test/test')\n",
    "test_dir = '/kaggle/temp/test/test'"
   ]
  },
  {
   "cell_type": "code",
   "execution_count": 6,
   "id": "efficient-watershed",
   "metadata": {
    "execution": {
     "iopub.execute_input": "2021-05-12T07:36:05.936704Z",
     "iopub.status.busy": "2021-05-12T07:36:05.936212Z",
     "iopub.status.idle": "2021-05-12T07:36:05.965256Z",
     "shell.execute_reply": "2021-05-12T07:36:05.964611Z"
    },
    "papermill": {
     "duration": 0.057356,
     "end_time": "2021-05-12T07:36:05.965383",
     "exception": false,
     "start_time": "2021-05-12T07:36:05.908027",
     "status": "completed"
    },
    "tags": []
   },
   "outputs": [],
   "source": [
    "csv_path ='/kaggle/input/aerial-cactus-identification/train.csv'\n",
    "df = pd.read_csv(csv_path)"
   ]
  },
  {
   "cell_type": "code",
   "execution_count": 7,
   "id": "american-cholesterol",
   "metadata": {
    "execution": {
     "iopub.execute_input": "2021-05-12T07:36:06.026418Z",
     "iopub.status.busy": "2021-05-12T07:36:06.025739Z",
     "iopub.status.idle": "2021-05-12T07:36:06.033759Z",
     "shell.execute_reply": "2021-05-12T07:36:06.033283Z"
    },
    "papermill": {
     "duration": 0.044286,
     "end_time": "2021-05-12T07:36:06.033902",
     "exception": false,
     "start_time": "2021-05-12T07:36:05.989616",
     "status": "completed"
    },
    "tags": []
   },
   "outputs": [
    {
     "data": {
      "text/html": [
       "<div>\n",
       "<style scoped>\n",
       "    .dataframe tbody tr th:only-of-type {\n",
       "        vertical-align: middle;\n",
       "    }\n",
       "\n",
       "    .dataframe tbody tr th {\n",
       "        vertical-align: top;\n",
       "    }\n",
       "\n",
       "    .dataframe thead th {\n",
       "        text-align: right;\n",
       "    }\n",
       "</style>\n",
       "<table border=\"1\" class=\"dataframe\">\n",
       "  <thead>\n",
       "    <tr style=\"text-align: right;\">\n",
       "      <th></th>\n",
       "      <th>id</th>\n",
       "      <th>has_cactus</th>\n",
       "    </tr>\n",
       "  </thead>\n",
       "  <tbody>\n",
       "    <tr>\n",
       "      <th>0</th>\n",
       "      <td>0004be2cfeaba1c0361d39e2b000257b.jpg</td>\n",
       "      <td>1</td>\n",
       "    </tr>\n",
       "    <tr>\n",
       "      <th>1</th>\n",
       "      <td>000c8a36845c0208e833c79c1bffedd1.jpg</td>\n",
       "      <td>1</td>\n",
       "    </tr>\n",
       "    <tr>\n",
       "      <th>2</th>\n",
       "      <td>000d1e9a533f62e55c289303b072733d.jpg</td>\n",
       "      <td>1</td>\n",
       "    </tr>\n",
       "    <tr>\n",
       "      <th>3</th>\n",
       "      <td>0011485b40695e9138e92d0b3fb55128.jpg</td>\n",
       "      <td>1</td>\n",
       "    </tr>\n",
       "    <tr>\n",
       "      <th>4</th>\n",
       "      <td>0014d7a11e90b62848904c1418fc8cf2.jpg</td>\n",
       "      <td>1</td>\n",
       "    </tr>\n",
       "  </tbody>\n",
       "</table>\n",
       "</div>"
      ],
      "text/plain": [
       "                                     id  has_cactus\n",
       "0  0004be2cfeaba1c0361d39e2b000257b.jpg           1\n",
       "1  000c8a36845c0208e833c79c1bffedd1.jpg           1\n",
       "2  000d1e9a533f62e55c289303b072733d.jpg           1\n",
       "3  0011485b40695e9138e92d0b3fb55128.jpg           1\n",
       "4  0014d7a11e90b62848904c1418fc8cf2.jpg           1"
      ]
     },
     "execution_count": 7,
     "metadata": {},
     "output_type": "execute_result"
    }
   ],
   "source": [
    "df.head()"
   ]
  },
  {
   "cell_type": "code",
   "execution_count": 8,
   "id": "million-business",
   "metadata": {
    "execution": {
     "iopub.execute_input": "2021-05-12T07:36:06.090308Z",
     "iopub.status.busy": "2021-05-12T07:36:06.089638Z",
     "iopub.status.idle": "2021-05-12T07:36:06.092776Z",
     "shell.execute_reply": "2021-05-12T07:36:06.093186Z"
    },
    "papermill": {
     "duration": 0.035024,
     "end_time": "2021-05-12T07:36:06.093316",
     "exception": false,
     "start_time": "2021-05-12T07:36:06.058292",
     "status": "completed"
    },
    "tags": []
   },
   "outputs": [
    {
     "data": {
      "text/plain": [
       "0    0004be2cfeaba1c0361d39e2b000257b.jpg\n",
       "1    000c8a36845c0208e833c79c1bffedd1.jpg\n",
       "2    000d1e9a533f62e55c289303b072733d.jpg\n",
       "3    0011485b40695e9138e92d0b3fb55128.jpg\n",
       "4    0014d7a11e90b62848904c1418fc8cf2.jpg\n",
       "Name: id, dtype: object"
      ]
     },
     "execution_count": 8,
     "metadata": {},
     "output_type": "execute_result"
    }
   ],
   "source": [
    "filenames = df['id']\n",
    "filenames.head()"
   ]
  },
  {
   "cell_type": "code",
   "execution_count": 9,
   "id": "suitable-liverpool",
   "metadata": {
    "execution": {
     "iopub.execute_input": "2021-05-12T07:36:06.145596Z",
     "iopub.status.busy": "2021-05-12T07:36:06.145086Z",
     "iopub.status.idle": "2021-05-12T07:36:06.148942Z",
     "shell.execute_reply": "2021-05-12T07:36:06.148491Z"
    },
    "papermill": {
     "duration": 0.031626,
     "end_time": "2021-05-12T07:36:06.149055",
     "exception": false,
     "start_time": "2021-05-12T07:36:06.117429",
     "status": "completed"
    },
    "tags": []
   },
   "outputs": [],
   "source": [
    "file_path = [os.path.join(train_dir)]"
   ]
  },
  {
   "cell_type": "code",
   "execution_count": 10,
   "id": "recorded-winning",
   "metadata": {
    "execution": {
     "iopub.execute_input": "2021-05-12T07:36:06.234682Z",
     "iopub.status.busy": "2021-05-12T07:36:06.234037Z",
     "iopub.status.idle": "2021-05-12T07:36:06.237173Z",
     "shell.execute_reply": "2021-05-12T07:36:06.237565Z"
    },
    "papermill": {
     "duration": 0.064576,
     "end_time": "2021-05-12T07:36:06.237722",
     "exception": false,
     "start_time": "2021-05-12T07:36:06.173146",
     "status": "completed"
    },
    "tags": []
   },
   "outputs": [
    {
     "data": {
      "text/plain": [
       "['/kaggle/temp/train/0004be2cfeaba1c0361d39e2b000257b.jpg',\n",
       " '/kaggle/temp/train/000c8a36845c0208e833c79c1bffedd1.jpg',\n",
       " '/kaggle/temp/train/000d1e9a533f62e55c289303b072733d.jpg',\n",
       " '/kaggle/temp/train/0011485b40695e9138e92d0b3fb55128.jpg']"
      ]
     },
     "execution_count": 10,
     "metadata": {},
     "output_type": "execute_result"
    }
   ],
   "source": [
    "file_path = [os.path.join(train_dir, fname) for fname in filenames]\n",
    "file_path[:4]"
   ]
  },
  {
   "cell_type": "code",
   "execution_count": 11,
   "id": "perfect-darkness",
   "metadata": {
    "execution": {
     "iopub.execute_input": "2021-05-12T07:36:06.297439Z",
     "iopub.status.busy": "2021-05-12T07:36:06.296654Z",
     "iopub.status.idle": "2021-05-12T07:36:06.300356Z",
     "shell.execute_reply": "2021-05-12T07:36:06.299922Z"
    },
    "papermill": {
     "duration": 0.037961,
     "end_time": "2021-05-12T07:36:06.300464",
     "exception": false,
     "start_time": "2021-05-12T07:36:06.262503",
     "status": "completed"
    },
    "tags": []
   },
   "outputs": [
    {
     "data": {
      "text/html": [
       "<div>\n",
       "<style scoped>\n",
       "    .dataframe tbody tr th:only-of-type {\n",
       "        vertical-align: middle;\n",
       "    }\n",
       "\n",
       "    .dataframe tbody tr th {\n",
       "        vertical-align: top;\n",
       "    }\n",
       "\n",
       "    .dataframe thead th {\n",
       "        text-align: right;\n",
       "    }\n",
       "</style>\n",
       "<table border=\"1\" class=\"dataframe\">\n",
       "  <thead>\n",
       "    <tr style=\"text-align: right;\">\n",
       "      <th></th>\n",
       "      <th>id</th>\n",
       "      <th>has_cactus</th>\n",
       "    </tr>\n",
       "  </thead>\n",
       "  <tbody>\n",
       "    <tr>\n",
       "      <th>0</th>\n",
       "      <td>/kaggle/temp/train/0004be2cfeaba1c0361d39e2b00...</td>\n",
       "      <td>1</td>\n",
       "    </tr>\n",
       "    <tr>\n",
       "      <th>1</th>\n",
       "      <td>/kaggle/temp/train/000c8a36845c0208e833c79c1bf...</td>\n",
       "      <td>1</td>\n",
       "    </tr>\n",
       "    <tr>\n",
       "      <th>2</th>\n",
       "      <td>/kaggle/temp/train/000d1e9a533f62e55c289303b07...</td>\n",
       "      <td>1</td>\n",
       "    </tr>\n",
       "    <tr>\n",
       "      <th>3</th>\n",
       "      <td>/kaggle/temp/train/0011485b40695e9138e92d0b3fb...</td>\n",
       "      <td>1</td>\n",
       "    </tr>\n",
       "    <tr>\n",
       "      <th>4</th>\n",
       "      <td>/kaggle/temp/train/0014d7a11e90b62848904c1418f...</td>\n",
       "      <td>1</td>\n",
       "    </tr>\n",
       "  </tbody>\n",
       "</table>\n",
       "</div>"
      ],
      "text/plain": [
       "                                                  id  has_cactus\n",
       "0  /kaggle/temp/train/0004be2cfeaba1c0361d39e2b00...           1\n",
       "1  /kaggle/temp/train/000c8a36845c0208e833c79c1bf...           1\n",
       "2  /kaggle/temp/train/000d1e9a533f62e55c289303b07...           1\n",
       "3  /kaggle/temp/train/0011485b40695e9138e92d0b3fb...           1\n",
       "4  /kaggle/temp/train/0014d7a11e90b62848904c1418f...           1"
      ]
     },
     "execution_count": 11,
     "metadata": {},
     "output_type": "execute_result"
    }
   ],
   "source": [
    "train_df = pd.DataFrame(data={'id':file_path, 'has_cactus': df['has_cactus']})\n",
    "train_df.head()"
   ]
  },
  {
   "cell_type": "code",
   "execution_count": 12,
   "id": "smooth-insertion",
   "metadata": {
    "execution": {
     "iopub.execute_input": "2021-05-12T07:36:06.376679Z",
     "iopub.status.busy": "2021-05-12T07:36:06.375958Z",
     "iopub.status.idle": "2021-05-12T07:36:06.378632Z",
     "shell.execute_reply": "2021-05-12T07:36:06.378181Z"
    },
    "papermill": {
     "duration": 0.053341,
     "end_time": "2021-05-12T07:36:06.378750",
     "exception": false,
     "start_time": "2021-05-12T07:36:06.325409",
     "status": "completed"
    },
    "tags": []
   },
   "outputs": [],
   "source": [
    "train_df = train_df.astype(np.str)"
   ]
  },
  {
   "cell_type": "code",
   "execution_count": 13,
   "id": "suitable-consolidation",
   "metadata": {
    "execution": {
     "iopub.execute_input": "2021-05-12T07:36:06.433488Z",
     "iopub.status.busy": "2021-05-12T07:36:06.432760Z",
     "iopub.status.idle": "2021-05-12T07:36:06.436232Z",
     "shell.execute_reply": "2021-05-12T07:36:06.435781Z"
    },
    "papermill": {
     "duration": 0.031886,
     "end_time": "2021-05-12T07:36:06.436337",
     "exception": false,
     "start_time": "2021-05-12T07:36:06.404451",
     "status": "completed"
    },
    "tags": []
   },
   "outputs": [
    {
     "data": {
      "text/plain": [
       "17500"
      ]
     },
     "execution_count": 13,
     "metadata": {},
     "output_type": "execute_result"
    }
   ],
   "source": [
    "len(train_df)"
   ]
  },
  {
   "cell_type": "code",
   "execution_count": 14,
   "id": "white-collar",
   "metadata": {
    "execution": {
     "iopub.execute_input": "2021-05-12T07:36:06.492697Z",
     "iopub.status.busy": "2021-05-12T07:36:06.491927Z",
     "iopub.status.idle": "2021-05-12T07:36:06.495090Z",
     "shell.execute_reply": "2021-05-12T07:36:06.495522Z"
    },
    "papermill": {
     "duration": 0.033735,
     "end_time": "2021-05-12T07:36:06.495644",
     "exception": false,
     "start_time": "2021-05-12T07:36:06.461909",
     "status": "completed"
    },
    "tags": []
   },
   "outputs": [
    {
     "data": {
      "text/plain": [
       "(16500, 1000)"
      ]
     },
     "execution_count": 14,
     "metadata": {},
     "output_type": "execute_result"
    }
   ],
   "source": [
    "train_df = train_df[:-1000]\n",
    "test_df = train_df [-1000:]\n",
    "len(train_df), len(test_df)"
   ]
  },
  {
   "cell_type": "code",
   "execution_count": 15,
   "id": "divine-equity",
   "metadata": {
    "execution": {
     "iopub.execute_input": "2021-05-12T07:36:06.552783Z",
     "iopub.status.busy": "2021-05-12T07:36:06.552071Z",
     "iopub.status.idle": "2021-05-12T07:36:06.555533Z",
     "shell.execute_reply": "2021-05-12T07:36:06.555095Z"
    },
    "papermill": {
     "duration": 0.034081,
     "end_time": "2021-05-12T07:36:06.555642",
     "exception": false,
     "start_time": "2021-05-12T07:36:06.521561",
     "status": "completed"
    },
    "tags": []
   },
   "outputs": [
    {
     "data": {
      "text/plain": [
       "'/kaggle/temp/train/0004be2cfeaba1c0361d39e2b000257b.jpg'"
      ]
     },
     "execution_count": 15,
     "metadata": {},
     "output_type": "execute_result"
    }
   ],
   "source": [
    "path = train_df['id'][0]\n",
    "path"
   ]
  },
  {
   "cell_type": "code",
   "execution_count": 16,
   "id": "joint-amendment",
   "metadata": {
    "execution": {
     "iopub.execute_input": "2021-05-12T07:36:06.614808Z",
     "iopub.status.busy": "2021-05-12T07:36:06.614245Z",
     "iopub.status.idle": "2021-05-12T07:36:06.630084Z",
     "shell.execute_reply": "2021-05-12T07:36:06.629556Z"
    },
    "papermill": {
     "duration": 0.048251,
     "end_time": "2021-05-12T07:36:06.630222",
     "exception": false,
     "start_time": "2021-05-12T07:36:06.581971",
     "status": "completed"
    },
    "tags": []
   },
   "outputs": [
    {
     "data": {
      "text/html": [
       "<div>\n",
       "<style scoped>\n",
       "    .dataframe tbody tr th:only-of-type {\n",
       "        vertical-align: middle;\n",
       "    }\n",
       "\n",
       "    .dataframe tbody tr th {\n",
       "        vertical-align: top;\n",
       "    }\n",
       "\n",
       "    .dataframe thead th {\n",
       "        text-align: right;\n",
       "    }\n",
       "</style>\n",
       "<table border=\"1\" class=\"dataframe\">\n",
       "  <thead>\n",
       "    <tr style=\"text-align: right;\">\n",
       "      <th></th>\n",
       "      <th>id</th>\n",
       "      <th>has_cactus</th>\n",
       "    </tr>\n",
       "  </thead>\n",
       "  <tbody>\n",
       "    <tr>\n",
       "      <th>0</th>\n",
       "      <td>000940378805c44108d287872b2f04ce.jpg</td>\n",
       "      <td>0.5</td>\n",
       "    </tr>\n",
       "    <tr>\n",
       "      <th>1</th>\n",
       "      <td>0017242f54ececa4512b4d7937d1e21e.jpg</td>\n",
       "      <td>0.5</td>\n",
       "    </tr>\n",
       "    <tr>\n",
       "      <th>2</th>\n",
       "      <td>001ee6d8564003107853118ab87df407.jpg</td>\n",
       "      <td>0.5</td>\n",
       "    </tr>\n",
       "    <tr>\n",
       "      <th>3</th>\n",
       "      <td>002e175c3c1e060769475f52182583d0.jpg</td>\n",
       "      <td>0.5</td>\n",
       "    </tr>\n",
       "    <tr>\n",
       "      <th>4</th>\n",
       "      <td>0036e44a7e8f7218e9bc7bf8137e4943.jpg</td>\n",
       "      <td>0.5</td>\n",
       "    </tr>\n",
       "  </tbody>\n",
       "</table>\n",
       "</div>"
      ],
      "text/plain": [
       "                                     id  has_cactus\n",
       "0  000940378805c44108d287872b2f04ce.jpg         0.5\n",
       "1  0017242f54ececa4512b4d7937d1e21e.jpg         0.5\n",
       "2  001ee6d8564003107853118ab87df407.jpg         0.5\n",
       "3  002e175c3c1e060769475f52182583d0.jpg         0.5\n",
       "4  0036e44a7e8f7218e9bc7bf8137e4943.jpg         0.5"
      ]
     },
     "execution_count": 16,
     "metadata": {},
     "output_type": "execute_result"
    }
   ],
   "source": [
    "sample_csv_path = '/kaggle/input/aerial-cactus-identification/sample_submission.csv'\n",
    "sample_df = pd.read_csv(sample_csv_path)\n",
    "sample_df.head()"
   ]
  },
  {
   "cell_type": "code",
   "execution_count": 17,
   "id": "genetic-ballot",
   "metadata": {
    "execution": {
     "iopub.execute_input": "2021-05-12T07:36:06.694975Z",
     "iopub.status.busy": "2021-05-12T07:36:06.694254Z",
     "iopub.status.idle": "2021-05-12T07:36:11.865314Z",
     "shell.execute_reply": "2021-05-12T07:36:11.864479Z"
    },
    "papermill": {
     "duration": 5.205484,
     "end_time": "2021-05-12T07:36:11.865444",
     "exception": false,
     "start_time": "2021-05-12T07:36:06.659960",
     "status": "completed"
    },
    "tags": []
   },
   "outputs": [],
   "source": [
    "#import\n",
    "\n",
    "from tqdm import tqdm_notebook\n",
    "\n",
    "import matplotlib.pyplot as plt\n",
    "from PIL import Image\n",
    "\n",
    "import tensorflow as tf\n",
    "from tensorflow.keras import layers\n",
    "from tensorflow.keras.preprocessing.image import ImageDataGenerator"
   ]
  },
  {
   "cell_type": "code",
   "execution_count": 18,
   "id": "separated-heating",
   "metadata": {
    "execution": {
     "iopub.execute_input": "2021-05-12T07:36:11.925576Z",
     "iopub.status.busy": "2021-05-12T07:36:11.924921Z",
     "iopub.status.idle": "2021-05-12T07:36:11.928203Z",
     "shell.execute_reply": "2021-05-12T07:36:11.928601Z"
    },
    "papermill": {
     "duration": 0.035899,
     "end_time": "2021-05-12T07:36:11.928740",
     "exception": false,
     "start_time": "2021-05-12T07:36:11.892841",
     "status": "completed"
    },
    "tags": []
   },
   "outputs": [
    {
     "data": {
      "text/plain": [
       "'/kaggle/temp/test/test'"
      ]
     },
     "execution_count": 18,
     "metadata": {},
     "output_type": "execute_result"
    }
   ],
   "source": [
    "test_dir = '/kaggle/temp/test/test'\n",
    "test_dir"
   ]
  },
  {
   "cell_type": "code",
   "execution_count": 19,
   "id": "revised-import",
   "metadata": {
    "execution": {
     "iopub.execute_input": "2021-05-12T07:36:11.988083Z",
     "iopub.status.busy": "2021-05-12T07:36:11.987085Z",
     "iopub.status.idle": "2021-05-12T07:36:11.994576Z",
     "shell.execute_reply": "2021-05-12T07:36:11.994162Z"
    },
    "papermill": {
     "duration": 0.03833,
     "end_time": "2021-05-12T07:36:11.994699",
     "exception": false,
     "start_time": "2021-05-12T07:36:11.956369",
     "status": "completed"
    },
    "tags": []
   },
   "outputs": [
    {
     "data": {
      "text/plain": [
       "['62124a291ab400eff3f7ccc01abf5089.jpg',\n",
       " 'cc7b2b90d4315e3e0ff932fe20f74b1f.jpg',\n",
       " '52678825f8c6064e520aebd048a7db88.jpg',\n",
       " '7208f5dc6ac9c9d30c55095254a15ca1.jpg',\n",
       " '513da61f8620fa5f08fd51d5e5c314bd.jpg']"
      ]
     },
     "execution_count": 19,
     "metadata": {},
     "output_type": "execute_result"
    }
   ],
   "source": [
    "os.listdir(test_dir)[:5]"
   ]
  },
  {
   "cell_type": "code",
   "execution_count": 20,
   "id": "signed-objective",
   "metadata": {
    "execution": {
     "iopub.execute_input": "2021-05-12T07:36:12.067410Z",
     "iopub.status.busy": "2021-05-12T07:36:12.064577Z",
     "iopub.status.idle": "2021-05-12T07:36:12.070585Z",
     "shell.execute_reply": "2021-05-12T07:36:12.070177Z"
    },
    "papermill": {
     "duration": 0.047434,
     "end_time": "2021-05-12T07:36:12.070700",
     "exception": false,
     "start_time": "2021-05-12T07:36:12.023266",
     "status": "completed"
    },
    "tags": []
   },
   "outputs": [
    {
     "data": {
      "text/plain": [
       "'/kaggle/temp/train/0004be2cfeaba1c0361d39e2b000257b.jpg'"
      ]
     },
     "execution_count": 20,
     "metadata": {},
     "output_type": "execute_result"
    }
   ],
   "source": [
    "path = train_df['id'][0]\n",
    "path"
   ]
  },
  {
   "cell_type": "code",
   "execution_count": 21,
   "id": "ready-parade",
   "metadata": {
    "execution": {
     "iopub.execute_input": "2021-05-12T07:36:12.136548Z",
     "iopub.status.busy": "2021-05-12T07:36:12.135856Z",
     "iopub.status.idle": "2021-05-12T07:36:12.138999Z",
     "shell.execute_reply": "2021-05-12T07:36:12.139376Z"
    },
    "papermill": {
     "duration": 0.04009,
     "end_time": "2021-05-12T07:36:12.139506",
     "exception": false,
     "start_time": "2021-05-12T07:36:12.099416",
     "status": "completed"
    },
    "tags": []
   },
   "outputs": [
    {
     "data": {
      "text/html": [
       "<div>\n",
       "<style scoped>\n",
       "    .dataframe tbody tr th:only-of-type {\n",
       "        vertical-align: middle;\n",
       "    }\n",
       "\n",
       "    .dataframe tbody tr th {\n",
       "        vertical-align: top;\n",
       "    }\n",
       "\n",
       "    .dataframe thead th {\n",
       "        text-align: right;\n",
       "    }\n",
       "</style>\n",
       "<table border=\"1\" class=\"dataframe\">\n",
       "  <thead>\n",
       "    <tr style=\"text-align: right;\">\n",
       "      <th></th>\n",
       "      <th>id</th>\n",
       "      <th>has_cactus</th>\n",
       "    </tr>\n",
       "  </thead>\n",
       "  <tbody>\n",
       "    <tr>\n",
       "      <th>0</th>\n",
       "      <td>/kaggle/temp/train/0004be2cfeaba1c0361d39e2b00...</td>\n",
       "      <td>1</td>\n",
       "    </tr>\n",
       "    <tr>\n",
       "      <th>1</th>\n",
       "      <td>/kaggle/temp/train/000c8a36845c0208e833c79c1bf...</td>\n",
       "      <td>1</td>\n",
       "    </tr>\n",
       "    <tr>\n",
       "      <th>2</th>\n",
       "      <td>/kaggle/temp/train/000d1e9a533f62e55c289303b07...</td>\n",
       "      <td>1</td>\n",
       "    </tr>\n",
       "    <tr>\n",
       "      <th>3</th>\n",
       "      <td>/kaggle/temp/train/0011485b40695e9138e92d0b3fb...</td>\n",
       "      <td>1</td>\n",
       "    </tr>\n",
       "    <tr>\n",
       "      <th>4</th>\n",
       "      <td>/kaggle/temp/train/0014d7a11e90b62848904c1418f...</td>\n",
       "      <td>1</td>\n",
       "    </tr>\n",
       "  </tbody>\n",
       "</table>\n",
       "</div>"
      ],
      "text/plain": [
       "                                                  id has_cactus\n",
       "0  /kaggle/temp/train/0004be2cfeaba1c0361d39e2b00...          1\n",
       "1  /kaggle/temp/train/000c8a36845c0208e833c79c1bf...          1\n",
       "2  /kaggle/temp/train/000d1e9a533f62e55c289303b07...          1\n",
       "3  /kaggle/temp/train/0011485b40695e9138e92d0b3fb...          1\n",
       "4  /kaggle/temp/train/0014d7a11e90b62848904c1418f...          1"
      ]
     },
     "execution_count": 21,
     "metadata": {},
     "output_type": "execute_result"
    }
   ],
   "source": [
    "train_df.head()"
   ]
  },
  {
   "cell_type": "code",
   "execution_count": 22,
   "id": "stock-forwarding",
   "metadata": {
    "execution": {
     "iopub.execute_input": "2021-05-12T07:36:12.200898Z",
     "iopub.status.busy": "2021-05-12T07:36:12.200389Z",
     "iopub.status.idle": "2021-05-12T07:36:12.477682Z",
     "shell.execute_reply": "2021-05-12T07:36:12.478301Z"
    },
    "papermill": {
     "duration": 0.310223,
     "end_time": "2021-05-12T07:36:12.478496",
     "exception": false,
     "start_time": "2021-05-12T07:36:12.168273",
     "status": "completed"
    },
    "tags": []
   },
   "outputs": [
    {
     "data": {
      "image/png": "[encoded data removed]",
      "text/plain": [
       "<Figure size 432x288 with 1 Axes>"
      ]
     },
     "metadata": {
      "needs_background": "light"
     },
     "output_type": "display_data"
    }
   ],
   "source": [
    "img_pil = Image.open(path)\n",
    "image = np.array(img_pil)\n",
    "image.shape\n",
    "plt.imshow(image)\n",
    "plt.show()"
   ]
  },
  {
   "cell_type": "markdown",
   "id": "linear-directive",
   "metadata": {
    "papermill": {
     "duration": 0.031421,
     "end_time": "2021-05-12T07:36:12.556592",
     "exception": false,
     "start_time": "2021-05-12T07:36:12.525171",
     "status": "completed"
    },
    "tags": []
   },
   "source": [
    "# Hyperparameter"
   ]
  },
  {
   "cell_type": "code",
   "execution_count": 23,
   "id": "naval-newark",
   "metadata": {
    "execution": {
     "iopub.execute_input": "2021-05-12T07:36:12.624086Z",
     "iopub.status.busy": "2021-05-12T07:36:12.622993Z",
     "iopub.status.idle": "2021-05-12T07:36:12.625738Z",
     "shell.execute_reply": "2021-05-12T07:36:12.625310Z"
    },
    "papermill": {
     "duration": 0.038115,
     "end_time": "2021-05-12T07:36:12.625864",
     "exception": false,
     "start_time": "2021-05-12T07:36:12.587749",
     "status": "completed"
    },
    "tags": []
   },
   "outputs": [],
   "source": [
    "input_shape = (32, 32, 3)\n",
    "batch_size = 32\n",
    "num_classes = 2\n",
    "num_epochs = 10\n",
    "\n",
    "learning_rate = 0.01"
   ]
  },
  {
   "cell_type": "markdown",
   "id": "fitted-college",
   "metadata": {
    "papermill": {
     "duration": 0.031493,
     "end_time": "2021-05-12T07:36:12.688143",
     "exception": false,
     "start_time": "2021-05-12T07:36:12.656650",
     "status": "completed"
    },
    "tags": []
   },
   "source": [
    "# Model"
   ]
  },
  {
   "cell_type": "code",
   "execution_count": 24,
   "id": "similar-newton",
   "metadata": {
    "execution": {
     "iopub.execute_input": "2021-05-12T07:36:12.768301Z",
     "iopub.status.busy": "2021-05-12T07:36:12.767726Z",
     "iopub.status.idle": "2021-05-12T07:36:15.250177Z",
     "shell.execute_reply": "2021-05-12T07:36:15.251110Z"
    },
    "papermill": {
     "duration": 2.53034,
     "end_time": "2021-05-12T07:36:15.251319",
     "exception": false,
     "start_time": "2021-05-12T07:36:12.720979",
     "status": "completed"
    },
    "tags": []
   },
   "outputs": [],
   "source": [
    "inputs = layers.Input(input_shape)\n",
    "net = layers.Conv2D(64, (3, 3), padding='same')(inputs)\n",
    "net = layers.Conv2D(64, (3, 3), padding='same')(net)\n",
    "net = layers.Conv2D(64, (3, 3), padding='same')(net)\n",
    "net = layers.BatchNormalization()(net)\n",
    "net = layers.Activation('relu')(net)\n",
    "net = layers.MaxPooling2D(pool_size=(2, 2))(net)\n",
    "\n",
    "net = layers.Conv2D(128, (3, 3), padding='same')(net)\n",
    "net = layers.Conv2D(128, (3, 3), padding='same')(net)\n",
    "net = layers.Conv2D(128, (3, 3), padding='same')(net)\n",
    "net = layers.BatchNormalization()(net)\n",
    "net = layers.Activation('relu')(net)\n",
    "net = layers.MaxPooling2D(pool_size=(2, 2))(net)\n",
    "net = layers.Dropout(0.25)(net)\n",
    "\n",
    "net = layers.Conv2D(256, (3, 3), padding='same')(net)\n",
    "net = layers.Conv2D(256, (3, 3), padding='same')(net)\n",
    "net = layers.Conv2D(256, (3, 3), padding='same')(net)\n",
    "net = layers.BatchNormalization()(net)\n",
    "net = layers.Activation('relu')(net)\n",
    "net = layers.MaxPooling2D(pool_size=(2, 2))(net)\n",
    "net = layers.Dropout(0.25)(net)\n",
    "\n",
    "net = layers.Conv2D(512, (3, 3), padding='same')(net)\n",
    "net = layers.Conv2D(512, (3, 3), padding='same')(net)\n",
    "net = layers.Conv2D(512, (3, 3), padding='same')(net)\n",
    "net = layers.BatchNormalization()(net)\n",
    "net = layers.Activation('relu')(net)\n",
    "net = layers.MaxPooling2D(pool_size=(2, 2))(net)\n",
    "net = layers.Dropout(0.25)(net)\n",
    "\n",
    "net = layers.Conv2D(512, (3, 3), padding='same')(net)\n",
    "net = layers.Conv2D(512, (3, 3), padding='same')(net)\n",
    "net = layers.Conv2D(512, (3, 3), padding='same')(net)\n",
    "net = layers.BatchNormalization()(net)\n",
    "net = layers.Activation('relu')(net)\n",
    "net = layers.MaxPooling2D(pool_size=(2, 2))(net)\n",
    "net = layers.Dropout(0.25)(net)\n",
    "\n",
    "net = layers.Flatten()(net)\n",
    "net = layers.Dense(512)(net)\n",
    "net = layers.Activation('relu')(net)\n",
    "net = layers.Dropout(0.5)(net)\n",
    "net = layers.Dense(num_classes)(net)\n",
    "net = layers.Activation('softmax')(net)\n",
    "\n",
    "model = tf.keras.Model(inputs=inputs, outputs=net)"
   ]
  },
  {
   "cell_type": "code",
   "execution_count": 25,
   "id": "lyric-tracker",
   "metadata": {
    "execution": {
     "iopub.execute_input": "2021-05-12T07:36:15.361812Z",
     "iopub.status.busy": "2021-05-12T07:36:15.361068Z",
     "iopub.status.idle": "2021-05-12T07:36:15.371313Z",
     "shell.execute_reply": "2021-05-12T07:36:15.372180Z"
    },
    "papermill": {
     "duration": 0.072038,
     "end_time": "2021-05-12T07:36:15.372380",
     "exception": false,
     "start_time": "2021-05-12T07:36:15.300342",
     "status": "completed"
    },
    "tags": []
   },
   "outputs": [],
   "source": [
    "model.compile(loss='sparse_categorical_crossentropy',\n",
    "              optimizer=tf.keras.optimizers.Adam(learning_rate),\n",
    "              metrics=['accuracy'])"
   ]
  },
  {
   "cell_type": "markdown",
   "id": "divided-armenia",
   "metadata": {
    "papermill": {
     "duration": 0.052409,
     "end_time": "2021-05-12T07:36:15.478781",
     "exception": false,
     "start_time": "2021-05-12T07:36:15.426372",
     "status": "completed"
    },
    "tags": []
   },
   "source": [
    "# Data Preprocess"
   ]
  },
  {
   "cell_type": "code",
   "execution_count": 26,
   "id": "exact-patrol",
   "metadata": {
    "execution": {
     "iopub.execute_input": "2021-05-12T07:36:15.588642Z",
     "iopub.status.busy": "2021-05-12T07:36:15.587783Z",
     "iopub.status.idle": "2021-05-12T07:36:15.589932Z",
     "shell.execute_reply": "2021-05-12T07:36:15.589320Z"
    },
    "papermill": {
     "duration": 0.059579,
     "end_time": "2021-05-12T07:36:15.590080",
     "exception": false,
     "start_time": "2021-05-12T07:36:15.530501",
     "status": "completed"
    },
    "tags": []
   },
   "outputs": [],
   "source": [
    "train_datagen = ImageDataGenerator(\n",
    "    rescale=1./255.,\n",
    "    width_shift_range=0.3,\n",
    "    zoom_range=0.2,\n",
    "    horizontal_flip=True,)\n",
    "\n",
    "test_datagen = ImageDataGenerator(\n",
    "    rescale=1./255.\n",
    ")"
   ]
  },
  {
   "cell_type": "code",
   "execution_count": 27,
   "id": "according-shanghai",
   "metadata": {
    "execution": {
     "iopub.execute_input": "2021-05-12T07:36:15.679630Z",
     "iopub.status.busy": "2021-05-12T07:36:15.678857Z",
     "iopub.status.idle": "2021-05-12T07:36:15.847667Z",
     "shell.execute_reply": "2021-05-12T07:36:15.847245Z"
    },
    "papermill": {
     "duration": 0.217516,
     "end_time": "2021-05-12T07:36:15.847787",
     "exception": false,
     "start_time": "2021-05-12T07:36:15.630271",
     "status": "completed"
    },
    "tags": []
   },
   "outputs": [
    {
     "name": "stdout",
     "output_type": "stream",
     "text": [
      "Found 16500 validated image filenames belonging to 2 classes.\n",
      "Found 1000 validated image filenames belonging to 2 classes.\n"
     ]
    }
   ],
   "source": [
    "train_generator = train_datagen.flow_from_dataframe(\n",
    "    train_df,\n",
    "    x_col='id',\n",
    "    y_col='has_cactus',\n",
    "    target_size=input_shape[:2],\n",
    "    batch_size=batch_size,\n",
    "    class_mode='binary'\n",
    ")\n",
    "\n",
    "test_generator = test_datagen.flow_from_dataframe(\n",
    "    test_df,\n",
    "    x_col='id',\n",
    "    y_col='has_cactus',\n",
    "    target_size=input_shape[:2],\n",
    "    batch_size=batch_size,\n",
    "    class_mode='binary'\n",
    ")"
   ]
  },
  {
   "cell_type": "markdown",
   "id": "heavy-retention",
   "metadata": {
    "papermill": {
     "duration": 0.030003,
     "end_time": "2021-05-12T07:36:15.908015",
     "exception": false,
     "start_time": "2021-05-12T07:36:15.878012",
     "status": "completed"
    },
    "tags": []
   },
   "source": [
    "# Train"
   ]
  },
  {
   "cell_type": "code",
   "execution_count": 28,
   "id": "automated-amateur",
   "metadata": {
    "execution": {
     "iopub.execute_input": "2021-05-12T07:36:15.972710Z",
     "iopub.status.busy": "2021-05-12T07:36:15.972083Z",
     "iopub.status.idle": "2021-05-12T07:39:15.073695Z",
     "shell.execute_reply": "2021-05-12T07:39:15.073248Z"
    },
    "papermill": {
     "duration": 179.135612,
     "end_time": "2021-05-12T07:39:15.073855",
     "exception": false,
     "start_time": "2021-05-12T07:36:15.938243",
     "status": "completed"
    },
    "tags": []
   },
   "outputs": [
    {
     "name": "stderr",
     "output_type": "stream",
     "text": [
      "/opt/conda/lib/python3.7/site-packages/tensorflow/python/keras/engine/training.py:1844: UserWarning: `Model.fit_generator` is deprecated and will be removed in a future version. Please use `Model.fit`, which supports generators.\n",
      "  warnings.warn('`Model.fit_generator` is deprecated and '\n"
     ]
    },
    {
     "name": "stdout",
     "output_type": "stream",
     "text": [
      "Epoch 1/10\n",
      "516/516 [==============================] - 24s 36ms/step - loss: 1.0981 - accuracy: 0.7281 - val_loss: 0.4780 - val_accuracy: 0.7440\n",
      "Epoch 2/10\n",
      "516/516 [==============================] - 17s 33ms/step - loss: 0.3587 - accuracy: 0.8093 - val_loss: 1.4918 - val_accuracy: 0.7730\n",
      "Epoch 3/10\n",
      "516/516 [==============================] - 17s 34ms/step - loss: 0.2927 - accuracy: 0.8704 - val_loss: 4.6686 - val_accuracy: 0.7510\n",
      "Epoch 4/10\n",
      "516/516 [==============================] - 17s 32ms/step - loss: 0.2238 - accuracy: 0.9071 - val_loss: 0.3831 - val_accuracy: 0.7950\n",
      "Epoch 5/10\n",
      "516/516 [==============================] - 17s 34ms/step - loss: 0.2067 - accuracy: 0.9207 - val_loss: 0.3180 - val_accuracy: 0.8750\n",
      "Epoch 6/10\n",
      "516/516 [==============================] - 16s 32ms/step - loss: 0.2181 - accuracy: 0.9186 - val_loss: 0.1725 - val_accuracy: 0.9250\n",
      "Epoch 7/10\n",
      "516/516 [==============================] - 18s 34ms/step - loss: 0.1547 - accuracy: 0.9431 - val_loss: 0.5884 - val_accuracy: 0.8450\n",
      "Epoch 8/10\n",
      "516/516 [==============================] - 17s 33ms/step - loss: 0.1400 - accuracy: 0.9480 - val_loss: 1.0853 - val_accuracy: 0.8110\n",
      "Epoch 9/10\n",
      "516/516 [==============================] - 18s 35ms/step - loss: 0.1314 - accuracy: 0.9542 - val_loss: 0.3269 - val_accuracy: 0.8580\n",
      "Epoch 10/10\n",
      "516/516 [==============================] - 17s 33ms/step - loss: 0.1204 - accuracy: 0.9563 - val_loss: 0.5917 - val_accuracy: 0.8020\n"
     ]
    },
    {
     "data": {
      "text/plain": [
       "<tensorflow.python.keras.callbacks.History at 0x7f8acf4fe410>"
      ]
     },
     "execution_count": 28,
     "metadata": {},
     "output_type": "execute_result"
    }
   ],
   "source": [
    "model.fit_generator(\n",
    "    train_generator,\n",
    "    steps_per_epoch=len(train_generator),\n",
    "    epochs=num_epochs,\n",
    "    validation_data=test_generator,\n",
    "    validation_steps=len(test_generator)\n",
    ")"
   ]
  },
  {
   "cell_type": "markdown",
   "id": "found-theme",
   "metadata": {
    "papermill": {
     "duration": 0.762709,
     "end_time": "2021-05-12T07:39:16.562554",
     "exception": false,
     "start_time": "2021-05-12T07:39:15.799845",
     "status": "completed"
    },
    "tags": []
   },
   "source": [
    "# Evaluate"
   ]
  },
  {
   "cell_type": "code",
   "execution_count": 29,
   "id": "hourly-willow",
   "metadata": {
    "execution": {
     "iopub.execute_input": "2021-05-12T07:39:18.071924Z",
     "iopub.status.busy": "2021-05-12T07:39:18.071348Z",
     "iopub.status.idle": "2021-05-12T07:39:18.076618Z",
     "shell.execute_reply": "2021-05-12T07:39:18.077003Z"
    },
    "papermill": {
     "duration": 0.772845,
     "end_time": "2021-05-12T07:39:18.077144",
     "exception": false,
     "start_time": "2021-05-12T07:39:17.304299",
     "status": "completed"
    },
    "tags": []
   },
   "outputs": [
    {
     "data": {
      "text/plain": [
       "'/kaggle/temp/test/test'"
      ]
     },
     "execution_count": 29,
     "metadata": {},
     "output_type": "execute_result"
    }
   ],
   "source": [
    "test_dir"
   ]
  },
  {
   "cell_type": "code",
   "execution_count": 30,
   "id": "surgical-refund",
   "metadata": {
    "execution": {
     "iopub.execute_input": "2021-05-12T07:39:19.987686Z",
     "iopub.status.busy": "2021-05-12T07:39:19.986996Z",
     "iopub.status.idle": "2021-05-12T07:39:19.990391Z",
     "shell.execute_reply": "2021-05-12T07:39:19.990811Z"
    },
    "papermill": {
     "duration": 0.778813,
     "end_time": "2021-05-12T07:39:19.990955",
     "exception": false,
     "start_time": "2021-05-12T07:39:19.212142",
     "status": "completed"
    },
    "tags": []
   },
   "outputs": [
    {
     "data": {
      "text/html": [
       "<div>\n",
       "<style scoped>\n",
       "    .dataframe tbody tr th:only-of-type {\n",
       "        vertical-align: middle;\n",
       "    }\n",
       "\n",
       "    .dataframe tbody tr th {\n",
       "        vertical-align: top;\n",
       "    }\n",
       "\n",
       "    .dataframe thead th {\n",
       "        text-align: right;\n",
       "    }\n",
       "</style>\n",
       "<table border=\"1\" class=\"dataframe\">\n",
       "  <thead>\n",
       "    <tr style=\"text-align: right;\">\n",
       "      <th></th>\n",
       "      <th>id</th>\n",
       "      <th>has_cactus</th>\n",
       "    </tr>\n",
       "  </thead>\n",
       "  <tbody>\n",
       "    <tr>\n",
       "      <th>0</th>\n",
       "      <td>000940378805c44108d287872b2f04ce.jpg</td>\n",
       "      <td>0.5</td>\n",
       "    </tr>\n",
       "    <tr>\n",
       "      <th>1</th>\n",
       "      <td>0017242f54ececa4512b4d7937d1e21e.jpg</td>\n",
       "      <td>0.5</td>\n",
       "    </tr>\n",
       "    <tr>\n",
       "      <th>2</th>\n",
       "      <td>001ee6d8564003107853118ab87df407.jpg</td>\n",
       "      <td>0.5</td>\n",
       "    </tr>\n",
       "    <tr>\n",
       "      <th>3</th>\n",
       "      <td>002e175c3c1e060769475f52182583d0.jpg</td>\n",
       "      <td>0.5</td>\n",
       "    </tr>\n",
       "    <tr>\n",
       "      <th>4</th>\n",
       "      <td>0036e44a7e8f7218e9bc7bf8137e4943.jpg</td>\n",
       "      <td>0.5</td>\n",
       "    </tr>\n",
       "  </tbody>\n",
       "</table>\n",
       "</div>"
      ],
      "text/plain": [
       "                                     id  has_cactus\n",
       "0  000940378805c44108d287872b2f04ce.jpg         0.5\n",
       "1  0017242f54ececa4512b4d7937d1e21e.jpg         0.5\n",
       "2  001ee6d8564003107853118ab87df407.jpg         0.5\n",
       "3  002e175c3c1e060769475f52182583d0.jpg         0.5\n",
       "4  0036e44a7e8f7218e9bc7bf8137e4943.jpg         0.5"
      ]
     },
     "execution_count": 30,
     "metadata": {},
     "output_type": "execute_result"
    }
   ],
   "source": [
    "sample_df.head()"
   ]
  },
  {
   "cell_type": "code",
   "execution_count": 31,
   "id": "underlying-yugoslavia",
   "metadata": {
    "execution": {
     "iopub.execute_input": "2021-05-12T07:39:21.435525Z",
     "iopub.status.busy": "2021-05-12T07:39:21.434678Z",
     "iopub.status.idle": "2021-05-12T07:41:59.498615Z",
     "shell.execute_reply": "2021-05-12T07:41:59.496533Z"
    },
    "papermill": {
     "duration": 158.792618,
     "end_time": "2021-05-12T07:41:59.498749",
     "exception": false,
     "start_time": "2021-05-12T07:39:20.706131",
     "status": "completed"
    },
    "tags": []
   },
   "outputs": [
    {
     "name": "stderr",
     "output_type": "stream",
     "text": [
      "/opt/conda/lib/python3.7/site-packages/ipykernel_launcher.py:3: TqdmDeprecationWarning: This function will be removed in tqdm==5.0.0\n",
      "Please use `tqdm.notebook.tqdm` instead of `tqdm.tqdm_notebook`\n",
      "  This is separate from the ipykernel package so we can avoid doing imports until\n"
     ]
    },
    {
     "data": {
      "application/vnd.jupyter.widget-view+json": {
       "model_id": "11a9d57b4d9a4e2d8d146327451adaa2",
       "version_major": 2,
       "version_minor": 0
      },
      "text/plain": [
       "  0%|          | 0/4000 [00:00<?, ?it/s]"
      ]
     },
     "metadata": {},
     "output_type": "display_data"
    }
   ],
   "source": [
    "preds = []\n",
    "\n",
    "for fname in tqdm_notebook(sample_df['id']):\n",
    "    path = os.path.join(test_dir, fname)\n",
    "    \n",
    "    img_pil = Image.open(path)\n",
    "    image = np.array(img_pil)\n",
    "    \n",
    "    pred = model.predict(image[tf.newaxis, ...])\n",
    "    pred = np.argmax(pred)\n",
    "    preds.append(pred)"
   ]
  },
  {
   "cell_type": "code",
   "execution_count": 32,
   "id": "cathedral-consent",
   "metadata": {
    "execution": {
     "iopub.execute_input": "2021-05-12T07:42:01.064178Z",
     "iopub.status.busy": "2021-05-12T07:42:01.062453Z",
     "iopub.status.idle": "2021-05-12T07:42:01.064997Z",
     "shell.execute_reply": "2021-05-12T07:42:01.065456Z"
    },
    "papermill": {
     "duration": 0.76334,
     "end_time": "2021-05-12T07:42:01.065612",
     "exception": false,
     "start_time": "2021-05-12T07:42:00.302272",
     "status": "completed"
    },
    "tags": []
   },
   "outputs": [],
   "source": [
    "submission_df = pd.DataFrame(data={'id':sample_df['id'], 'has_cactus':preds})"
   ]
  },
  {
   "cell_type": "code",
   "execution_count": 33,
   "id": "affecting-target",
   "metadata": {
    "execution": {
     "iopub.execute_input": "2021-05-12T07:42:02.617225Z",
     "iopub.status.busy": "2021-05-12T07:42:02.616440Z",
     "iopub.status.idle": "2021-05-12T07:42:02.619711Z",
     "shell.execute_reply": "2021-05-12T07:42:02.620142Z"
    },
    "papermill": {
     "duration": 0.769297,
     "end_time": "2021-05-12T07:42:02.620281",
     "exception": false,
     "start_time": "2021-05-12T07:42:01.850984",
     "status": "completed"
    },
    "tags": []
   },
   "outputs": [
    {
     "data": {
      "text/html": [
       "<div>\n",
       "<style scoped>\n",
       "    .dataframe tbody tr th:only-of-type {\n",
       "        vertical-align: middle;\n",
       "    }\n",
       "\n",
       "    .dataframe tbody tr th {\n",
       "        vertical-align: top;\n",
       "    }\n",
       "\n",
       "    .dataframe thead th {\n",
       "        text-align: right;\n",
       "    }\n",
       "</style>\n",
       "<table border=\"1\" class=\"dataframe\">\n",
       "  <thead>\n",
       "    <tr style=\"text-align: right;\">\n",
       "      <th></th>\n",
       "      <th>id</th>\n",
       "      <th>has_cactus</th>\n",
       "    </tr>\n",
       "  </thead>\n",
       "  <tbody>\n",
       "    <tr>\n",
       "      <th>0</th>\n",
       "      <td>000940378805c44108d287872b2f04ce.jpg</td>\n",
       "      <td>1</td>\n",
       "    </tr>\n",
       "    <tr>\n",
       "      <th>1</th>\n",
       "      <td>0017242f54ececa4512b4d7937d1e21e.jpg</td>\n",
       "      <td>1</td>\n",
       "    </tr>\n",
       "    <tr>\n",
       "      <th>2</th>\n",
       "      <td>001ee6d8564003107853118ab87df407.jpg</td>\n",
       "      <td>1</td>\n",
       "    </tr>\n",
       "    <tr>\n",
       "      <th>3</th>\n",
       "      <td>002e175c3c1e060769475f52182583d0.jpg</td>\n",
       "      <td>1</td>\n",
       "    </tr>\n",
       "    <tr>\n",
       "      <th>4</th>\n",
       "      <td>0036e44a7e8f7218e9bc7bf8137e4943.jpg</td>\n",
       "      <td>1</td>\n",
       "    </tr>\n",
       "  </tbody>\n",
       "</table>\n",
       "</div>"
      ],
      "text/plain": [
       "                                     id  has_cactus\n",
       "0  000940378805c44108d287872b2f04ce.jpg           1\n",
       "1  0017242f54ececa4512b4d7937d1e21e.jpg           1\n",
       "2  001ee6d8564003107853118ab87df407.jpg           1\n",
       "3  002e175c3c1e060769475f52182583d0.jpg           1\n",
       "4  0036e44a7e8f7218e9bc7bf8137e4943.jpg           1"
      ]
     },
     "execution_count": 33,
     "metadata": {},
     "output_type": "execute_result"
    }
   ],
   "source": [
    "submission_df.head()"
   ]
  },
  {
   "cell_type": "code",
   "execution_count": 34,
   "id": "palestinian-scottish",
   "metadata": {
    "execution": {
     "iopub.execute_input": "2021-05-12T07:42:04.114867Z",
     "iopub.status.busy": "2021-05-12T07:42:04.114263Z",
     "iopub.status.idle": "2021-05-12T07:42:04.534864Z",
     "shell.execute_reply": "2021-05-12T07:42:04.534309Z"
    },
    "papermill": {
     "duration": 1.16798,
     "end_time": "2021-05-12T07:42:04.535040",
     "exception": false,
     "start_time": "2021-05-12T07:42:03.367060",
     "status": "completed"
    },
    "tags": []
   },
   "outputs": [],
   "source": [
    "submission_df.to_csv('submission.csv', index=False)"
   ]
  },
  {
   "cell_type": "code",
   "execution_count": 35,
   "id": "missing-enhancement",
   "metadata": {
    "execution": {
     "iopub.execute_input": "2021-05-12T07:42:06.016684Z",
     "iopub.status.busy": "2021-05-12T07:42:06.016153Z",
     "iopub.status.idle": "2021-05-12T07:42:06.023145Z",
     "shell.execute_reply": "2021-05-12T07:42:06.022601Z"
    },
    "papermill": {
     "duration": 0.739603,
     "end_time": "2021-05-12T07:42:06.023324",
     "exception": false,
     "start_time": "2021-05-12T07:42:05.283721",
     "status": "completed"
    },
    "tags": []
   },
   "outputs": [
    {
     "data": {
      "text/plain": [
       "['submission.csv', '__notebook__.ipynb']"
      ]
     },
     "execution_count": 35,
     "metadata": {},
     "output_type": "execute_result"
    }
   ],
   "source": [
    "os.listdir()"
   ]
  },
  {
   "cell_type": "code",
   "execution_count": null,
   "id": "experimental-universe",
   "metadata": {
    "papermill": {
     "duration": 1.013671,
     "end_time": "2021-05-12T07:42:07.808034",
     "exception": false,
     "start_time": "2021-05-12T07:42:06.794363",
     "status": "completed"
    },
    "tags": []
   },
   "outputs": [],
   "source": []
  }
 ],
 "metadata": {
  "kernelspec": {
   "display_name": "Python 3",
   "language": "python",
   "name": "python3"
  },
  "language_info": {
   "codemirror_mode": {
    "name": "ipython",
    "version": 3
   },
   "file_extension": ".py",
   "mimetype": "text/x-python",
   "name": "python",
   "nbconvert_exporter": "python",
   "pygments_lexer": "ipython3",
   "version": "3.7.10"
  },
  "papermill": {
   "default_parameters": {},
   "duration": 376.046951,
   "end_time": "2021-05-12T07:42:11.306336",
   "environment_variables": {},
   "exception": null,
   "input_path": "__notebook__.ipynb",
   "output_path": "__notebook__.ipynb",
   "parameters": {},
   "start_time": "2021-05-12T07:35:55.259385",
   "version": "2.3.3"
  },
  "widgets": {
   "application/vnd.jupyter.widget-state+json": {
    "state": {
     "11a9d57b4d9a4e2d8d146327451adaa2": {
      "model_module": "@jupyter-widgets/controls",
      "model_module_version": "1.5.0",
      "model_name": "HBoxModel",
      "state": {
       "_dom_classes": [],
       "_model_module": "@jupyter-widgets/controls",
       "_model_module_version": "1.5.0",
       "_model_name": "HBoxModel",
       "_view_count": null,
       "_view_module": "@jupyter-widgets/controls",
       "_view_module_version": "1.5.0",
       "_view_name": "HBoxView",
       "box_style": "",
       "children": [
        "IPY_MODEL_9ebdacec062d4fd5a856635ea5520e4c",
        "IPY_MODEL_2bdf29f9836743d8a5c7e34c45422679",
        "IPY_MODEL_7fd5c79719b2415094f0fb303de08ebe"
       ],
       "layout": "IPY_MODEL_acfe7a58b12b41ca9e1db44c8a1c0c36"
      }
     },
     "273cc07aa55d43358c5343ecc9e31fe9": {
      "model_module": "@jupyter-widgets/base",
      "model_module_version": "1.2.0",
      "model_name": "LayoutModel",
      "state": {
       "_model_module": "@jupyter-widgets/base",
       "_model_module_version": "1.2.0",
       "_model_name": "LayoutModel",
       "_view_count": null,
       "_view_module": "@jupyter-widgets/base",
       "_view_module_version": "1.2.0",
       "_view_name": "LayoutView",
       "align_content": null,
       "align_items": null,
       "align_self": null,
       "border": null,
       "bottom": null,
       "display": null,
       "flex": null,
       "flex_flow": null,
       "grid_area": null,
       "grid_auto_columns": null,
       "grid_auto_flow": null,
       "grid_auto_rows": null,
       "grid_column": null,
       "grid_gap": null,
       "grid_row": null,
       "grid_template_areas": null,
       "grid_template_columns": null,
       "grid_template_rows": null,
       "height": null,
       "justify_content": null,
       "justify_items": null,
       "left": null,
       "margin": null,
       "max_height": null,
       "max_width": null,
       "min_height": null,
       "min_width": null,
       "object_fit": null,
       "object_position": null,
       "order": null,
       "overflow": null,
       "overflow_x": null,
       "overflow_y": null,
       "padding": null,
       "right": null,
       "top": null,
       "visibility": null,
       "width": null
      }
     },
     "2bdf29f9836743d8a5c7e34c45422679": {
      "model_module": "@jupyter-widgets/controls",
      "model_module_version": "1.5.0",
      "model_name": "FloatProgressModel",
      "state": {
       "_dom_classes": [],
       "_model_module": "@jupyter-widgets/controls",
       "_model_module_version": "1.5.0",
       "_model_name": "FloatProgressModel",
       "_view_count": null,
       "_view_module": "@jupyter-widgets/controls",
       "_view_module_version": "1.5.0",
       "_view_name": "ProgressView",
       "bar_style": "success",
       "description": "",
       "description_tooltip": null,
       "layout": "IPY_MODEL_6639fe85fb2240bdb7ba9a9cd7d90cf0",
       "max": 4000.0,
       "min": 0.0,
       "orientation": "horizontal",
       "style": "IPY_MODEL_cd03c460fbe344c982ee5ad7a5fbef4f",
       "value": 4000.0
      }
     },
     "6639fe85fb2240bdb7ba9a9cd7d90cf0": {
      "model_module": "@jupyter-widgets/base",
      "model_module_version": "1.2.0",
      "model_name": "LayoutModel",
      "state": {
       "_model_module": "@jupyter-widgets/base",
       "_model_module_version": "1.2.0",
       "_model_name": "LayoutModel",
       "_view_count": null,
       "_view_module": "@jupyter-widgets/base",
       "_view_module_version": "1.2.0",
       "_view_name": "LayoutView",
       "align_content": null,
       "align_items": null,
       "align_self": null,
       "border": null,
       "bottom": null,
       "display": null,
       "flex": null,
       "flex_flow": null,
       "grid_area": null,
       "grid_auto_columns": null,
       "grid_auto_flow": null,
       "grid_auto_rows": null,
       "grid_column": null,
       "grid_gap": null,
       "grid_row": null,
       "grid_template_areas": null,
       "grid_template_columns": null,
       "grid_template_rows": null,
       "height": null,
       "justify_content": null,
       "justify_items": null,
       "left": null,
       "margin": null,
       "max_height": null,
       "max_width": null,
       "min_height": null,
       "min_width": null,
       "object_fit": null,
       "object_position": null,
       "order": null,
       "overflow": null,
       "overflow_x": null,
       "overflow_y": null,
       "padding": null,
       "right": null,
       "top": null,
       "visibility": null,
       "width": null
      }
     },
     "7fd5c79719b2415094f0fb303de08ebe": {
      "model_module": "@jupyter-widgets/controls",
      "model_module_version": "1.5.0",
      "model_name": "HTMLModel",
      "state": {
       "_dom_classes": [],
       "_model_module": "@jupyter-widgets/controls",
       "_model_module_version": "1.5.0",
       "_model_name": "HTMLModel",
       "_view_count": null,
       "_view_module": "@jupyter-widgets/controls",
       "_view_module_version": "1.5.0",
       "_view_name": "HTMLView",
       "description": "",
       "description_tooltip": null,
       "layout": "IPY_MODEL_273cc07aa55d43358c5343ecc9e31fe9",
       "placeholder": "​",
       "style": "IPY_MODEL_f7605fb87da04247b2f9a4e8006a1a5c",
       "value": " 4000/4000 [02:37&lt;00:00, 18.22it/s]"
      }
     },
     "9ebdacec062d4fd5a856635ea5520e4c": {
      "model_module": "@jupyter-widgets/controls",
      "model_module_version": "1.5.0",
      "model_name": "HTMLModel",
      "state": {
       "_dom_classes": [],
       "_model_module": "@jupyter-widgets/controls",
       "_model_module_version": "1.5.0",
       "_model_name": "HTMLModel",
       "_view_count": null,
       "_view_module": "@jupyter-widgets/controls",
       "_view_module_version": "1.5.0",
       "_view_name": "HTMLView",
       "description": "",
       "description_tooltip": null,
       "layout": "IPY_MODEL_cf671af8270a49cab9e36eb6345f8a70",
       "placeholder": "​",
       "style": "IPY_MODEL_e3804857081f4e1e9a1fd435a791c591",
       "value": "100%"
      }
     },
     "acfe7a58b12b41ca9e1db44c8a1c0c36": {
      "model_module": "@jupyter-widgets/base",
      "model_module_version": "1.2.0",
      "model_name": "LayoutModel",
      "state": {
       "_model_module": "@jupyter-widgets/base",
       "_model_module_version": "1.2.0",
       "_model_name": "LayoutModel",
       "_view_count": null,
       "_view_module": "@jupyter-widgets/base",
       "_view_module_version": "1.2.0",
       "_view_name": "LayoutView",
       "align_content": null,
       "align_items": null,
       "align_self": null,
       "border": null,
       "bottom": null,
       "display": null,
       "flex": null,
       "flex_flow": null,
       "grid_area": null,
       "grid_auto_columns": null,
       "grid_auto_flow": null,
       "grid_auto_rows": null,
       "grid_column": null,
       "grid_gap": null,
       "grid_row": null,
       "grid_template_areas": null,
       "grid_template_columns": null,
       "grid_template_rows": null,
       "height": null,
       "justify_content": null,
       "justify_items": null,
       "left": null,
       "margin": null,
       "max_height": null,
       "max_width": null,
       "min_height": null,
       "min_width": null,
       "object_fit": null,
       "object_position": null,
       "order": null,
       "overflow": null,
       "overflow_x": null,
       "overflow_y": null,
       "padding": null,
       "right": null,
       "top": null,
       "visibility": null,
       "width": null
      }
     },
     "cd03c460fbe344c982ee5ad7a5fbef4f": {
      "model_module": "@jupyter-widgets/controls",
      "model_module_version": "1.5.0",
      "model_name": "ProgressStyleModel",
      "state": {
       "_model_module": "@jupyter-widgets/controls",
       "_model_module_version": "1.5.0",
       "_model_name": "ProgressStyleModel",
       "_view_count": null,
       "_view_module": "@jupyter-widgets/base",
       "_view_module_version": "1.2.0",
       "_view_name": "StyleView",
       "bar_color": null,
       "description_width": ""
      }
     },
     "cf671af8270a49cab9e36eb6345f8a70": {
      "model_module": "@jupyter-widgets/base",
      "model_module_version": "1.2.0",
      "model_name": "LayoutModel",
      "state": {
       "_model_module": "@jupyter-widgets/base",
       "_model_module_version": "1.2.0",
       "_model_name": "LayoutModel",
       "_view_count": null,
       "_view_module": "@jupyter-widgets/base",
       "_view_module_version": "1.2.0",
       "_view_name": "LayoutView",
       "align_content": null,
       "align_items": null,
       "align_self": null,
       "border": null,
       "bottom": null,
       "display": null,
       "flex": null,
       "flex_flow": null,
       "grid_area": null,
       "grid_auto_columns": null,
       "grid_auto_flow": null,
       "grid_auto_rows": null,
       "grid_column": null,
       "grid_gap": null,
       "grid_row": null,
       "grid_template_areas": null,
       "grid_template_columns": null,
       "grid_template_rows": null,
       "height": null,
       "justify_content": null,
       "justify_items": null,
       "left": null,
       "margin": null,
       "max_height": null,
       "max_width": null,
       "min_height": null,
       "min_width": null,
       "object_fit": null,
       "object_position": null,
       "order": null,
       "overflow": null,
       "overflow_x": null,
       "overflow_y": null,
       "padding": null,
       "right": null,
       "top": null,
       "visibility": null,
       "width": null
      }
     },
     "e3804857081f4e1e9a1fd435a791c591": {
      "model_module": "@jupyter-widgets/controls",
      "model_module_version": "1.5.0",
      "model_name": "DescriptionStyleModel",
      "state": {
       "_model_module": "@jupyter-widgets/controls",
       "_model_module_version": "1.5.0",
       "_model_name": "DescriptionStyleModel",
       "_view_count": null,
       "_view_module": "@jupyter-widgets/base",
       "_view_module_version": "1.2.0",
       "_view_name": "StyleView",
       "description_width": ""
      }
     },
     "f7605fb87da04247b2f9a4e8006a1a5c": {
      "model_module": "@jupyter-widgets/controls",
      "model_module_version": "1.5.0",
      "model_name": "DescriptionStyleModel",
      "state": {
       "_model_module": "@jupyter-widgets/controls",
       "_model_module_version": "1.5.0",
       "_model_name": "DescriptionStyleModel",
       "_view_count": null,
       "_view_module": "@jupyter-widgets/base",
       "_view_module_version": "1.2.0",
       "_view_name": "StyleView",
       "description_width": ""
      }
     }
    },
    "version_major": 2,
    "version_minor": 0
   }
  }
 },
 "nbformat": 4,
 "nbformat_minor": 5
}
