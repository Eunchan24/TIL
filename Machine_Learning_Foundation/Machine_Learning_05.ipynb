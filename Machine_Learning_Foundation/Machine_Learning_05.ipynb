{
 "cells": [
  {
   "cell_type": "code",
   "execution_count": 2,
   "metadata": {},
   "outputs": [
    {
     "name": "stdout",
     "output_type": "stream",
     "text": [
      "회귀계수: -0.04954809554551324\n",
      "절편: 20.11975468043899\n",
      "결정계수: 0.10943356354296829\n"
     ]
    }
   ],
   "source": [
    "import pandas as pd\n",
    "import numpy as np\n",
    "from sklearn import linear_model\n",
    "\n",
    "#데이터로드 \n",
    "data = pd.read_csv(\"data.csv\", sep = \",\")\n",
    "\n",
    "#선형 회귀 모델\n",
    "clf = linear_model.LinearRegression()\n",
    "\n",
    "#설명 변수 x에 \"x1\"데이터를 사용\n",
    "x = data.loc[:,['x1']].values\n",
    "\n",
    "#목적 변수 y에 \"x2\"데이터를 사용\n",
    "y = data['x2'].values\n",
    "\n",
    "#예측 모델을 만듬 (단일회귀)\n",
    "clf.fit(x,y)\n",
    "\n",
    "#매개 변쉬( 회귀 계수, 절편)을 추출\n",
    "[a] = clf.coef_\n",
    "b = clf.intercept_\n",
    "\n",
    "#매개변수 표시\n",
    "print(\"회귀계수:\", a)\n",
    "print(\"절편:\",b)\n",
    "print(\"결정계수:\",clf.score(x,y))"
   ]
  },
  {
   "cell_type": "markdown",
   "metadata": {},
   "source": [
    "3. 이산화 작업 : 데이터 마이닝을 위한 전처리 과정으로서 연속형 변수를 이산형 변수로 바꾸는 과정\n",
    "      - 목적 :이산화 시킨 데이터가 원래 가지고 있던 정보 손실을 최소로 하면서 높은 분류정확도를 가지는 것을 목적\n",
    "        \n",
    "    -4단계 형식\n",
    "    1)연속형 변수의 값을 이산화 하기 위해 정렬한다.\n",
    "    2)합칠 인접한 구간을 정하거나 나누기 위한 분할점(cut-point)을 결정한다.\n",
    "    3)기준(criterion)에 따라 연속형 값의 구간을 합치거나 나눈다.\n",
    "    4)종료기준(stooping critertion)을 만족하면 이산화를 멈춘다.\n",
    "    \n",
    "    pandas.cut(대상데이터, bins_범주설정), pandas.qcut()\n",
    "    pandas.cut(배열값, 분할 수) : 최대값, 최소값사이를 분할 한다.\n"
   ]
  },
  {
   "cell_type": "code",
   "execution_count": 7,
   "metadata": {},
   "outputs": [
    {
     "name": "stdout",
     "output_type": "stream",
     "text": [
      "a     (-0.1, 25.0]\n",
      "b     (-0.1, 25.0]\n",
      "c     (-0.1, 25.0]\n",
      "d     (-0.1, 25.0]\n",
      "e     (-0.1, 25.0]\n",
      "f     (-0.1, 25.0]\n",
      "g     (25.0, 50.0]\n",
      "h     (25.0, 50.0]\n",
      "i     (50.0, 75.0]\n",
      "j    (75.0, 100.0]\n",
      "k    (75.0, 100.0]\n",
      "dtype: category\n",
      "Categories (4, interval[float64]): [(-0.1, 25.0] < (25.0, 50.0] < (50.0, 75.0] < (75.0, 100.0]]\n",
      "<class 'pandas.core.series.Series'>\n"
     ]
    }
   ],
   "source": [
    "#3-1)이산화 작업\n",
    "#4\n",
    "import pandas as pd\n",
    "s = pd.Series(data = [x**2 for x in range(11)], index = list('abcdefghijk'))\n",
    "\n",
    "#등분하자 \n",
    "s_cut=pd.cut(s,4)\n",
    "print(s_cut)\n",
    "print(type(s_cut))"
   ]
  },
  {
   "cell_type": "code",
   "execution_count": null,
   "metadata": {},
   "outputs": [],
   "source": [
    "#이산화 분할 경계값을 지정 \n"
   ]
  },
  {
   "cell_type": "code",
   "execution_count": 9,
   "metadata": {},
   "outputs": [
    {
     "name": "stdout",
     "output_type": "stream",
     "text": [
      "a     (-0.1, 25.0]\n",
      "b     (-0.1, 25.0]\n",
      "c     (-0.1, 25.0]\n",
      "d     (-0.1, 25.0]\n",
      "e     (-0.1, 25.0]\n",
      "f     (-0.1, 25.0]\n",
      "g     (25.0, 50.0]\n",
      "h     (25.0, 50.0]\n",
      "i     (50.0, 75.0]\n",
      "j    (75.0, 100.0]\n",
      "k    (75.0, 100.0]\n",
      "dtype: category\n",
      "Categories (4, interval[float64]): [(-0.1, 25.0] < (25.0, 50.0] < (50.0, 75.0] < (75.0, 100.0]]\n",
      "[ -0.1  25.   50.   75.  100. ]\n"
     ]
    }
   ],
   "source": [
    "#이산화_분할 경계값을 지정 후 경게값과 목록을 리턴받자\n",
    "s_cut,bins = pd.cut(s,4,retbins=True)\n",
    "print(s_cut)\n",
    "print(bins)"
   ]
  },
  {
   "cell_type": "code",
   "execution_count": 12,
   "metadata": {},
   "outputs": [
    {
     "name": "stdout",
     "output_type": "stream",
     "text": [
      "a      [0.0, 25.0)\n",
      "b      [0.0, 25.0)\n",
      "c      [0.0, 25.0)\n",
      "d      [0.0, 25.0)\n",
      "e      [0.0, 25.0)\n",
      "f     [25.0, 50.0)\n",
      "g     [25.0, 50.0)\n",
      "h     [25.0, 50.0)\n",
      "i     [50.0, 75.0)\n",
      "j    [75.0, 100.1)\n",
      "k    [75.0, 100.1)\n",
      "dtype: category\n",
      "Categories (4, interval[float64]): [[0.0, 25.0) < [25.0, 50.0) < [50.0, 75.0) < [75.0, 100.1)]\n"
     ]
    }
   ],
   "source": [
    "#이산화 _분할 경계값을 지정 후 경계값과 목록을 리턴 받자\n",
    "print(pd.cut(s,4,right=False))\n",
    "#맨 오른쪽에 있는 최대 경계값은 최대값의 0.1% 증가값이 된다."
   ]
  },
  {
   "cell_type": "code",
   "execution_count": 14,
   "metadata": {},
   "outputs": [
    {
     "name": "stdout",
     "output_type": "stream",
     "text": [
      "a    0\n",
      "b    0\n",
      "c    0\n",
      "d    0\n",
      "e    0\n",
      "f    0\n",
      "g    1\n",
      "h    1\n",
      "i    2\n",
      "j    3\n",
      "k    3\n",
      "dtype: int64\n",
      "a      small\n",
      "b      small\n",
      "c      small\n",
      "d      small\n",
      "e      small\n",
      "f      small\n",
      "g     medium\n",
      "h     medium\n",
      "i      large\n",
      "j    x-large\n",
      "k    x-large\n",
      "dtype: category\n",
      "Categories (4, object): ['small' < 'medium' < 'large' < 'x-large']\n"
     ]
    }
   ],
   "source": [
    "#레이블 지정 labels=None이 기본, False로 지정하게 되면 정수의 0부터 인덱싱한다.\n",
    "print(pd.cut(s,4,labels=False))\n",
    "print(pd.cut(s,4,labels=['small','medium','large','x-large']))"
   ]
  },
  {
   "cell_type": "code",
   "execution_count": 15,
   "metadata": {},
   "outputs": [
    {
     "name": "stdout",
     "output_type": "stream",
     "text": [
      "a     (-0.1, 33.3]\n",
      "b     (-0.1, 33.3]\n",
      "c     (-0.1, 33.3]\n",
      "d     (-0.1, 33.3]\n",
      "e     (-0.1, 33.3]\n",
      "f     (-0.1, 33.3]\n",
      "g     (33.3, 66.7]\n",
      "h     (33.3, 66.7]\n",
      "i     (33.3, 66.7]\n",
      "j    (66.7, 100.0]\n",
      "k    (66.7, 100.0]\n",
      "dtype: category\n",
      "Categories (3, interval[float64]): [(-0.1, 33.3] < (33.3, 66.7] < (66.7, 100.0]]\n"
     ]
    }
   ],
   "source": [
    "#소수이하 자리수\n",
    "print(pd.cut(s,3,precision=1))"
   ]
  },
  {
   "cell_type": "code",
   "execution_count": 16,
   "metadata": {},
   "outputs": [
    {
     "name": "stdout",
     "output_type": "stream",
     "text": [
      "a     (-0.1, 50.0]\n",
      "b     (-0.1, 50.0]\n",
      "c     (-0.1, 50.0]\n",
      "d     (-0.1, 50.0]\n",
      "e     (-0.1, 50.0]\n",
      "f     (-0.1, 50.0]\n",
      "g     (-0.1, 50.0]\n",
      "h     (-0.1, 50.0]\n",
      "i    (50.0, 100.0]\n",
      "j    (50.0, 100.0]\n",
      "k    (50.0, 100.0]\n",
      "dtype: category\n",
      "Categories (2, interval[float64]): [(-0.1, 50.0] < (50.0, 100.0]]\n"
     ]
    }
   ],
   "source": [
    "#3.이산화 pandas.qcut()\n",
    "print(pd.cut(s,2))"
   ]
  },
  {
   "cell_type": "code",
   "execution_count": 18,
   "metadata": {},
   "outputs": [
    {
     "name": "stdout",
     "output_type": "stream",
     "text": [
      "(a    Q1\n",
      "b    Q1\n",
      "c    Q1\n",
      "d    Q1\n",
      "e    Q1\n",
      "f    Q1\n",
      "g    Q2\n",
      "h    Q2\n",
      "i    Q3\n",
      "j    Q4\n",
      "k    Q4\n",
      "dtype: category\n",
      "Categories (4, object): ['Q1' < 'Q2' < 'Q3' < 'Q4'], array([ -0.1,  25. ,  50. ,  75. , 100. ]))\n"
     ]
    }
   ],
   "source": [
    "print(pd.cut(s,4,labels=['Q1','Q2','Q3','Q4'],retbins=True))"
   ]
  },
  {
   "cell_type": "code",
   "execution_count": 19,
   "metadata": {},
   "outputs": [
    {
     "name": "stdout",
     "output_type": "stream",
     "text": [
      "a    (-0.001, 1.0]\n",
      "b    (-0.001, 1.0]\n",
      "c    (-0.001, 1.0]\n",
      "d    (-0.001, 1.0]\n",
      "e    (-0.001, 1.0]\n",
      "f    (-0.001, 1.0]\n",
      "g       (1.0, 6.0]\n",
      "h       (1.0, 6.0]\n",
      "i       (1.0, 6.0]\n",
      "j       (1.0, 6.0]\n",
      "k       (1.0, 6.0]\n",
      "dtype: category\n",
      "Categories (2, interval[float64]): [(-0.001, 1.0] < (1.0, 6.0]]\n"
     ]
    }
   ],
   "source": [
    "#주의할 점 :중복 데이터\n",
    "s_dupl = pd.Series(data=[0,0,0,0,0,1,2,3,4,5,6],index =list('abcdefghijk'))\n",
    "print(pd.qcut(s_dupl,2))"
   ]
  },
  {
   "cell_type": "code",
   "execution_count": 21,
   "metadata": {},
   "outputs": [
    {
     "name": "stdout",
     "output_type": "stream",
     "text": [
      "a    (-0.001, 1.0]\n",
      "b    (-0.001, 1.0]\n",
      "c    (-0.001, 1.0]\n",
      "d    (-0.001, 1.0]\n",
      "e    (-0.001, 1.0]\n",
      "f    (-0.001, 1.0]\n",
      "g       (1.0, 3.5]\n",
      "h       (1.0, 3.5]\n",
      "i       (3.5, 6.0]\n",
      "j       (3.5, 6.0]\n",
      "k       (3.5, 6.0]\n",
      "dtype: category\n",
      "Categories (3, interval[float64]): [(-0.001, 1.0] < (1.0, 3.5] < (3.5, 6.0]]\n"
     ]
    }
   ],
   "source": [
    "print(pd.qcut(s_dupl,4,duplicates='drop'))"
   ]
  },
  {
   "cell_type": "code",
   "execution_count": 23,
   "metadata": {},
   "outputs": [
    {
     "name": "stdout",
     "output_type": "stream",
     "text": [
      "a    6\n",
      "c    3\n",
      "b    2\n",
      "dtype: int64\n"
     ]
    }
   ],
   "source": [
    "print(pd.qcut(s_dupl,4,duplicates='drop',labels=['a','b','c']).value_counts())\n",
    "res = pd.qcut(s_dupl,4,duplicates='drop',labels=['a','b','c']).value_counts()"
   ]
  },
  {
   "cell_type": "code",
   "execution_count": 24,
   "metadata": {},
   "outputs": [
    {
     "data": {
      "text/plain": [
       "[0, 1, 4, 9, 16, 25, 36, 49, 64, 81, 100]"
      ]
     },
     "execution_count": 24,
     "metadata": {},
     "output_type": "execute_result"
    }
   ],
   "source": [
    "data = [x**2 for x in range(11)]\n",
    "data"
   ]
  },
  {
   "cell_type": "code",
   "execution_count": 27,
   "metadata": {},
   "outputs": [
    {
     "data": {
      "text/plain": [
       "['A', 'A', 'A', 'A', 'A', 'A', 'B', 'B', 'B', 'C', 'C']"
      ]
     },
     "execution_count": 27,
     "metadata": {},
     "output_type": "execute_result"
    }
   ],
   "source": [
    "my_cut =pd.cut(data,3,labels=['A','B','C'])\n",
    "list(my_cut)"
   ]
  },
  {
   "cell_type": "code",
   "execution_count": 32,
   "metadata": {},
   "outputs": [
    {
     "name": "stdout",
     "output_type": "stream",
     "text": [
      "count    714.000000\n",
      "mean      29.699118\n",
      "std       14.526497\n",
      "min        0.420000\n",
      "25%       20.125000\n",
      "50%       28.000000\n",
      "75%       38.000000\n",
      "max       80.000000\n",
      "Name: age, dtype: float64\n",
      "0      (16.0, 32.0]\n",
      "1      (32.0, 48.0]\n",
      "2      (16.0, 32.0]\n",
      "3      (32.0, 48.0]\n",
      "4      (32.0, 48.0]\n",
      "           ...     \n",
      "886    (16.0, 32.0]\n",
      "887    (16.0, 32.0]\n",
      "888             NaN\n",
      "889    (16.0, 32.0]\n",
      "890    (16.0, 32.0]\n",
      "Name: age, Length: 891, dtype: category\n",
      "Categories (5, interval[float64]): [(0.0, 16.0] < (16.0, 32.0] < (32.0, 48.0] < (48.0, 64.0] < (64.0, 80.0]]\n"
     ]
    }
   ],
   "source": [
    "import numpy as np\n",
    "from sklearn.model_selection import train_test_split\n",
    "from sklearn.datasets import load_iris\n",
    "import pandas as pd\n",
    "import matplotlib.pyplot as plt\n",
    "import seaborn as sns\n",
    "from sklearn.linear_model import LogisticRegression\n",
    "\n",
    "#데이터로드\n",
    "df = sns.load_dataset('titanic').drop(['embarked'],axis=1)\n",
    "\n",
    "#나이를 추출해서 cut함수를 이용해서 범주값을 사용해보자\n",
    "print(df['age'].describe())\n",
    "print(pd.cut(df['age'],5,precision=0))"
   ]
  },
  {
   "cell_type": "code",
   "execution_count": 33,
   "metadata": {},
   "outputs": [
    {
     "name": "stdout",
     "output_type": "stream",
     "text": [
      "(0.0, 16.0]     100\n",
      "(16.0, 32.0]    346\n",
      "(32.0, 48.0]    188\n",
      "(48.0, 64.0]     69\n",
      "(64.0, 80.0]     11\n",
      "NaN             177\n",
      "Name: age, dtype: int64\n"
     ]
    }
   ],
   "source": [
    "print(pd.cut(df['age'],5,precision=0).value_counts(sort=False,dropna=False))"
   ]
  },
  {
   "cell_type": "code",
   "execution_count": 37,
   "metadata": {},
   "outputs": [
    {
     "data": {
      "text/plain": [
       "0      1.0\n",
       "1      2.0\n",
       "2      1.0\n",
       "3      2.0\n",
       "4      2.0\n",
       "      ... \n",
       "886    1.0\n",
       "887    1.0\n",
       "888    NaN\n",
       "889    1.0\n",
       "890    1.0\n",
       "Name: Age_bin, Length: 891, dtype: float64"
      ]
     },
     "execution_count": 37,
     "metadata": {},
     "output_type": "execute_result"
    }
   ],
   "source": [
    "df['Age_bin']=pd.cut(df['age'],5,labels=False)\n",
    "df['Age_bin']"
   ]
  },
  {
   "cell_type": "code",
   "execution_count": null,
   "metadata": {},
   "outputs": [],
   "source": []
  }
 ],
 "metadata": {
  "kernelspec": {
   "display_name": "Python 3",
   "language": "python",
   "name": "python3"
  },
  "language_info": {
   "codemirror_mode": {
    "name": "ipython",
    "version": 3
   },
   "file_extension": ".py",
   "mimetype": "text/x-python",
   "name": "python",
   "nbconvert_exporter": "python",
   "pygments_lexer": "ipython3",
   "version": "3.8.5"
  }
 },
 "nbformat": 4,
 "nbformat_minor": 4
}
