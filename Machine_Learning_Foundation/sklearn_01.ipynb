{
 "cells": [
  {
   "cell_type": "code",
   "execution_count": 30,
   "metadata": {},
   "outputs": [
    {
     "name": "stdout",
     "output_type": "stream",
     "text": [
      "<class 'list'>\n"
     ]
    }
   ],
   "source": [
    "from sklearn.datasets import fetch_20newsgroups #문서 표본 데이터\n",
    "\n",
    "#1.카테고리\n",
    "categories = ['alt.atheism', 'soc.religion.christian', 'comp.graphics', 'sci.med']\n",
    "\n",
    "#2.데이터 셋 구현할 파일\n",
    "twenty_train = fetch_20newsgroups(subset='train', categories=categories, shuffle=True, random_state=42)\n",
    "\n",
    "#3. 이름을 확인\n",
    "twenty_train.target_names\n",
    "\n",
    "#4. 파일이 몇게가 있는지 확인\n",
    "len(twenty_train.data)\n",
    "print(type(twenty_train.data))# 타입 확인"
   ]
  },
  {
   "cell_type": "code",
   "execution_count": 31,
   "metadata": {},
   "outputs": [
    {
     "name": "stdout",
     "output_type": "stream",
     "text": [
      "확인 From: dyer@spdcc.com (Steve Dyer)\n",
      "Subject: Re: Is MSG sensitivity superstition?\n",
      "Organization: S.P. Dyer Computer Consulting, Cambridge MA\n",
      "Lines: 14\n",
      "\n",
      "In article <1qnns0$4l3@agate.berkeley.edu> spp@zabriskie.berkeley.edu (Steve Pope) writes:\n",
      ">The mass of anectdotal evidence, combined with the lack of\n",
      ">a properly constructed scientific experiment disproving\n",
      ">the hypothesis, makes the MSG reaction hypothesis the\n",
      ">most likely explanation for events.\n",
      "\n",
      "You forgot the smiley-face.\n",
      "\n",
      "I can't believe this is what they turn out at Berkeley.  Tell me\n",
      "you're an aberration.\n",
      "\n",
      "-- \n",
      "Steve Dyer\n",
      "dyer@ursa-major.spdcc.com aka {ima,harvard,rayssd,linus,m2c}!spdcc!dyer\n",
      "\n",
      "매핑 soc.religion.christian\n"
     ]
    }
   ],
   "source": [
    "# data의 인덱스 확인\n",
    "print(\"확인\", twenty_train.data[2256])\n",
    "print(\"매핑\", twenty_train.target_names[twenty_train.target[2]])"
   ]
  },
  {
   "cell_type": "code",
   "execution_count": 32,
   "metadata": {},
   "outputs": [
    {
     "data": {
      "text/plain": [
       "array([1, 1, 3, 3, 3, 3, 3, 2, 2, 2], dtype=int64)"
      ]
     },
     "execution_count": 32,
     "metadata": {},
     "output_type": "execute_result"
    }
   ],
   "source": [
    "twenty_train.target[:10]"
   ]
  },
  {
   "cell_type": "code",
   "execution_count": 33,
   "metadata": {},
   "outputs": [
    {
     "name": "stdout",
     "output_type": "stream",
     "text": [
      "comp.graphics\n",
      "comp.graphics\n",
      "soc.religion.christian\n",
      "soc.religion.christian\n",
      "soc.religion.christian\n",
      "soc.religion.christian\n",
      "soc.religion.christian\n",
      "sci.med\n",
      "sci.med\n",
      "sci.med\n"
     ]
    }
   ],
   "source": [
    "for t in twenty_train.target[:10]:\n",
    "    print(twenty_train.target_names[t])"
   ]
  },
  {
   "cell_type": "code",
   "execution_count": 34,
   "metadata": {},
   "outputs": [
    {
     "data": {
      "text/plain": [
       "(100, 4961)"
      ]
     },
     "execution_count": 34,
     "metadata": {},
     "output_type": "execute_result"
    }
   ],
   "source": [
    "from sklearn.feature_extraction.text import CountVectorizer #문서 데이터를 백터로 변환\n",
    "count_vect = CountVectorizer()\n",
    "X_train_counts = count_vect.fit_transform(twenty_train.data[:100])\n",
    "X_train_counts.shape"
   ]
  },
  {
   "cell_type": "code",
   "execution_count": 46,
   "metadata": {},
   "outputs": [
    {
     "data": {
      "image/png": "[encoded data removed]",
      "text/plain": [
       "<Figure size 432x288 with 2 Axes>"
      ]
     },
     "metadata": {
      "needs_background": "light"
     },
     "output_type": "display_data"
    }
   ],
   "source": [
    "import seaborn as sns\n",
    "from matplotlib import pyplot as plt\n",
    "\n",
    "sns.heatmap(X_train_counts.toarray()[:40,:100],cmap = plt.cm.bone_r,linewidths=0.001,linecolor='gray') #4o개의 문서와 100까지의 단어를 추출\n",
    "plt.xlabel(\"word\")\n",
    "plt.ylabel(\"doc\")\n",
    "plt.show()"
   ]
  }
 ],
 "metadata": {
  "kernelspec": {
   "display_name": "Python 3",
   "language": "python",
   "name": "python3"
  },
  "language_info": {
   "codemirror_mode": {
    "name": "ipython",
    "version": 3
   },
   "file_extension": ".py",
   "mimetype": "text/x-python",
   "name": "python",
   "nbconvert_exporter": "python",
   "pygments_lexer": "ipython3",
   "version": "3.8.5"
  }
 },
 "nbformat": 4,
 "nbformat_minor": 4
}
