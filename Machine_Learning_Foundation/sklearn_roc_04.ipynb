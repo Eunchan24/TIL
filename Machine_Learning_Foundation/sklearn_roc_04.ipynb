{
 "cells": [
  {
   "cell_type": "code",
   "execution_count": 47,
   "metadata": {},
   "outputs": [
    {
     "name": "stdout",
     "output_type": "stream",
     "text": [
      "[0 1 2 3 4 5 6 7 8 9]\n",
      "[0 1 2 3 4 5 6]\n",
      "[7 8 9]\n",
      "[1 7 6 9 5 4 3]\n",
      "[2 8 0]\n"
     ]
    }
   ],
   "source": [
    "#train_test_split\n",
    "import numpy as np\n",
    "from sklearn.model_selection import train_test_split\n",
    "\n",
    "a = np.arange(10)\n",
    "print(a)\n",
    "\n",
    "#매개인수 shuffle = False 셔플되지 않고 처음부터 순서대로 분할 \n",
    "a_train, a_test = train_test_split(a, shuffle=False)\n",
    "print(a_train)\n",
    "print(a_test)\n",
    "\n",
    "#랜덤 셔플 분할 \n",
    "a_train, a_test = train_test_split(a)\n",
    "print(a_train)\n",
    "print(a_test)"
   ]
  },
  {
   "cell_type": "code",
   "execution_count": 16,
   "metadata": {},
   "outputs": [
    {
     "name": "stdout",
     "output_type": "stream",
     "text": [
      "[9 1 6 7 3 0 5]\n",
      "[2 8 4]\n"
     ]
    }
   ],
   "source": [
    "#난수 시드르 지정 : 매개인수 romdom_state\n",
    "a_train, a_test = train_test_split(a, random_state=0) #6:4, 4:6\n",
    "print(a_train)\n",
    "print(a_test)"
   ]
  },
  {
   "cell_type": "code",
   "execution_count": 55,
   "metadata": {},
   "outputs": [
    {
     "name": "stdout",
     "output_type": "stream",
     "text": [
      "[[ 0 10]\n",
      " [ 1 11]\n",
      " [ 2 12]\n",
      " [ 3 13]\n",
      " [ 4 14]\n",
      " [ 5 15]\n",
      " [ 6 16]\n",
      " [ 7 17]\n",
      " [ 8 18]\n",
      " [ 9 19]]\n",
      "[0 1 2 3 4 5 6 7 8 9]\n"
     ]
    }
   ],
   "source": [
    "#여러개의 차원 데이터를 분할 ex)20\n",
    "X = np.arange(20).reshape(2,10).T\n",
    "print(X)\n",
    "\n",
    "y= np.arange(10)\n",
    "print(y)"
   ]
  },
  {
   "cell_type": "code",
   "execution_count": 59,
   "metadata": {},
   "outputs": [
    {
     "name": "stdout",
     "output_type": "stream",
     "text": [
      "[[ 0 10]\n",
      " [ 9 19]\n",
      " [ 3 13]\n",
      " [ 7 17]\n",
      " [ 8 18]\n",
      " [ 2 12]\n",
      " [ 6 16]] \n",
      "\n",
      "[[ 4 14]\n",
      " [ 1 11]\n",
      " [ 5 15]]\n"
     ]
    }
   ],
   "source": [
    "X_train, X_test, y_train, y_test = train_test_split(X,y)\n",
    "#X값 확인\n",
    "print(X_train,'\\n')\n",
    "print(X_test)"
   ]
  },
  {
   "cell_type": "code",
   "execution_count": 60,
   "metadata": {},
   "outputs": [
    {
     "name": "stdout",
     "output_type": "stream",
     "text": [
      "[0 9 3 7 8 2 6] \n",
      "\n",
      "[4 1 5]\n"
     ]
    }
   ],
   "source": [
    "#y값 확인\n",
    "print(y_train,'\\n')\n",
    "print(y_test)"
   ]
  },
  {
   "cell_type": "code",
   "execution_count": 61,
   "metadata": {},
   "outputs": [
    {
     "name": "stdout",
     "output_type": "stream",
     "text": [
      "[ 0 10 20 30 40 50 60 70 80 90]\n"
     ]
    }
   ],
   "source": [
    "#z 생성\n",
    "z =np.arange(10)*10\n",
    "print(z)"
   ]
  },
  {
   "cell_type": "code",
   "execution_count": 63,
   "metadata": {},
   "outputs": [
    {
     "name": "stdout",
     "output_type": "stream",
     "text": [
      "[90 30 70 60  0 80 40] \n",
      "\n",
      "[10 50 20]\n"
     ]
    }
   ],
   "source": [
    "X_train, X_test, y_train, y_test, z_train, z_test = train_test_split(X,y,z)\n",
    "#z 값 확인\n",
    "print(z_train,'\\n')\n",
    "print(z_test)"
   ]
  },
  {
   "cell_type": "code",
   "execution_count": 64,
   "metadata": {},
   "outputs": [
    {
     "data": {
      "text/plain": [
       "((10, 2), (10,), (10,))"
      ]
     },
     "execution_count": 64,
     "metadata": {},
     "output_type": "execute_result"
    }
   ],
   "source": [
    "#첫 번째 차원의 크기 반드시 일치 하여야 train_test_split 가능\n",
    "X.shape, y.shape, z.shape\n",
    "#((10, 2), (10,), (10,))"
   ]
  },
  {
   "cell_type": "code",
   "execution_count": 73,
   "metadata": {},
   "outputs": [],
   "source": [
    "a =np.arange(10)\n",
    "a.shape\n",
    "z_train, z_test, a_train, a_test = train_test_split(z,a)\n",
    "#z a =np.arange(20)일때 \n",
    "\n",
    "#에러메시지\n",
    "#---------------------------------------------------------------------------\n",
    "#ValueError                                Traceback (most recent call last)\n",
    "#<ipython-input-68-9928ec74f568> in <module>\n",
    "#      1 a =np.arange(20)\n",
    "#      2 a.shape\n",
    "#----> 3 z_train, z_test, a_train, a_test = train_test_split(z,a)\n",
    "#      4 #z 값 확인\n",
    "#\n",
    "#C:\\ProgramData\\Anaconda3\\lib\\site-packages\\sklearn\\model_selection\\_split.py in train_test_split(*arrays, **options)\n",
    "#   2125         raise TypeError(\"Invalid parameters passed: %s\" % str(options))\n",
    "#   2126 \n",
    "#-> 2127     arrays = indexable(*arrays)\n",
    "#   2128 \n",
    "#   2129     n_samples = _num_samples(arrays[0])\n",
    "#\n",
    "#C:\\ProgramData\\Anaconda3\\lib\\site-packages\\sklearn\\utils\\validation.py in indexable(*iterables)\n",
    "#    290     \"\"\"\n",
    "#    291     result = [_make_indexable(X) for X in iterables]\n",
    "#--> 292     check_consistent_length(*result)\n",
    "#    293     return result\n",
    "#    294 \n",
    "#\n",
    "#C:\\ProgramData\\Anaconda3\\lib\\site-packages\\sklearn\\utils\\validation.py in check_consistent_length(*arrays)\n",
    "#    253     uniques = np.unique(lengths)\n",
    "#    254     if len(uniques) > 1:\n",
    "#--> 255         raise ValueError(\"Found input variables with inconsistent numbers of\"\n",
    "#    256                          \" samples: %r\" % [int(l) for l in lengths])\n",
    "#    257 \n",
    "#\n",
    "#ValueError: Found input variables with inconsistent numbers of samples: [10, 20]\n",
    "#--------------------------------------------------------------------------------------------------------------------------------------\n",
    "#라인 291과 292를 보면 내부적으로 for문을 돌려서 length를 채크하는 프로세스이다 그래서 첫 번째 차원의 크기는 반드시 일치해야한다"
   ]
  },
  {
   "cell_type": "code",
   "execution_count": 75,
   "metadata": {},
   "outputs": [
    {
     "name": "stdout",
     "output_type": "stream",
     "text": [
      "[0 0 0 0 0 1 1 1 1 1]\n",
      "[0 1 0 0 0 0 1 1] \n",
      "\n",
      "[1 1]\n"
     ]
    }
   ],
   "source": [
    "#stratify : 두값을 분류를(클래스 2개로 분류) 정답 레이블은 0,1로구현\n",
    "#stratify는 테스트 데이터에서 데이터가 포함되지 않을 경우 훈련과 테스트 비율의 결과이기 때문에\n",
    "#해당 데이터 값의 비율이 일치하도록 분할 시켜준다.\n",
    "y = np.array([0]*5+[1]*5)\n",
    "print(y)\n",
    "#지도학습을 위해 데이터를 분할 할 경우 훈련과 테스트 정답레벨의 비율은 \n",
    "#원본 데이터의 정답 레벨의 비율과 일치하는 것이 좋다.\n",
    "X_train, X_test, y_train, y_test = train_test_split(X,y, test_size=0.2,random_state=100)\n",
    "#y값 확인\n",
    "print(y_train,'\\n')\n",
    "print(y_test)      #테스트 데이터에 0없는것을 확인"
   ]
  },
  {
   "cell_type": "code",
   "execution_count": 78,
   "metadata": {},
   "outputs": [
    {
     "name": "stdout",
     "output_type": "stream",
     "text": [
      "[0 0 0 0 0 1 1 1 1 1]\n",
      "[1 1 0 0 0 1 1 0] \n",
      "\n",
      "[1 0]\n"
     ]
    }
   ],
   "source": [
    "#stratify : 두값을 분류를(클래스 2개로 분류) 정답 레이블은 0,1로구현\n",
    "#stratify는 테스트 데이터에서 데이터가 포함되지 않을 경우 훈련과 테스트 비율의 결과이기 때문에\n",
    "#해당 데이터 값의 비율이 일치하도록 분할 시켜준다.\n",
    "y = np.array([0]*5+[1]*5)\n",
    "print(y)\n",
    "#지도학습을 위해 데이터를 분할 할 경우 훈련과 테스트 정답레벨의 비율은 \n",
    "#원본 데이터의 정답 레벨의 비율과 일치하는 것이 좋다.\n",
    "X_train, X_test, y_train, y_test = train_test_split(X,y, test_size=0.2,random_state=100, stratify=y)\n",
    "#y값 확인\n",
    "print(y_train,'\\n')\n",
    "print(y_test)      #테스트 데이터에 0이 포함된 결과 "
   ]
  },
  {
   "cell_type": "code",
   "execution_count": 79,
   "metadata": {},
   "outputs": [
    {
     "name": "stdout",
     "output_type": "stream",
     "text": [
      "data shape : (150, 4)\n",
      "feature_names : ['sepal length (cm)', 'sepal width (cm)', 'petal length (cm)', 'petal width (cm)']\n",
      "target : [0 0 0 0 0 0 0 0 0 0 0 0 0 0 0 0 0 0 0 0 0 0 0 0 0 0 0 0 0 0 0 0 0 0 0 0 0\n",
      " 0 0 0 0 0 0 0 0 0 0 0 0 0 1 1 1 1 1 1 1 1 1 1 1 1 1 1 1 1 1 1 1 1 1 1 1 1\n",
      " 1 1 1 1 1 1 1 1 1 1 1 1 1 1 1 1 1 1 1 1 1 1 1 1 1 1 2 2 2 2 2 2 2 2 2 2 2\n",
      " 2 2 2 2 2 2 2 2 2 2 2 2 2 2 2 2 2 2 2 2 2 2 2 2 2 2 2 2 2 2 2 2 2 2 2 2 2\n",
      " 2 2]\n",
      "class name : ['setosa' 'versicolor' 'virginica']\n"
     ]
    }
   ],
   "source": [
    "from sklearn import datasets\n",
    "\n",
    "data = datasets.load_iris()\n",
    "print('data shape :', data.data.shape)\n",
    "print('feature_names :', data.feature_names) \n",
    "#feature_names : ['sepal length(꽃 받침 조각의 길이)', 'sepal width(꽃 받침 조각의 폭)', 'petal length(꽃잎의 길이)', 'petal width (꽃잎의 폭)']\n",
    "print('target :', data.target)  # 범주형 변수\n",
    "print('class name :', data.target_names)"
   ]
  },
  {
   "cell_type": "code",
   "execution_count": 83,
   "metadata": {},
   "outputs": [
    {
     "name": "stdout",
     "output_type": "stream",
     "text": [
      "(150, 4)\n",
      "[[5.1 3.5 1.4 0.2]\n",
      " [4.9 3.  1.4 0.2]\n",
      " [4.7 3.2 1.3 0.2]\n",
      " [4.6 3.1 1.5 0.2]\n",
      " [5.  3.6 1.4 0.2]]\n"
     ]
    }
   ],
   "source": [
    "import numpy as np\n",
    "from sklearn.model_selection import train_test_split\n",
    "from sklearn.datasets import load_iris\n",
    "data = load_iris()\n",
    "\n",
    "X=data['data']\n",
    "y=data['target']\n",
    "print(X.shape)\n",
    "#입력값 슬라이싱\n",
    "print(X[:5])"
   ]
  },
  {
   "cell_type": "code",
   "execution_count": 89,
   "metadata": {},
   "outputs": [
    {
     "name": "stdout",
     "output_type": "stream",
     "text": [
      "(150,)\n",
      "[0 0 0 0 0 0 0 0 0 0 0 0 0 0 0 0 0 0 0 0 0 0 0 0 0 0 0 0 0 0 0 0 0 0 0 0 0\n",
      " 0 0 0 0 0 0 0 0 0 0 0 0 0 1 1 1 1 1 1 1 1 1 1 1 1 1 1 1 1 1 1 1 1 1 1 1 1\n",
      " 1 1 1 1 1 1 1 1 1 1 1 1 1 1 1 1 1 1 1 1 1 1 1 1 1 1 2 2 2 2 2 2 2 2 2 2 2\n",
      " 2 2 2 2 2 2 2 2 2 2 2 2 2 2 2 2 2 2 2 2 2 2 2 2 2 2 2 2 2 2 2 2 2 2 2 2 2\n",
      " 2 2]\n",
      "(112, 4)\n",
      "(38, 4)\n",
      "y값 테스트\n",
      "(112,)\n",
      "(38,)\n"
     ]
    }
   ],
   "source": [
    "print(y.shape)\n",
    "print(y) #정답 라벨\n",
    "#학습과 테스트 데이터 분할 test_size, train_size의 기본설정 25%:75%\n",
    "X_train, X_test, y_train, y_test = train_test_split(X,y,random_state=0)\n",
    "print(X_train.shape)\n",
    "print(X_test.shape)\n",
    "\n",
    "print('y값 테스트')\n",
    "print(y_train.shape)\n",
    "print(y_test.shape)"
   ]
  },
  {
   "cell_type": "code",
   "execution_count": 92,
   "metadata": {},
   "outputs": [
    {
     "name": "stdout",
     "output_type": "stream",
     "text": [
      "[2 1 0 2 0 2 0 1 1 1 2 1 1 1 1 0 1 1 0 0 2 1 0 0 2 0 0 1 1 0 2 1 0 2 2 1 0\n",
      " 1]\n",
      "13\n",
      "16\n",
      "9\n"
     ]
    }
   ],
   "source": [
    "#테스트의 정답라벨을 확인 \n",
    "print(y_test)\n",
    "print((y_test ==0).sum())\n",
    "print((y_test ==1).sum())\n",
    "print((y_test ==2).sum())"
   ]
  },
  {
   "cell_type": "code",
   "execution_count": 94,
   "metadata": {},
   "outputs": [
    {
     "name": "stdout",
     "output_type": "stream",
     "text": [
      "[0 0 0 0 1 1 1 0 1 2 2 2 1 2 1 0 0 2 0 1 2 1 1 0 2 0 0 1 2 1 0 1 2 2 0 1 2\n",
      " 2]\n",
      "13\n",
      "13\n",
      "12\n"
     ]
    }
   ],
   "source": [
    "#테스트의 정답라벨을 균등하게 확인\n",
    "X_train, X_test, y_train, y_test = train_test_split(X,y,random_state=0, stratify=y)\n",
    "print(y_test)\n",
    "print((y_test ==0).sum())\n",
    "print((y_test ==1).sum())\n",
    "print((y_test ==2).sum())"
   ]
  },
  {
   "cell_type": "code",
   "execution_count": 100,
   "metadata": {},
   "outputs": [
    {
     "data": {
      "text/html": [
       "<div>\n",
       "<style scoped>\n",
       "    .dataframe tbody tr th:only-of-type {\n",
       "        vertical-align: middle;\n",
       "    }\n",
       "\n",
       "    .dataframe tbody tr th {\n",
       "        vertical-align: top;\n",
       "    }\n",
       "\n",
       "    .dataframe thead th {\n",
       "        text-align: right;\n",
       "    }\n",
       "</style>\n",
       "<table border=\"1\" class=\"dataframe\">\n",
       "  <thead>\n",
       "    <tr style=\"text-align: right;\">\n",
       "      <th></th>\n",
       "      <th>0</th>\n",
       "    </tr>\n",
       "  </thead>\n",
       "  <tbody>\n",
       "    <tr>\n",
       "      <th>0</th>\n",
       "      <td>0</td>\n",
       "    </tr>\n",
       "    <tr>\n",
       "      <th>1</th>\n",
       "      <td>0</td>\n",
       "    </tr>\n",
       "    <tr>\n",
       "      <th>2</th>\n",
       "      <td>0</td>\n",
       "    </tr>\n",
       "    <tr>\n",
       "      <th>3</th>\n",
       "      <td>0</td>\n",
       "    </tr>\n",
       "    <tr>\n",
       "      <th>4</th>\n",
       "      <td>0</td>\n",
       "    </tr>\n",
       "    <tr>\n",
       "      <th>...</th>\n",
       "      <td>...</td>\n",
       "    </tr>\n",
       "    <tr>\n",
       "      <th>145</th>\n",
       "      <td>2</td>\n",
       "    </tr>\n",
       "    <tr>\n",
       "      <th>146</th>\n",
       "      <td>2</td>\n",
       "    </tr>\n",
       "    <tr>\n",
       "      <th>147</th>\n",
       "      <td>2</td>\n",
       "    </tr>\n",
       "    <tr>\n",
       "      <th>148</th>\n",
       "      <td>2</td>\n",
       "    </tr>\n",
       "    <tr>\n",
       "      <th>149</th>\n",
       "      <td>2</td>\n",
       "    </tr>\n",
       "  </tbody>\n",
       "</table>\n",
       "<p>150 rows × 1 columns</p>\n",
       "</div>"
      ],
      "text/plain": [
       "     0\n",
       "0    0\n",
       "1    0\n",
       "2    0\n",
       "3    0\n",
       "4    0\n",
       "..  ..\n",
       "145  2\n",
       "146  2\n",
       "147  2\n",
       "148  2\n",
       "149  2\n",
       "\n",
       "[150 rows x 1 columns]"
      ]
     },
     "execution_count": 100,
     "metadata": {},
     "output_type": "execute_result"
    }
   ],
   "source": [
    "#판다스를 이용해서 데이터 분할을 해보자\n",
    "import numpy as np\n",
    "from sklearn.model_selection import train_test_split\n",
    "from sklearn.datasets import load_iris\n",
    "import pandas as pd\n",
    "data = load_iris()\n",
    "\n",
    "X_df = pd.DataFrame(data['data'],columns=data['feature_names'])\n",
    "X_df\n",
    "\n",
    "y_s =  pd.DataFrame(data['target'])\n",
    "y_s"
   ]
  },
  {
   "cell_type": "code",
   "execution_count": 102,
   "metadata": {},
   "outputs": [
    {
     "name": "stdout",
     "output_type": "stream",
     "text": [
      "<class 'pandas.core.frame.DataFrame'> <class 'pandas.core.frame.DataFrame'>\n"
     ]
    }
   ],
   "source": [
    "#판다스\n",
    "X_train_df, X_tset_df, y_train_s, y_test_s = train_test_split(X_df,y_s, test_size =0.2, random_state =0 ,stratify=y_s)\n",
    "print(type(X_train_df),type(y_test_s))"
   ]
  },
  {
   "cell_type": "code",
   "execution_count": 106,
   "metadata": {},
   "outputs": [
    {
     "name": "stdout",
     "output_type": "stream",
     "text": [
      "2    40\n",
      "1    40\n",
      "0    40\n",
      "dtype: int64\n",
      "2    10\n",
      "1    10\n",
      "0    10\n",
      "dtype: int64\n"
     ]
    }
   ],
   "source": [
    "print(y_train_s.value_counts())\n",
    "print(y_test_s.value_counts())"
   ]
  },
  {
   "cell_type": "markdown",
   "metadata": {},
   "source": [
    "1)머신러닝의 분류작업에서 모델을 평가할 때 사용하는 그래프\n",
    "2)임이로 설정된 한계값의 진리결과를 플롯한다.\n",
    "\n",
    "ROC : Receiver opearting characteristic :roc_curve()\n",
    "        FPR,TPR의 결과값을 플롯한다.\n",
    "AUC : Area under the curve(PR곡선)_ 세로측에서 적합률/가로측에서는 재현율(TPR)\n",
    "ROC_curve\n",
    "ROC-AUC\n",
    "ROC 곡선에서 모델을 평가할때 일반적인 것이 AUC이다\n",
    "AUC는 ROC곡선의 아래 면적을 말하고 AUC가 높을 수록 모델의 분류성능이 높다.\n",
    "예측점수의 순서를 구현할 때 사용, 무작위 분류가될경우\n",
    "에측점수란? 에측된 확률을 말한다. ex) 1.0 ->100%의 확률로 예측한다/ 0.8 80%확률로 예측한다.  단 전체기준을 1로 잡을경우"
   ]
  },
  {
   "cell_type": "code",
   "execution_count": 109,
   "metadata": {},
   "outputs": [
    {
     "name": "stdout",
     "output_type": "stream",
     "text": [
      "(array([0.  , 0.  , 0.25, 0.25, 0.5 , 0.5 , 1.  ]), array([0.  , 0.25, 0.25, 0.5 , 0.5 , 1.  , 1.  ]), array([1.9, 0.9, 0.8, 0.7, 0.6, 0.4, 0.2]))\n",
      "<class 'tuple'> 3\n"
     ]
    }
   ],
   "source": [
    "#1. roc_curve()함수를 사용해보자\n",
    "from sklearn.metrics import roc_curve\n",
    "import matplotlib.pyplot as plt\n",
    "\n",
    "y_true = [0,0,0,0,1,1,1,1]\n",
    "y_score = [0.2,0.3,0.6,0.8,0.4,0.5,0.7,0.9]\n",
    "\n",
    "roc = roc_curve(y_true, y_score)\n",
    "print(roc)\n",
    "print(type(roc), len(roc))"
   ]
  },
  {
   "cell_type": "code",
   "execution_count": 122,
   "metadata": {},
   "outputs": [
    {
     "name": "stdout",
     "output_type": "stream",
     "text": [
      "[0.   0.   0.25 0.25 0.5  0.5  1.  ]\n",
      "[0.   0.25 0.25 0.5  0.5  1.   1.  ]\n",
      "[1.9 0.9 0.8 0.7 0.6 0.4 0.2]\n"
     ]
    },
    {
     "data": {
      "image/png": "[encoded data removed]",
      "text/plain": [
       "<Figure size 432x288 with 1 Axes>"
      ]
     },
     "metadata": {
      "needs_background": "light"
     },
     "output_type": "display_data"
    }
   ],
   "source": [
    "fpr,tpr, thresholds= roc_curve(y_true,y_score)\n",
    "print(fqr)\n",
    "print(tpr)\n",
    "print(thresholds)\n",
    "\n",
    "plt.plot(fpr,tpr, marker='o')\n",
    "plt.xlabel('FPR:False positive rate')\n",
    "plt.ylabel('TPR:True positive rate')\n",
    "plt.grid()"
   ]
  },
  {
   "cell_type": "code",
   "execution_count": 123,
   "metadata": {},
   "outputs": [
    {
     "name": "stdout",
     "output_type": "stream",
     "text": [
      "[0.   0.   0.25 0.25 0.5  0.5  1.  ]\n",
      "[0.   0.25 0.25 0.5  0.5  0.75 1.   1.   1.  ]\n",
      "[1.9 0.9 0.8 0.7 0.6 0.5 0.4 0.3 0.2]\n"
     ]
    },
    {
     "data": {
      "image/png": "[encoded data removed]",
      "text/plain": [
       "<Figure size 432x288 with 1 Axes>"
      ]
     },
     "metadata": {
      "needs_background": "light"
     },
     "output_type": "display_data"
    }
   ],
   "source": [
    "fpr,tpr, thresholds= roc_curve(y_true,y_score,drop_intermediate =False)\n",
    "print(fqr)\n",
    "print(tpr)\n",
    "print(thresholds)\n",
    "\n",
    "plt.plot(fpr,tpr, marker='o')\n",
    "plt.xlabel('FPR:False positive rate')\n",
    "plt.ylabel('TPR:True positive rate')\n",
    "plt.grid()"
   ]
  },
  {
   "cell_type": "code",
   "execution_count": 139,
   "metadata": {},
   "outputs": [
    {
     "name": "stdout",
     "output_type": "stream",
     "text": [
      "[False False  True  True False  True  True  True]\n",
      "[0 0 1 1 0 1 1 1]\n"
     ]
    }
   ],
   "source": [
    "from sklearn.metrics import roc_curve, recall_score,confusion_matrix\n",
    "import matplotlib.pyplot as plt\n",
    "import numpy as np\n",
    "import pandas as pd\n",
    "\n",
    "y_true = np.array([0,0,0,0,1,1,1,1])\n",
    "y_score = np.array([0.2,0.3,0.6,0.8,0.4,0.5,0.7,0.9])\n",
    "\n",
    "print(y_score>=0.5) #예측률의 한계값을 0.5로 비교확인\n",
    "\n",
    "print((y_score>=0.5).astype(int)) #정수 0.1로 바꿈"
   ]
  },
  {
   "cell_type": "code",
   "execution_count": 141,
   "metadata": {},
   "outputs": [
    {
     "name": "stdout",
     "output_type": "stream",
     "text": [
      "0.5\n",
      "0.75\n"
     ]
    }
   ],
   "source": [
    "#임의 함수\n",
    "def fpr_score(y_true, y_pred):\n",
    "    tn,fp,fn,tp = confusion_matrix(y_true,y_pred).flatten()\n",
    "    return fp/(tn+fp)\n",
    "\n",
    "print(fpr_score(y_true ,y_score>=0.5)) \n",
    "print(recall_score(y_true, y_score>=0.5))"
   ]
  },
  {
   "cell_type": "code",
   "execution_count": 143,
   "metadata": {},
   "outputs": [
    {
     "name": "stdout",
     "output_type": "stream",
     "text": [
      "0.2\n",
      "[1 1 1 1 1 1 1 1]\n"
     ]
    }
   ],
   "source": [
    "th_min=min(y_score)\n",
    "print(th_min)\n",
    "print((y_score >= th_min).astype(int))"
   ]
  },
  {
   "cell_type": "code",
   "execution_count": 145,
   "metadata": {},
   "outputs": [
    {
     "name": "stdout",
     "output_type": "stream",
     "text": [
      "1.0\n"
     ]
    }
   ],
   "source": [
    "print(fpr_score(y_true, y_score >=th_min))"
   ]
  },
  {
   "cell_type": "code",
   "execution_count": 147,
   "metadata": {},
   "outputs": [
    {
     "name": "stdout",
     "output_type": "stream",
     "text": [
      "1.9\n",
      "[0 0 0 0 0 0 0 0]\n"
     ]
    }
   ],
   "source": [
    "th_max = max(y_score)+1\n",
    "print(th_max)\n",
    "print((y_score >= th_max).astype(int))"
   ]
  },
  {
   "cell_type": "code",
   "execution_count": 165,
   "metadata": {},
   "outputs": [
    {
     "data": {
      "text/html": [
       "<div>\n",
       "<style scoped>\n",
       "    .dataframe tbody tr th:only-of-type {\n",
       "        vertical-align: middle;\n",
       "    }\n",
       "\n",
       "    .dataframe tbody tr th {\n",
       "        vertical-align: top;\n",
       "    }\n",
       "\n",
       "    .dataframe thead th {\n",
       "        text-align: right;\n",
       "    }\n",
       "</style>\n",
       "<table border=\"1\" class=\"dataframe\">\n",
       "  <thead>\n",
       "    <tr style=\"text-align: right;\">\n",
       "      <th></th>\n",
       "      <th>true</th>\n",
       "      <th>score</th>\n",
       "      <th>TPR</th>\n",
       "      <th>FPR</th>\n",
       "    </tr>\n",
       "  </thead>\n",
       "  <tbody>\n",
       "    <tr>\n",
       "      <th>0</th>\n",
       "      <td>0</td>\n",
       "      <td>0.2</td>\n",
       "      <td>1.00</td>\n",
       "      <td>1.00</td>\n",
       "    </tr>\n",
       "    <tr>\n",
       "      <th>1</th>\n",
       "      <td>0</td>\n",
       "      <td>0.3</td>\n",
       "      <td>1.00</td>\n",
       "      <td>0.75</td>\n",
       "    </tr>\n",
       "    <tr>\n",
       "      <th>2</th>\n",
       "      <td>0</td>\n",
       "      <td>0.6</td>\n",
       "      <td>0.50</td>\n",
       "      <td>0.50</td>\n",
       "    </tr>\n",
       "    <tr>\n",
       "      <th>3</th>\n",
       "      <td>0</td>\n",
       "      <td>0.8</td>\n",
       "      <td>0.25</td>\n",
       "      <td>0.25</td>\n",
       "    </tr>\n",
       "    <tr>\n",
       "      <th>4</th>\n",
       "      <td>1</td>\n",
       "      <td>0.4</td>\n",
       "      <td>1.00</td>\n",
       "      <td>0.50</td>\n",
       "    </tr>\n",
       "    <tr>\n",
       "      <th>5</th>\n",
       "      <td>1</td>\n",
       "      <td>0.5</td>\n",
       "      <td>0.75</td>\n",
       "      <td>0.50</td>\n",
       "    </tr>\n",
       "    <tr>\n",
       "      <th>6</th>\n",
       "      <td>1</td>\n",
       "      <td>0.7</td>\n",
       "      <td>0.50</td>\n",
       "      <td>0.25</td>\n",
       "    </tr>\n",
       "    <tr>\n",
       "      <th>7</th>\n",
       "      <td>1</td>\n",
       "      <td>0.9</td>\n",
       "      <td>0.25</td>\n",
       "      <td>0.00</td>\n",
       "    </tr>\n",
       "  </tbody>\n",
       "</table>\n",
       "</div>"
      ],
      "text/plain": [
       "   true  score   TPR   FPR\n",
       "0     0    0.2  1.00  1.00\n",
       "1     0    0.3  1.00  0.75\n",
       "2     0    0.6  0.50  0.50\n",
       "3     0    0.8  0.25  0.25\n",
       "4     1    0.4  1.00  0.50\n",
       "5     1    0.5  0.75  0.50\n",
       "6     1    0.7  0.50  0.25\n",
       "7     1    0.9  0.25  0.00"
      ]
     },
     "execution_count": 165,
     "metadata": {},
     "output_type": "execute_result"
    }
   ],
   "source": [
    "df = pd.DataFrame({'true':y_true,'score':y_score})\n",
    "df['TPR'] = df.apply(lambda row: recall_score(y_true, y_score>= row['score']),axis=1)\n",
    "df['FPR'] = df.apply(lambda row: fpr_score(y_true, y_score>= row['score']),axis=1)\n",
    "df"
   ]
  },
  {
   "cell_type": "code",
   "execution_count": 166,
   "metadata": {},
   "outputs": [
    {
     "data": {
      "text/html": [
       "<div>\n",
       "<style scoped>\n",
       "    .dataframe tbody tr th:only-of-type {\n",
       "        vertical-align: middle;\n",
       "    }\n",
       "\n",
       "    .dataframe tbody tr th {\n",
       "        vertical-align: top;\n",
       "    }\n",
       "\n",
       "    .dataframe thead th {\n",
       "        text-align: right;\n",
       "    }\n",
       "</style>\n",
       "<table border=\"1\" class=\"dataframe\">\n",
       "  <thead>\n",
       "    <tr style=\"text-align: right;\">\n",
       "      <th></th>\n",
       "      <th>th</th>\n",
       "      <th>tpr</th>\n",
       "      <th>fpr</th>\n",
       "    </tr>\n",
       "  </thead>\n",
       "  <tbody>\n",
       "    <tr>\n",
       "      <th>0</th>\n",
       "      <td>1.9</td>\n",
       "      <td>0.00</td>\n",
       "      <td>0.00</td>\n",
       "    </tr>\n",
       "    <tr>\n",
       "      <th>1</th>\n",
       "      <td>0.9</td>\n",
       "      <td>0.25</td>\n",
       "      <td>0.00</td>\n",
       "    </tr>\n",
       "    <tr>\n",
       "      <th>2</th>\n",
       "      <td>0.8</td>\n",
       "      <td>0.25</td>\n",
       "      <td>0.25</td>\n",
       "    </tr>\n",
       "    <tr>\n",
       "      <th>3</th>\n",
       "      <td>0.7</td>\n",
       "      <td>0.50</td>\n",
       "      <td>0.25</td>\n",
       "    </tr>\n",
       "    <tr>\n",
       "      <th>4</th>\n",
       "      <td>0.6</td>\n",
       "      <td>0.50</td>\n",
       "      <td>0.50</td>\n",
       "    </tr>\n",
       "    <tr>\n",
       "      <th>5</th>\n",
       "      <td>0.5</td>\n",
       "      <td>0.75</td>\n",
       "      <td>0.50</td>\n",
       "    </tr>\n",
       "    <tr>\n",
       "      <th>6</th>\n",
       "      <td>0.4</td>\n",
       "      <td>1.00</td>\n",
       "      <td>0.50</td>\n",
       "    </tr>\n",
       "    <tr>\n",
       "      <th>7</th>\n",
       "      <td>0.3</td>\n",
       "      <td>1.00</td>\n",
       "      <td>0.75</td>\n",
       "    </tr>\n",
       "    <tr>\n",
       "      <th>8</th>\n",
       "      <td>0.2</td>\n",
       "      <td>1.00</td>\n",
       "      <td>1.00</td>\n",
       "    </tr>\n",
       "  </tbody>\n",
       "</table>\n",
       "</div>"
      ],
      "text/plain": [
       "    th   tpr   fpr\n",
       "0  1.9  0.00  0.00\n",
       "1  0.9  0.25  0.00\n",
       "2  0.8  0.25  0.25\n",
       "3  0.7  0.50  0.25\n",
       "4  0.6  0.50  0.50\n",
       "5  0.5  0.75  0.50\n",
       "6  0.4  1.00  0.50\n",
       "7  0.3  1.00  0.75\n",
       "8  0.2  1.00  1.00"
      ]
     },
     "execution_count": 166,
     "metadata": {},
     "output_type": "execute_result"
    }
   ],
   "source": [
    "#연산결과 판다스로 호출 위에보다 더 간단하다\n",
    "y_true = np.array([0,0,0,0,1,1,1,1])\n",
    "y_score = np.array([0.2,0.3,0.6,0.8,0.4,0.5,0.7,0.9])\n",
    "fpr,tpr, th= roc_curve(y_true,y_score,drop_intermediate =False)\n",
    "df_res = pd.DataFrame({'th':th,'tpr':tpr,'fpr':fpr})\n",
    "df_res"
   ]
  },
  {
   "cell_type": "code",
   "execution_count": null,
   "metadata": {},
   "outputs": [],
   "source": []
  },
  {
   "cell_type": "code",
   "execution_count": null,
   "metadata": {},
   "outputs": [],
   "source": []
  }
 ],
 "metadata": {
  "kernelspec": {
   "display_name": "Python 3",
   "language": "python",
   "name": "python3"
  },
  "language_info": {
   "codemirror_mode": {
    "name": "ipython",
    "version": 3
   },
   "file_extension": ".py",
   "mimetype": "text/x-python",
   "name": "python",
   "nbconvert_exporter": "python",
   "pygments_lexer": "ipython3",
   "version": "3.8.5"
  }
 },
 "nbformat": 4,
 "nbformat_minor": 4
}
