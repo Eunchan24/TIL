{
 "cells": [
  {
   "cell_type": "code",
   "execution_count": 1,
   "id": "universal-logic",
   "metadata": {},
   "outputs": [],
   "source": [
    "#바텀업"
   ]
  },
  {
   "cell_type": "code",
   "execution_count": 42,
   "id": "expired-symposium",
   "metadata": {},
   "outputs": [],
   "source": [
    "dp = [0 for x in range(1000)]"
   ]
  },
  {
   "cell_type": "code",
   "execution_count": 43,
   "id": "therapeutic-phone",
   "metadata": {},
   "outputs": [],
   "source": [
    "def fib(n):\n",
    "    dp[0] = 0\n",
    "    dp[1] = 1\n",
    "    \n",
    "    for i in range(2, n+1):\n",
    "        dp[i] = dp[i-1] +dp[i -2]\n",
    "    \n",
    "    return dp[n]"
   ]
  },
  {
   "cell_type": "code",
   "execution_count": 44,
   "id": "demographic-prime",
   "metadata": {},
   "outputs": [
    {
     "name": "stdout",
     "output_type": "stream",
     "text": [
      "13.6 µs ± 29.6 ns per loop (mean ± std. dev. of 7 runs, 100000 loops each)\n"
     ]
    }
   ],
   "source": [
    "%%timeit\n",
    "fib(100)"
   ]
  },
  {
   "cell_type": "code",
   "execution_count": 45,
   "id": "flying-fetish",
   "metadata": {},
   "outputs": [],
   "source": [
    "#탑다운\n",
    "#재귀 -> 호출한 값들을 스택매모리에 올리기때문에  스택메모리에 용량을 확인할것 "
   ]
  },
  {
   "cell_type": "code",
   "execution_count": 48,
   "id": "bright-gamma",
   "metadata": {},
   "outputs": [],
   "source": [
    "dp = [0 for x in range(1000)]\n",
    "def fib(n):\n",
    "    if n <= 1:\n",
    "        return n\n",
    "    \n",
    "    if dp[n]:\n",
    "        return dp[n]\n",
    "    dp[n] = fib(n-1) + fib(n-2)\n",
    "    return dp[n]\n"
   ]
  },
  {
   "cell_type": "code",
   "execution_count": 49,
   "id": "parental-pregnancy",
   "metadata": {},
   "outputs": [
    {
     "name": "stdout",
     "output_type": "stream",
     "text": [
      "129 ns ± 0.353 ns per loop (mean ± std. dev. of 7 runs, 10000000 loops each)\n"
     ]
    }
   ],
   "source": [
    "%%timeit\n",
    "fib(100)"
   ]
  },
  {
   "cell_type": "code",
   "execution_count": 53,
   "id": "happy-commitment",
   "metadata": {},
   "outputs": [],
   "source": [
    "#계단오르기 문제\n",
    "#재귀방법\n",
    "def climb(n):\n",
    "    if n == 1:\n",
    "        return 1\n",
    "    if n == 2:\n",
    "        return 2\n",
    "    \n",
    "    return climb(n-1) + climb(n-2)"
   ]
  },
  {
   "cell_type": "code",
   "execution_count": 54,
   "id": "yellow-converter",
   "metadata": {},
   "outputs": [
    {
     "data": {
      "text/plain": [
       "89"
      ]
     },
     "execution_count": 54,
     "metadata": {},
     "output_type": "execute_result"
    }
   ],
   "source": [
    "climb(10)"
   ]
  },
  {
   "cell_type": "code",
   "execution_count": 55,
   "id": "faced-holiday",
   "metadata": {},
   "outputs": [],
   "source": [
    "from collections import defaultdict"
   ]
  },
  {
   "cell_type": "code",
   "execution_count": 78,
   "id": "designing-reader",
   "metadata": {},
   "outputs": [],
   "source": [
    "# defaultdict 키값이없어도 에러가 안든다.\n",
    "dp = defaultdict(int)"
   ]
  },
  {
   "cell_type": "code",
   "execution_count": 79,
   "id": "satisfactory-dialogue",
   "metadata": {},
   "outputs": [],
   "source": [
    "dp['a'] = 2"
   ]
  },
  {
   "cell_type": "code",
   "execution_count": 80,
   "id": "extraordinary-august",
   "metadata": {},
   "outputs": [
    {
     "data": {
      "text/plain": [
       "0"
      ]
     },
     "execution_count": 80,
     "metadata": {},
     "output_type": "execute_result"
    }
   ],
   "source": [
    "dp['b']"
   ]
  },
  {
   "cell_type": "code",
   "execution_count": 88,
   "id": "empirical-literacy",
   "metadata": {},
   "outputs": [],
   "source": [
    "def climb2(n):\n",
    "    if n <= 2:\n",
    "        return n\n",
    "    if dp[n]:\n",
    "        return dp[n]\n",
    "    dp[n] = climb2(n-1) + climb2(n-2)\n",
    "    return dp[n]"
   ]
  },
  {
   "cell_type": "code",
   "execution_count": 94,
   "id": "prompt-knitting",
   "metadata": {},
   "outputs": [
    {
     "name": "stdout",
     "output_type": "stream",
     "text": [
      "148 ns ± 0.407 ns per loop (mean ± std. dev. of 7 runs, 10000000 loops each)\n"
     ]
    }
   ],
   "source": [
    "%%timeit\n",
    "climb2(10)"
   ]
  },
  {
   "cell_type": "code",
   "execution_count": 95,
   "id": "entitled-polls",
   "metadata": {},
   "outputs": [
    {
     "name": "stdout",
     "output_type": "stream",
     "text": [
      "12 µs ± 48.9 ns per loop (mean ± std. dev. of 7 runs, 100000 loops each)\n"
     ]
    }
   ],
   "source": [
    "%%timeit\n",
    "climb(10)"
   ]
  },
  {
   "cell_type": "code",
   "execution_count": 108,
   "id": "governmental-announcement",
   "metadata": {},
   "outputs": [],
   "source": [
    "n = [1,2,3,1]\n",
    "def dd(n):\n",
    "    dp = [0 for _ in range(len(n))]\n",
    "    if not n:\n",
    "        return 0\n",
    "    if len(n) == 2:\n",
    "        return max(n)\n",
    "    dp[0],dp[1] = n[0],max([n[0],[1]])\n",
    "    for i in range(2, len(n)):\n",
    "        return dp.pop()"
   ]
  },
  {
   "cell_type": "code",
   "execution_count": 116,
   "id": "expanded-offering",
   "metadata": {},
   "outputs": [],
   "source": [
    "from collections import OrderedDict"
   ]
  },
  {
   "cell_type": "code",
   "execution_count": 118,
   "id": "aggressive-course",
   "metadata": {},
   "outputs": [],
   "source": [
    "a = {}"
   ]
  },
  {
   "cell_type": "code",
   "execution_count": 120,
   "id": "processed-parent",
   "metadata": {},
   "outputs": [],
   "source": [
    "a['가'] = 10"
   ]
  },
  {
   "cell_type": "code",
   "execution_count": 121,
   "id": "blocked-arkansas",
   "metadata": {},
   "outputs": [],
   "source": [
    "a['나'] = 20"
   ]
  },
  {
   "cell_type": "code",
   "execution_count": 122,
   "id": "authorized-opinion",
   "metadata": {},
   "outputs": [],
   "source": [
    "a['카'] = 30"
   ]
  },
  {
   "cell_type": "code",
   "execution_count": 125,
   "id": "adjusted-blend",
   "metadata": {},
   "outputs": [],
   "source": [
    "b = OrderedDict()"
   ]
  },
  {
   "cell_type": "code",
   "execution_count": 129,
   "id": "bulgarian-masters",
   "metadata": {},
   "outputs": [],
   "source": [
    "def rob(target):\n",
    "    if not target:\n",
    "        return 0\n",
    "    if len(target) <= 2:\n",
    "        return max(target)\n",
    "    \n",
    "    dp = {}\n",
    "    dp[0], dp[1] = target[0], max(target[0], target[1])\n",
    "    for i in range(2, len(target)):\n",
    "        dp[i] = max(dp[i-1], dp[i-2] + target[i])\n",
    "        \n",
    "    return dp.popitem()[1]\n"
   ]
  },
  {
   "cell_type": "code",
   "execution_count": 131,
   "id": "political-porcelain",
   "metadata": {},
   "outputs": [
    {
     "data": {
      "text/plain": [
       "12"
      ]
     },
     "execution_count": 131,
     "metadata": {},
     "output_type": "execute_result"
    }
   ],
   "source": [
    "rob([2,7,9,3,1])"
   ]
  },
  {
   "cell_type": "markdown",
   "id": "allied-diversity",
   "metadata": {},
   "source": [
    "## packing, unpacking"
   ]
  },
  {
   "cell_type": "code",
   "execution_count": 132,
   "id": "heated-navigator",
   "metadata": {},
   "outputs": [],
   "source": [
    "a, b =[1, 2]"
   ]
  },
  {
   "cell_type": "code",
   "execution_count": 133,
   "id": "active-advertising",
   "metadata": {},
   "outputs": [
    {
     "data": {
      "text/plain": [
       "1"
      ]
     },
     "execution_count": 133,
     "metadata": {},
     "output_type": "execute_result"
    }
   ],
   "source": [
    "a"
   ]
  },
  {
   "cell_type": "code",
   "execution_count": 134,
   "id": "entitled-finance",
   "metadata": {},
   "outputs": [
    {
     "data": {
      "text/plain": [
       "2"
      ]
     },
     "execution_count": 134,
     "metadata": {},
     "output_type": "execute_result"
    }
   ],
   "source": [
    "b"
   ]
  },
  {
   "cell_type": "code",
   "execution_count": null,
   "id": "wireless-private",
   "metadata": {},
   "outputs": [],
   "source": []
  }
 ],
 "metadata": {
  "kernelspec": {
   "display_name": "Python 3",
   "language": "python",
   "name": "python3"
  },
  "language_info": {
   "codemirror_mode": {
    "name": "ipython",
    "version": 3
   },
   "file_extension": ".py",
   "mimetype": "text/x-python",
   "name": "python",
   "nbconvert_exporter": "python",
   "pygments_lexer": "ipython3",
   "version": "3.8.5"
  }
 },
 "nbformat": 4,
 "nbformat_minor": 5
}
