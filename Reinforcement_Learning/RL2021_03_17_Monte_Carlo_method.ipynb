{
 "cells": [
  {
   "cell_type": "code",
   "execution_count": 4,
   "id": "capital-dividend",
   "metadata": {},
   "outputs": [],
   "source": [
    "#몬테카를로방법\n",
    "import random"
   ]
  },
  {
   "cell_type": "code",
   "execution_count": 11,
   "id": "linear-wrapping",
   "metadata": {},
   "outputs": [],
   "source": [
    "no_sw_win = list()\n",
    "sw_win = list()\n",
    "doors = {'A', 'B', 'C'}\n",
    "count = 100000000\n",
    "\n",
    "for x in range(count):\n",
    "    #상품 있는 문\n",
    "    prize = random.sample(doors,1)\n",
    "    \n",
    "    #플레이어가 선택할 문\n",
    "    pick = random.sample(doors,1)\n",
    "    \n",
    "    tmp_set = set()\n",
    "    tmp_set.add(prize[0])\n",
    "    tmp_set.add(pick[0])\n",
    "    \n",
    "    #진행자가 문을 오픈하죠\n",
    "    open_door = random.sample(doors - tmp_set,1)\n",
    "    \n",
    "    sw = doors - set(open_door) - set(pick)\n",
    "    \n",
    "    # 그대로 go \n",
    "    if (pick==prize):\n",
    "        no_sw_win.append('Win')\n",
    "        \n",
    "    #무슨소리야 확률이 올라가니까 바꿔야지\n",
    "    if(list(sw)== prize):\n",
    "        sw_win.append('Win')\n",
    "        "
   ]
  },
  {
   "cell_type": "code",
   "execution_count": 12,
   "id": "norwegian-professor",
   "metadata": {},
   "outputs": [
    {
     "data": {
      "text/plain": [
       "0.33337261"
      ]
     },
     "execution_count": 12,
     "metadata": {},
     "output_type": "execute_result"
    }
   ],
   "source": [
    "len(no_sw_win)/count"
   ]
  },
  {
   "cell_type": "code",
   "execution_count": 13,
   "id": "unauthorized-subscription",
   "metadata": {},
   "outputs": [
    {
     "data": {
      "text/plain": [
       "0.66662739"
      ]
     },
     "execution_count": 13,
     "metadata": {},
     "output_type": "execute_result"
    }
   ],
   "source": [
    "len(sw_win)/count"
   ]
  },
  {
   "cell_type": "code",
   "execution_count": null,
   "id": "tough-picture",
   "metadata": {},
   "outputs": [],
   "source": []
  }
 ],
 "metadata": {
  "kernelspec": {
   "display_name": "Python 3",
   "language": "python",
   "name": "python3"
  },
  "language_info": {
   "codemirror_mode": {
    "name": "ipython",
    "version": 3
   },
   "file_extension": ".py",
   "mimetype": "text/x-python",
   "name": "python",
   "nbconvert_exporter": "python",
   "pygments_lexer": "ipython3",
   "version": "3.8.5"
  }
 },
 "nbformat": 4,
 "nbformat_minor": 5
}
